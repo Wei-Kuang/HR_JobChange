{
 "cells": [
  {
   "cell_type": "markdown",
   "metadata": {},
   "source": [
    "# HR Analytics: Job Change of Data Scientists\n",
    "\n",
    "**reference** https://www.kaggle.com/sathianpong/hr-analytics-predict-who-is-looking-for-a-new-job"
   ]
  },
  {
   "cell_type": "markdown",
   "metadata": {},
   "source": [
    "## Data Preprocessing"
   ]
  },
  {
   "cell_type": "markdown",
   "metadata": {},
   "source": [
    "## Modules"
   ]
  },
  {
   "cell_type": "code",
   "execution_count": 1,
   "metadata": {},
   "outputs": [
    {
     "name": "stdout",
     "output_type": "stream",
     "text": [
      "C:\\Users\\15177\\Python_Project\\HR_Analysis\n"
     ]
    }
   ],
   "source": [
    "import numpy as np\n",
    "import pandas as pd\n",
    "\n",
    "# data visualization\n",
    "import pylab as pl\n",
    "import matplotlib.pyplot as plt \n",
    "%matplotlib inline\n",
    "import seaborn as sns\n",
    "\n",
    "# use ggplot in python\n",
    "from plotnine import *\n",
    "\n",
    "import os # Set the working directory\n",
    "print (os.getcwd())"
   ]
  },
  {
   "cell_type": "code",
   "execution_count": 2,
   "metadata": {},
   "outputs": [],
   "source": [
    "# Synthetic Minority Oversampling Technique for minior class\n",
    "from imblearn.over_sampling import SMOTE"
   ]
  },
  {
   "cell_type": "markdown",
   "metadata": {},
   "source": [
    "## 0) Data Loading"
   ]
  },
  {
   "cell_type": "code",
   "execution_count": 3,
   "metadata": {
    "scrolled": true
   },
   "outputs": [
    {
     "data": {
      "text/html": [
       "<div>\n",
       "<style scoped>\n",
       "    .dataframe tbody tr th:only-of-type {\n",
       "        vertical-align: middle;\n",
       "    }\n",
       "\n",
       "    .dataframe tbody tr th {\n",
       "        vertical-align: top;\n",
       "    }\n",
       "\n",
       "    .dataframe thead th {\n",
       "        text-align: right;\n",
       "    }\n",
       "</style>\n",
       "<table border=\"1\" class=\"dataframe\">\n",
       "  <thead>\n",
       "    <tr style=\"text-align: right;\">\n",
       "      <th></th>\n",
       "      <th>enrollee_id</th>\n",
       "      <th>city</th>\n",
       "      <th>city_development_index</th>\n",
       "      <th>gender</th>\n",
       "      <th>relevent_experience</th>\n",
       "      <th>enrolled_university</th>\n",
       "      <th>education_level</th>\n",
       "      <th>major_discipline</th>\n",
       "      <th>experience</th>\n",
       "      <th>company_size</th>\n",
       "      <th>company_type</th>\n",
       "      <th>last_new_job</th>\n",
       "      <th>training_hours</th>\n",
       "      <th>target</th>\n",
       "    </tr>\n",
       "  </thead>\n",
       "  <tbody>\n",
       "    <tr>\n",
       "      <th>0</th>\n",
       "      <td>8949</td>\n",
       "      <td>city_103</td>\n",
       "      <td>0.920</td>\n",
       "      <td>Male</td>\n",
       "      <td>Has relevent experience</td>\n",
       "      <td>no_enrollment</td>\n",
       "      <td>Graduate</td>\n",
       "      <td>STEM</td>\n",
       "      <td>&gt;20</td>\n",
       "      <td>NaN</td>\n",
       "      <td>NaN</td>\n",
       "      <td>1</td>\n",
       "      <td>36</td>\n",
       "      <td>1.0</td>\n",
       "    </tr>\n",
       "    <tr>\n",
       "      <th>1</th>\n",
       "      <td>29725</td>\n",
       "      <td>city_40</td>\n",
       "      <td>0.776</td>\n",
       "      <td>Male</td>\n",
       "      <td>No relevent experience</td>\n",
       "      <td>no_enrollment</td>\n",
       "      <td>Graduate</td>\n",
       "      <td>STEM</td>\n",
       "      <td>15</td>\n",
       "      <td>50-99</td>\n",
       "      <td>Pvt Ltd</td>\n",
       "      <td>&gt;4</td>\n",
       "      <td>47</td>\n",
       "      <td>0.0</td>\n",
       "    </tr>\n",
       "    <tr>\n",
       "      <th>2</th>\n",
       "      <td>11561</td>\n",
       "      <td>city_21</td>\n",
       "      <td>0.624</td>\n",
       "      <td>NaN</td>\n",
       "      <td>No relevent experience</td>\n",
       "      <td>Full time course</td>\n",
       "      <td>Graduate</td>\n",
       "      <td>STEM</td>\n",
       "      <td>5</td>\n",
       "      <td>NaN</td>\n",
       "      <td>NaN</td>\n",
       "      <td>never</td>\n",
       "      <td>83</td>\n",
       "      <td>0.0</td>\n",
       "    </tr>\n",
       "    <tr>\n",
       "      <th>3</th>\n",
       "      <td>33241</td>\n",
       "      <td>city_115</td>\n",
       "      <td>0.789</td>\n",
       "      <td>NaN</td>\n",
       "      <td>No relevent experience</td>\n",
       "      <td>NaN</td>\n",
       "      <td>Graduate</td>\n",
       "      <td>Business Degree</td>\n",
       "      <td>&lt;1</td>\n",
       "      <td>NaN</td>\n",
       "      <td>Pvt Ltd</td>\n",
       "      <td>never</td>\n",
       "      <td>52</td>\n",
       "      <td>1.0</td>\n",
       "    </tr>\n",
       "    <tr>\n",
       "      <th>4</th>\n",
       "      <td>666</td>\n",
       "      <td>city_162</td>\n",
       "      <td>0.767</td>\n",
       "      <td>Male</td>\n",
       "      <td>Has relevent experience</td>\n",
       "      <td>no_enrollment</td>\n",
       "      <td>Masters</td>\n",
       "      <td>STEM</td>\n",
       "      <td>&gt;20</td>\n",
       "      <td>50-99</td>\n",
       "      <td>Funded Startup</td>\n",
       "      <td>4</td>\n",
       "      <td>8</td>\n",
       "      <td>0.0</td>\n",
       "    </tr>\n",
       "  </tbody>\n",
       "</table>\n",
       "</div>"
      ],
      "text/plain": [
       "   enrollee_id      city  city_development_index gender  \\\n",
       "0         8949  city_103                   0.920   Male   \n",
       "1        29725   city_40                   0.776   Male   \n",
       "2        11561   city_21                   0.624    NaN   \n",
       "3        33241  city_115                   0.789    NaN   \n",
       "4          666  city_162                   0.767   Male   \n",
       "\n",
       "       relevent_experience enrolled_university education_level  \\\n",
       "0  Has relevent experience       no_enrollment        Graduate   \n",
       "1   No relevent experience       no_enrollment        Graduate   \n",
       "2   No relevent experience    Full time course        Graduate   \n",
       "3   No relevent experience                 NaN        Graduate   \n",
       "4  Has relevent experience       no_enrollment         Masters   \n",
       "\n",
       "  major_discipline experience company_size    company_type last_new_job  \\\n",
       "0             STEM        >20          NaN             NaN            1   \n",
       "1             STEM         15        50-99         Pvt Ltd           >4   \n",
       "2             STEM          5          NaN             NaN        never   \n",
       "3  Business Degree         <1          NaN         Pvt Ltd        never   \n",
       "4             STEM        >20        50-99  Funded Startup            4   \n",
       "\n",
       "   training_hours  target  \n",
       "0              36     1.0  \n",
       "1              47     0.0  \n",
       "2              83     0.0  \n",
       "3              52     1.0  \n",
       "4               8     0.0  "
      ]
     },
     "execution_count": 3,
     "metadata": {},
     "output_type": "execute_result"
    }
   ],
   "source": [
    "data= pd.read_csv('C:/Users/15177/Python_Project/HR_Analysis/Data/aug_train.csv')\n",
    "data.head()"
   ]
  },
  {
   "cell_type": "markdown",
   "metadata": {},
   "source": [
    "# 1) Checking missing percentage and data type"
   ]
  },
  {
   "cell_type": "code",
   "execution_count": 4,
   "metadata": {},
   "outputs": [
    {
     "data": {
      "text/html": [
       "<div>\n",
       "<style scoped>\n",
       "    .dataframe tbody tr th:only-of-type {\n",
       "        vertical-align: middle;\n",
       "    }\n",
       "\n",
       "    .dataframe tbody tr th {\n",
       "        vertical-align: top;\n",
       "    }\n",
       "\n",
       "    .dataframe thead th {\n",
       "        text-align: right;\n",
       "    }\n",
       "</style>\n",
       "<table border=\"1\" class=\"dataframe\">\n",
       "  <thead>\n",
       "    <tr style=\"text-align: right;\">\n",
       "      <th></th>\n",
       "      <th>index</th>\n",
       "      <th>missing_pct</th>\n",
       "      <th>data_type</th>\n",
       "    </tr>\n",
       "  </thead>\n",
       "  <tbody>\n",
       "    <tr>\n",
       "      <th>10</th>\n",
       "      <td>company_type</td>\n",
       "      <td>32.049274</td>\n",
       "      <td>object</td>\n",
       "    </tr>\n",
       "    <tr>\n",
       "      <th>9</th>\n",
       "      <td>company_size</td>\n",
       "      <td>30.994885</td>\n",
       "      <td>object</td>\n",
       "    </tr>\n",
       "    <tr>\n",
       "      <th>3</th>\n",
       "      <td>gender</td>\n",
       "      <td>23.530640</td>\n",
       "      <td>object</td>\n",
       "    </tr>\n",
       "    <tr>\n",
       "      <th>7</th>\n",
       "      <td>major_discipline</td>\n",
       "      <td>14.683161</td>\n",
       "      <td>object</td>\n",
       "    </tr>\n",
       "    <tr>\n",
       "      <th>6</th>\n",
       "      <td>education_level</td>\n",
       "      <td>2.401086</td>\n",
       "      <td>object</td>\n",
       "    </tr>\n",
       "    <tr>\n",
       "      <th>11</th>\n",
       "      <td>last_new_job</td>\n",
       "      <td>2.207955</td>\n",
       "      <td>object</td>\n",
       "    </tr>\n",
       "    <tr>\n",
       "      <th>5</th>\n",
       "      <td>enrolled_university</td>\n",
       "      <td>2.014824</td>\n",
       "      <td>object</td>\n",
       "    </tr>\n",
       "    <tr>\n",
       "      <th>8</th>\n",
       "      <td>experience</td>\n",
       "      <td>0.339284</td>\n",
       "      <td>object</td>\n",
       "    </tr>\n",
       "    <tr>\n",
       "      <th>0</th>\n",
       "      <td>enrollee_id</td>\n",
       "      <td>0.000000</td>\n",
       "      <td>int64</td>\n",
       "    </tr>\n",
       "    <tr>\n",
       "      <th>1</th>\n",
       "      <td>city</td>\n",
       "      <td>0.000000</td>\n",
       "      <td>object</td>\n",
       "    </tr>\n",
       "    <tr>\n",
       "      <th>2</th>\n",
       "      <td>city_development_index</td>\n",
       "      <td>0.000000</td>\n",
       "      <td>float64</td>\n",
       "    </tr>\n",
       "    <tr>\n",
       "      <th>4</th>\n",
       "      <td>relevent_experience</td>\n",
       "      <td>0.000000</td>\n",
       "      <td>object</td>\n",
       "    </tr>\n",
       "    <tr>\n",
       "      <th>12</th>\n",
       "      <td>training_hours</td>\n",
       "      <td>0.000000</td>\n",
       "      <td>int64</td>\n",
       "    </tr>\n",
       "    <tr>\n",
       "      <th>13</th>\n",
       "      <td>target</td>\n",
       "      <td>0.000000</td>\n",
       "      <td>float64</td>\n",
       "    </tr>\n",
       "  </tbody>\n",
       "</table>\n",
       "</div>"
      ],
      "text/plain": [
       "                     index  missing_pct data_type\n",
       "10            company_type    32.049274    object\n",
       "9             company_size    30.994885    object\n",
       "3                   gender    23.530640    object\n",
       "7         major_discipline    14.683161    object\n",
       "6          education_level     2.401086    object\n",
       "11            last_new_job     2.207955    object\n",
       "5      enrolled_university     2.014824    object\n",
       "8               experience     0.339284    object\n",
       "0              enrollee_id     0.000000     int64\n",
       "1                     city     0.000000    object\n",
       "2   city_development_index     0.000000   float64\n",
       "4      relevent_experience     0.000000    object\n",
       "12          training_hours     0.000000     int64\n",
       "13                  target     0.000000   float64"
      ]
     },
     "execution_count": 4,
     "metadata": {},
     "output_type": "execute_result"
    }
   ],
   "source": [
    "pds_missing_pct = data.isnull().sum() / len(data) * 100\n",
    "pds_data_type = data.dtypes\n",
    "\n",
    "my_dct = {'index':      pds_missing_pct.index,\n",
    "          'missing_pct':pds_missing_pct.values, \n",
    "          'data_type':  pds_data_type.values}\n",
    "\n",
    "pd.DataFrame(my_dct).sort_values(by= ['missing_pct'],ascending=False)"
   ]
  },
  {
   "cell_type": "markdown",
   "metadata": {},
   "source": [
    "# 2) Remove unneeded features\n",
    "I remove participant's id (enrollee_id) which is a unneeded feature."
   ]
  },
  {
   "cell_type": "code",
   "execution_count": 5,
   "metadata": {},
   "outputs": [
    {
     "data": {
      "text/plain": [
       "False"
      ]
     },
     "execution_count": 5,
     "metadata": {},
     "output_type": "execute_result"
    }
   ],
   "source": [
    "data.drop('enrollee_id', axis=1,  inplace= True) # Otherwise, do operation inplace and return None.\n",
    "\n",
    "# check\n",
    "'enrollee_id' in data"
   ]
  },
  {
   "cell_type": "markdown",
   "metadata": {},
   "source": [
    "# 3) Distinguish categorical and continuous variables.\n"
   ]
  },
  {
   "cell_type": "markdown",
   "metadata": {},
   "source": [
    "**Categorical variables** \n",
    "\n",
    "    Ordinal data\n",
    "    1. education_level            \n",
    "    2. experience             \n",
    "    3. company_size           \n",
    "    4. last_new_job                                \n",
    "  \n",
    "    Nominal data (cateogrical and non-ordinal data)\n",
    "    1. city                   \n",
    "    2. gender                                        \n",
    "    3. relevent_experience\n",
    "    4. enrolled_university    \n",
    "    5. major_discipline       \n",
    "    6. company_type           \n",
    "\n",
    "**Continuous variables**\n",
    "\n",
    "1. city_development_index\n",
    "2. training_hours\n",
    "3. target [This is the outcome y]"
   ]
  },
  {
   "cell_type": "code",
   "execution_count": 6,
   "metadata": {},
   "outputs": [
    {
     "data": {
      "text/plain": [
       "Index(['city', 'gender', 'relevent_experience', 'enrolled_university',\n",
       "       'education_level', 'major_discipline', 'experience', 'company_size',\n",
       "       'company_type', 'last_new_job'],\n",
       "      dtype='object')"
      ]
     },
     "execution_count": 6,
     "metadata": {},
     "output_type": "execute_result"
    }
   ],
   "source": [
    "# Find catgorical data\n",
    "data.select_dtypes(include='object').columns"
   ]
  },
  {
   "cell_type": "code",
   "execution_count": 7,
   "metadata": {},
   "outputs": [
    {
     "data": {
      "text/plain": [
       "city                   [city_103, city_40, city_21, city_115, city_16...\n",
       "gender                                        [Male, nan, Female, Other]\n",
       "relevent_experience    [Has relevent experience, No relevent experience]\n",
       "enrolled_university    [no_enrollment, Full time course, nan, Part ti...\n",
       "education_level        [Graduate, Masters, High School, nan, Phd, Pri...\n",
       "major_discipline       [STEM, Business Degree, nan, Arts, Humanities,...\n",
       "experience             [>20, 15, 5, <1, 11, 13, 7, 17, 2, 16, 1, 4, 1...\n",
       "company_size           [nan, 50-99, <10, 10000+, 5000-9999, 1000-4999...\n",
       "company_type           [nan, Pvt Ltd, Funded Startup, Early Stage Sta...\n",
       "last_new_job                                [1, >4, never, 4, 3, 2, nan]\n",
       "dtype: object"
      ]
     },
     "execution_count": 7,
     "metadata": {},
     "output_type": "execute_result"
    }
   ],
   "source": [
    "# Find ordinal data by investigating the classes\n",
    "def f_unique(pd):\n",
    "    return(pd.unique())\n",
    "\n",
    "data.select_dtypes(include='object').apply( f_unique, axis=0 )"
   ]
  },
  {
   "cell_type": "code",
   "execution_count": 8,
   "metadata": {},
   "outputs": [
    {
     "data": {
      "text/plain": [
       "Index(['city_development_index', 'training_hours', 'target'], dtype='object')"
      ]
     },
     "execution_count": 8,
     "metadata": {},
     "output_type": "execute_result"
    }
   ],
   "source": [
    "# Find continuous data\n",
    "data.select_dtypes(exclude='object').columns"
   ]
  },
  {
   "cell_type": "markdown",
   "metadata": {},
   "source": [
    "**Split in to three dataset by data type** because the data preprocessing is different."
   ]
  },
  {
   "cell_type": "code",
   "execution_count": 9,
   "metadata": {},
   "outputs": [],
   "source": [
    "df_cont = data.select_dtypes(exclude='object')\n",
    "df_cate = data.select_dtypes(include='object')"
   ]
  },
  {
   "cell_type": "markdown",
   "metadata": {},
   "source": [
    "# 4) Impute missing values\n",
    "\n",
    "**Action Plan**\n",
    "1. Let's impute missing values for categorical data by filling NA with 'No'. \n",
    "2. In this dataset, continuous data have no missing values, so imputation for continuous variable is not needed."
   ]
  },
  {
   "cell_type": "code",
   "execution_count": 10,
   "metadata": {},
   "outputs": [],
   "source": [
    "df_cate = df_cate.fillna('No')"
   ]
  },
  {
   "cell_type": "code",
   "execution_count": 11,
   "metadata": {},
   "outputs": [],
   "source": [
    "# In company_size (categorical data), \"10/49\" should shoud be \"10-49\" \n",
    "df_cate['company_size'] = df_cate['company_size'].replace('10/49', '10-49')  # replace(A,B) -> Map A to B"
   ]
  },
  {
   "cell_type": "code",
   "execution_count": 12,
   "metadata": {},
   "outputs": [],
   "source": [
    "# fill NaN in categorical data as \"No\"\n",
    "category_notNull =df_cate.copy()\n",
    "df_cate_nonull =df_cate.copy()"
   ]
  },
  {
   "cell_type": "markdown",
   "metadata": {},
   "source": [
    "# 5) Encode \"ordinal variables\"\n",
    "**sklearn.preprocessing.OrdinalEncoder**\n",
    "\n",
    "Encode categorical features as an integer array. This results in a single column of integers (0 to n_categories - 1) per feature.\n",
    "\n",
    "reference: https://machinelearningmastery.com/one-hot-encoding-for-categorical-data/"
   ]
  },
  {
   "cell_type": "code",
   "execution_count": 13,
   "metadata": {
    "scrolled": true
   },
   "outputs": [
    {
     "name": "stdout",
     "output_type": "stream",
     "text": [
      "education_level\n",
      "['Graduate' 'High School' 'Masters' 'No' 'Phd' 'Primary School']\n",
      "      \n",
      "experience\n",
      "['1' '10' '11' '12' '13' '14' '15' '16' '17' '18' '19' '2' '20' '3' '4'\n",
      " '5' '6' '7' '8' '9' '<1' '>20' 'No']\n",
      "      \n",
      "company_size\n",
      "['10-49' '100-500' '1000-4999' '10000+' '50-99' '500-999' '5000-9999'\n",
      " '<10' 'No']\n",
      "      \n",
      "last_new_job\n",
      "['1' '2' '3' '4' '>4' 'No' 'never']\n",
      "      \n"
     ]
    }
   ],
   "source": [
    "# Select the ordinal categorical variables\n",
    "df_cate_nonull_ord = df_cate_nonull[['education_level', 'experience', 'company_size', 'last_new_job']]\n",
    "\n",
    "output = df_cate_nonull_ord.apply(lambda x: np.unique(x) , axis=0)\n",
    "output\n",
    "\n",
    "# check\n",
    "for i,j in zip( range( len(output)) , output) :\n",
    "    print(output.index[i])\n",
    "    print(j)\n",
    "    print('      ')"
   ]
  },
  {
   "cell_type": "markdown",
   "metadata": {},
   "source": [
    "**Determine the order for ordinal variable**"
   ]
  },
  {
   "cell_type": "code",
   "execution_count": 14,
   "metadata": {},
   "outputs": [
    {
     "name": "stderr",
     "output_type": "stream",
     "text": [
      "C:\\Users\\15177\\Anaconda3\\lib\\site-packages\\sklearn\\utils\\validation.py:70: FutureWarning: Pass categories=[['No', 'Primary School', 'High School', 'Graduate', 'Masters', 'Phd'], ['No', '<1', '1', '2', '3', '4', '5', '6', '7', '8', '9', '10', '11', '12', '13', '14', '15', '16', '17', '18', '19', '20', '>20'], ['No', '<10', '10-49', '50-99', '100-500', '500-999', '1000-4999', '5000-9999', '10000+'], ['No', '1', '2', '3', '4', '>4', 'never']] as keyword args. From version 1.0 (renaming of 0.25) passing these as positional arguments will result in an error\n"
     ]
    }
   ],
   "source": [
    "from sklearn.preprocessing import OrdinalEncoder\n",
    "\n",
    "# set up a algorithm to reorder the class within each ordinal variable\n",
    "Alg_OrdinalEncoder = OrdinalEncoder([\n",
    "    # education_level\n",
    "    ['No', 'Primary School',  'High School', 'Graduate', 'Masters', 'Phd'],\n",
    "    \n",
    "    # 'experience'\n",
    "    'No,<1,1,2,3,4,5,6,7,8,9,10,11,12,13,14,15,16,17,18,19,20,>20'.split(','),\n",
    "    \n",
    "    # 'company_size'\n",
    "    ['No','<10', '10-49', '50-99', '100-500', '500-999' ,'1000-4999', '5000-9999', '10000+'],\n",
    "    \n",
    "    # 'last_new_job'\n",
    "    ['No','1', '2', '3', '4', '>4', 'never']\n",
    "])\n"
   ]
  },
  {
   "cell_type": "markdown",
   "metadata": {},
   "source": [
    "**Apply the order to ordinal variables**"
   ]
  },
  {
   "cell_type": "code",
   "execution_count": 15,
   "metadata": {},
   "outputs": [
    {
     "data": {
      "text/plain": [
       "array([[ 3., 22.,  0.,  1.],\n",
       "       [ 3., 16.,  3.,  5.],\n",
       "       [ 3.,  6.,  0.,  6.],\n",
       "       ...,\n",
       "       [ 3., 22.,  3.,  4.],\n",
       "       [ 2.,  1.,  5.,  2.],\n",
       "       [ 1.,  3.,  0.,  1.]])"
      ]
     },
     "execution_count": 15,
     "metadata": {},
     "output_type": "execute_result"
    }
   ],
   "source": [
    "# category_notNull_ordinalEncoded = Alg_OrdinalEncoder.fit_transform(df_cate_nonull_ord)\n",
    "df_cate_nonull_ord_ordered = Alg_OrdinalEncoder.fit_transform(df_cate_nonull_ord)\n",
    "# check\n",
    "df_cate_nonull_ord_ordered"
   ]
  },
  {
   "cell_type": "markdown",
   "metadata": {},
   "source": [
    "**Store the index of feature:** \n",
    "\n",
    "This info will be used, when we look at the feature importance."
   ]
  },
  {
   "cell_type": "code",
   "execution_count": 58,
   "metadata": {},
   "outputs": [
    {
     "data": {
      "text/plain": [
       "['education_level', 'experience', 'company_size', 'last_new_job']"
      ]
     },
     "execution_count": 58,
     "metadata": {},
     "output_type": "execute_result"
    }
   ],
   "source": [
    "ftr_index_ordinal_x = ['education_level', 'experience', 'company_size', 'last_new_job']\n",
    "ftr_index_ordinal_x"
   ]
  },
  {
   "cell_type": "markdown",
   "metadata": {},
   "source": [
    "# 6) One hot encode for \"Nominal variable\"\n",
    "reference: https://machinelearningmastery.com/why-one-hot-encode-data-in-machine-learning/"
   ]
  },
  {
   "cell_type": "code",
   "execution_count": 16,
   "metadata": {},
   "outputs": [],
   "source": [
    "nominal_columns = ['city','gender','relevent_experience','enrolled_university','major_discipline','company_type'] "
   ]
  },
  {
   "cell_type": "code",
   "execution_count": 17,
   "metadata": {},
   "outputs": [
    {
     "name": "stdout",
     "output_type": "stream",
     "text": [
      "city\n",
      "['city_1' 'city_10' 'city_100' 'city_101' 'city_102' 'city_103' 'city_104'\n",
      " 'city_105' 'city_106' 'city_107' 'city_109' 'city_11' 'city_111'\n",
      " 'city_114' 'city_115' 'city_116' 'city_117' 'city_118' 'city_12'\n",
      " 'city_120' 'city_121' 'city_123' 'city_126' 'city_127' 'city_128'\n",
      " 'city_129' 'city_13' 'city_131' 'city_133' 'city_134' 'city_136'\n",
      " 'city_138' 'city_139' 'city_14' 'city_140' 'city_141' 'city_142'\n",
      " 'city_143' 'city_144' 'city_145' 'city_146' 'city_149' 'city_150'\n",
      " 'city_152' 'city_155' 'city_157' 'city_158' 'city_159' 'city_16'\n",
      " 'city_160' 'city_162' 'city_165' 'city_166' 'city_167' 'city_171'\n",
      " 'city_173' 'city_175' 'city_176' 'city_179' 'city_18' 'city_180'\n",
      " 'city_19' 'city_2' 'city_20' 'city_21' 'city_23' 'city_24' 'city_25'\n",
      " 'city_26' 'city_27' 'city_28' 'city_30' 'city_31' 'city_33' 'city_36'\n",
      " 'city_37' 'city_39' 'city_40' 'city_41' 'city_42' 'city_43' 'city_44'\n",
      " 'city_45' 'city_46' 'city_48' 'city_50' 'city_53' 'city_54' 'city_55'\n",
      " 'city_57' 'city_59' 'city_61' 'city_62' 'city_64' 'city_65' 'city_67'\n",
      " 'city_69' 'city_7' 'city_70' 'city_71' 'city_72' 'city_73' 'city_74'\n",
      " 'city_75' 'city_76' 'city_77' 'city_78' 'city_79' 'city_8' 'city_80'\n",
      " 'city_81' 'city_82' 'city_83' 'city_84' 'city_89' 'city_9' 'city_90'\n",
      " 'city_91' 'city_93' 'city_94' 'city_97' 'city_98' 'city_99']\n",
      "      \n",
      "gender\n",
      "['Female' 'Male' 'No' 'Other']\n",
      "      \n",
      "relevent_experience\n",
      "['Has relevent experience' 'No relevent experience']\n",
      "      \n",
      "enrolled_university\n",
      "['Full time course' 'No' 'Part time course' 'no_enrollment']\n",
      "      \n",
      "major_discipline\n",
      "['Arts' 'Business Degree' 'Humanities' 'No' 'No Major' 'Other' 'STEM']\n",
      "      \n",
      "company_type\n",
      "['Early Stage Startup' 'Funded Startup' 'NGO' 'No' 'Other' 'Public Sector'\n",
      " 'Pvt Ltd']\n",
      "      \n"
     ]
    }
   ],
   "source": [
    "my_subset = df_cate_nonull.loc[:, nominal_columns]\n",
    "    \n",
    "output = my_subset.apply(lambda x: np.unique(x) , axis=0)\n",
    "output\n",
    "\n",
    "# check\n",
    "for i,j in zip( range( len(output)) , output) :\n",
    "    print(output.index[i])\n",
    "    print(j)\n",
    "    print('      ')    "
   ]
  },
  {
   "cell_type": "markdown",
   "metadata": {},
   "source": [
    "**Apply the OneHotEncoder to nominal variables**"
   ]
  },
  {
   "cell_type": "code",
   "execution_count": 18,
   "metadata": {},
   "outputs": [],
   "source": [
    "from sklearn.preprocessing import OneHotEncoder\n",
    "\n",
    "# set a algorithm to do \"One Hot Encoding\" \n",
    "alg_OneHotEncoder = OneHotEncoder(sparse=False).fit( df_cate_nonull.loc[:, nominal_columns] )\n",
    "\n",
    "# action\n",
    "df_cate_nonull_nomial_dummy = alg_OneHotEncoder.transform(df_cate_nonull.loc[:, nominal_columns])"
   ]
  },
  {
   "cell_type": "code",
   "execution_count": 19,
   "metadata": {},
   "outputs": [
    {
     "data": {
      "text/plain": [
       "array([[0., 0., 0., ..., 0., 0., 0.],\n",
       "       [0., 0., 0., ..., 0., 0., 1.],\n",
       "       [0., 0., 0., ..., 0., 0., 0.],\n",
       "       ...,\n",
       "       [0., 0., 0., ..., 0., 0., 1.],\n",
       "       [0., 0., 0., ..., 0., 0., 1.],\n",
       "       [0., 0., 0., ..., 0., 0., 0.]])"
      ]
     },
     "execution_count": 19,
     "metadata": {},
     "output_type": "execute_result"
    }
   ],
   "source": [
    "# Now, the each class is represented by a dummpy variable {1,0}\n",
    "df_cate_nonull_nomial_dummy"
   ]
  },
  {
   "cell_type": "markdown",
   "metadata": {},
   "source": [
    "**Store the index of feature:** "
   ]
  },
  {
   "cell_type": "code",
   "execution_count": 47,
   "metadata": {},
   "outputs": [
    {
     "data": {
      "text/plain": [
       "['x0_city_1',\n",
       " 'x0_city_10',\n",
       " 'x0_city_100',\n",
       " 'x0_city_101',\n",
       " 'x0_city_102',\n",
       " 'x0_city_103',\n",
       " 'x0_city_104',\n",
       " 'x0_city_105',\n",
       " 'x0_city_106',\n",
       " 'x0_city_107',\n",
       " 'x0_city_109',\n",
       " 'x0_city_11',\n",
       " 'x0_city_111',\n",
       " 'x0_city_114',\n",
       " 'x0_city_115',\n",
       " 'x0_city_116',\n",
       " 'x0_city_117',\n",
       " 'x0_city_118',\n",
       " 'x0_city_12',\n",
       " 'x0_city_120',\n",
       " 'x0_city_121',\n",
       " 'x0_city_123',\n",
       " 'x0_city_126',\n",
       " 'x0_city_127',\n",
       " 'x0_city_128',\n",
       " 'x0_city_129',\n",
       " 'x0_city_13',\n",
       " 'x0_city_131',\n",
       " 'x0_city_133',\n",
       " 'x0_city_134',\n",
       " 'x0_city_136',\n",
       " 'x0_city_138',\n",
       " 'x0_city_139',\n",
       " 'x0_city_14',\n",
       " 'x0_city_140',\n",
       " 'x0_city_141',\n",
       " 'x0_city_142',\n",
       " 'x0_city_143',\n",
       " 'x0_city_144',\n",
       " 'x0_city_145',\n",
       " 'x0_city_146',\n",
       " 'x0_city_149',\n",
       " 'x0_city_150',\n",
       " 'x0_city_152',\n",
       " 'x0_city_155',\n",
       " 'x0_city_157',\n",
       " 'x0_city_158',\n",
       " 'x0_city_159',\n",
       " 'x0_city_16',\n",
       " 'x0_city_160',\n",
       " 'x0_city_162',\n",
       " 'x0_city_165',\n",
       " 'x0_city_166',\n",
       " 'x0_city_167',\n",
       " 'x0_city_171',\n",
       " 'x0_city_173',\n",
       " 'x0_city_175',\n",
       " 'x0_city_176',\n",
       " 'x0_city_179',\n",
       " 'x0_city_18',\n",
       " 'x0_city_180',\n",
       " 'x0_city_19',\n",
       " 'x0_city_2',\n",
       " 'x0_city_20',\n",
       " 'x0_city_21',\n",
       " 'x0_city_23',\n",
       " 'x0_city_24',\n",
       " 'x0_city_25',\n",
       " 'x0_city_26',\n",
       " 'x0_city_27',\n",
       " 'x0_city_28',\n",
       " 'x0_city_30',\n",
       " 'x0_city_31',\n",
       " 'x0_city_33',\n",
       " 'x0_city_36',\n",
       " 'x0_city_37',\n",
       " 'x0_city_39',\n",
       " 'x0_city_40',\n",
       " 'x0_city_41',\n",
       " 'x0_city_42',\n",
       " 'x0_city_43',\n",
       " 'x0_city_44',\n",
       " 'x0_city_45',\n",
       " 'x0_city_46',\n",
       " 'x0_city_48',\n",
       " 'x0_city_50',\n",
       " 'x0_city_53',\n",
       " 'x0_city_54',\n",
       " 'x0_city_55',\n",
       " 'x0_city_57',\n",
       " 'x0_city_59',\n",
       " 'x0_city_61',\n",
       " 'x0_city_62',\n",
       " 'x0_city_64',\n",
       " 'x0_city_65',\n",
       " 'x0_city_67',\n",
       " 'x0_city_69',\n",
       " 'x0_city_7',\n",
       " 'x0_city_70',\n",
       " 'x0_city_71',\n",
       " 'x0_city_72',\n",
       " 'x0_city_73',\n",
       " 'x0_city_74',\n",
       " 'x0_city_75',\n",
       " 'x0_city_76',\n",
       " 'x0_city_77',\n",
       " 'x0_city_78',\n",
       " 'x0_city_79',\n",
       " 'x0_city_8',\n",
       " 'x0_city_80',\n",
       " 'x0_city_81',\n",
       " 'x0_city_82',\n",
       " 'x0_city_83',\n",
       " 'x0_city_84',\n",
       " 'x0_city_89',\n",
       " 'x0_city_9',\n",
       " 'x0_city_90',\n",
       " 'x0_city_91',\n",
       " 'x0_city_93',\n",
       " 'x0_city_94',\n",
       " 'x0_city_97',\n",
       " 'x0_city_98',\n",
       " 'x0_city_99',\n",
       " 'x1_Female',\n",
       " 'x1_Male',\n",
       " 'x1_No',\n",
       " 'x1_Other',\n",
       " 'x2_Has relevent experience',\n",
       " 'x2_No relevent experience',\n",
       " 'x3_Full time course',\n",
       " 'x3_No',\n",
       " 'x3_Part time course',\n",
       " 'x3_no_enrollment',\n",
       " 'x4_Arts',\n",
       " 'x4_Business Degree',\n",
       " 'x4_Humanities',\n",
       " 'x4_No',\n",
       " 'x4_No Major',\n",
       " 'x4_Other',\n",
       " 'x4_STEM',\n",
       " 'x5_Early Stage Startup',\n",
       " 'x5_Funded Startup',\n",
       " 'x5_NGO',\n",
       " 'x5_No',\n",
       " 'x5_Other',\n",
       " 'x5_Public Sector',\n",
       " 'x5_Pvt Ltd']"
      ]
     },
     "execution_count": 47,
     "metadata": {},
     "output_type": "execute_result"
    }
   ],
   "source": [
    "ftr_index_nomial_x  = list(alg_OneHotEncoder.get_feature_names())\n",
    "ftr_index_nomial_x"
   ]
  },
  {
   "cell_type": "markdown",
   "metadata": {},
   "source": [
    "# 7) Gather transformed dataset into one\n",
    "\n",
    "**Action plan**\n",
    "1. Use X (transformed features) and y (outcome) as the final dataset.\n",
    "2. y can be selected from df_cont ( continuous dataset).\n",
    "3. X has tree parts:\n",
    "    - numerical feature (X_num)\n",
    "    - categorical and no-ordered features (X_cat_nominal) \n",
    "    - categorical and ordered features (X_cat_ordinal) "
   ]
  },
  {
   "cell_type": "code",
   "execution_count": 21,
   "metadata": {},
   "outputs": [
    {
     "data": {
      "text/plain": [
       "(19158,)"
      ]
     },
     "execution_count": 21,
     "metadata": {},
     "output_type": "execute_result"
    }
   ],
   "source": [
    "# y \n",
    "y =  df_cont['target'].values\n",
    "y.shape"
   ]
  },
  {
   "cell_type": "code",
   "execution_count": 22,
   "metadata": {},
   "outputs": [
    {
     "data": {
      "text/plain": [
       "(19158, 153)"
      ]
     },
     "execution_count": 22,
     "metadata": {},
     "output_type": "execute_result"
    }
   ],
   "source": [
    "# X\n",
    "X_num        = df_cont.drop('target', axis=1).values\n",
    "X_cat_nominal= df_cate_nonull_nomial_dummy\n",
    "X_cat_ordinal= df_cate_nonull_ord_ordered\n",
    "\n",
    "X = np.concatenate( [X_num, X_cat_nominal, X_cat_ordinal], axis=1)\n",
    "\n",
    "\n",
    "X.shape"
   ]
  },
  {
   "cell_type": "markdown",
   "metadata": {},
   "source": [
    "**X feature index**"
   ]
  },
  {
   "cell_type": "code",
   "execution_count": 60,
   "metadata": {},
   "outputs": [
    {
     "data": {
      "text/plain": [
       "153"
      ]
     },
     "execution_count": 60,
     "metadata": {},
     "output_type": "execute_result"
    }
   ],
   "source": [
    "ftr_index_num_x = list( df_cont.drop('target', axis=1).columns )\n",
    "X_index = ftr_index_num_x + ftr_index_nomial_x + ftr_index_ordinal_x\n",
    "len(X_index) # corret"
   ]
  },
  {
   "cell_type": "code",
   "execution_count": 67,
   "metadata": {},
   "outputs": [],
   "source": [
    "pd.DataFrame(X_index).to_csv(\"X_index.csv\", header=['feature_name'], index= False)"
   ]
  },
  {
   "cell_type": "markdown",
   "metadata": {},
   "source": [
    "# 8) Impute minor outcome\n",
    "\n",
    "Reference: https://machinelearningmastery.com/smote-oversampling-for-imbalanced-classification/"
   ]
  },
  {
   "cell_type": "code",
   "execution_count": 23,
   "metadata": {},
   "outputs": [],
   "source": [
    "X, y = SMOTE().fit_resample(X, y)"
   ]
  },
  {
   "cell_type": "code",
   "execution_count": 24,
   "metadata": {},
   "outputs": [
    {
     "data": {
      "text/plain": [
       "1.0    14381\n",
       "0.0    14381\n",
       "dtype: int64"
      ]
     },
     "execution_count": 24,
     "metadata": {},
     "output_type": "execute_result"
    }
   ],
   "source": [
    "#### check\n",
    "pd.DataFrame(y).value_counts()\n",
    "\n",
    "#### Note: outcomes {1,0} have balanced sample sizes."
   ]
  },
  {
   "cell_type": "markdown",
   "metadata": {},
   "source": [
    "# 9) Split the dataset into train and test. Then, standardize the numeric column based on train set"
   ]
  },
  {
   "cell_type": "code",
   "execution_count": 25,
   "metadata": {},
   "outputs": [],
   "source": [
    "from sklearn.model_selection import train_test_split"
   ]
  },
  {
   "cell_type": "code",
   "execution_count": 26,
   "metadata": {
    "scrolled": true
   },
   "outputs": [
    {
     "name": "stdout",
     "output_type": "stream",
     "text": [
      "(23009, 153)\n",
      "(5753, 153)\n",
      "(23009,)\n",
      "(5753,)\n"
     ]
    }
   ],
   "source": [
    "X_train, X_test, y_train, y_test = train_test_split(X, y, test_size=0.2, stratify=y)\n",
    "\n",
    "#### check\n",
    "for i in [X_train.shape, X_test.shape, y_train.shape, y_test.shape]:\n",
    "    print(i)"
   ]
  },
  {
   "cell_type": "markdown",
   "metadata": {},
   "source": [
    "**Standardization** \n",
    "\n",
    "Action plan: The first 2 columns are numeric data (city_development_index and training_hours) which needs to be standardized (mean=0 and standard deviation=1)"
   ]
  },
  {
   "cell_type": "code",
   "execution_count": 27,
   "metadata": {},
   "outputs": [],
   "source": [
    "from sklearn.preprocessing import StandardScaler"
   ]
  },
  {
   "cell_type": "code",
   "execution_count": 28,
   "metadata": {},
   "outputs": [
    {
     "data": {
      "text/plain": [
       "StandardScaler()"
      ]
     },
     "execution_count": 28,
     "metadata": {},
     "output_type": "execute_result"
    }
   ],
   "source": [
    "# set a scaler using train set\n",
    "alg_scaler = StandardScaler()\n",
    "alg_scaler.fit(X_train[:, :2])"
   ]
  },
  {
   "cell_type": "markdown",
   "metadata": {},
   "source": [
    "**Apply standardization algorithm to numerical features (the first 2 columns)**"
   ]
  },
  {
   "cell_type": "code",
   "execution_count": 29,
   "metadata": {},
   "outputs": [],
   "source": [
    "X_train_scaled = X_train.copy()\n",
    "X_train_scaled[:, :2] = alg_scaler.transform(X_train[:, :2])\n",
    "\n",
    "X_test_scaled = X_test.copy()\n",
    "X_test_scaled[:, :2] = alg_scaler.transform(X_test[:, :2])"
   ]
  },
  {
   "cell_type": "markdown",
   "metadata": {},
   "source": [
    "# 10) Output the modified Dataset"
   ]
  },
  {
   "cell_type": "code",
   "execution_count": 30,
   "metadata": {},
   "outputs": [],
   "source": [
    "os.chdir('C:/Users/15177/Python_Project/HR_Analysis/Data/')"
   ]
  },
  {
   "cell_type": "code",
   "execution_count": 31,
   "metadata": {},
   "outputs": [],
   "source": [
    "pd.DataFrame(X_train_scaled).to_csv(\"X_train_scaled.csv\", header=False, index= False)\n",
    "pd.DataFrame(X_test_scaled).to_csv(\"X_test_scaled.csv\", header=False, index= False)\n",
    "pd.DataFrame(y_train).to_csv(\"y_train.csv\",  header=False, index= False)\n",
    "pd.DataFrame(y_test).to_csv(\"y_test.csv\",  header=False, index =False)"
   ]
  },
  {
   "cell_type": "markdown",
   "metadata": {},
   "source": [
    "# END"
   ]
  }
 ],
 "metadata": {
  "kernelspec": {
   "display_name": "Python 3",
   "language": "python",
   "name": "python3"
  },
  "language_info": {
   "codemirror_mode": {
    "name": "ipython",
    "version": 3
   },
   "file_extension": ".py",
   "mimetype": "text/x-python",
   "name": "python",
   "nbconvert_exporter": "python",
   "pygments_lexer": "ipython3",
   "version": "3.8.5"
  }
 },
 "nbformat": 4,
 "nbformat_minor": 4
}
