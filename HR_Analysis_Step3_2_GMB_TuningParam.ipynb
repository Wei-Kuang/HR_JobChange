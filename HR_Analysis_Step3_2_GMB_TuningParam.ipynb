{
 "cells": [
  {
   "cell_type": "markdown",
   "metadata": {},
   "source": [
    "# HR Analytics: Job Change of Data Scientists\n"
   ]
  },
  {
   "cell_type": "markdown",
   "metadata": {},
   "source": [
    "# Gradient Boost Model Performance"
   ]
  },
  {
   "cell_type": "markdown",
   "metadata": {},
   "source": [
    "| Model              | Accuracy (testing set) | AUC score (testing set) |\n",
    "| :--                | :--                    |:--                      |\n",
    "| **Default**        | 0.855                  | 0.925                   |\n",
    "| **Final Model**    | 0.859                  | 0.936                   |\n",
    "\n",
    "\n",
    "**Footnote**\n",
    "- Default model: The model using default hyper parameters.\n",
    "- Final model: The model with tuned hyper parameters."
   ]
  },
  {
   "cell_type": "markdown",
   "metadata": {},
   "source": [
    "# Let's start the  hyper parameter optimization "
   ]
  },
  {
   "cell_type": "markdown",
   "metadata": {},
   "source": [
    "## Modules"
   ]
  },
  {
   "cell_type": "code",
   "execution_count": 1,
   "metadata": {},
   "outputs": [],
   "source": [
    "import numpy as np\n",
    "import pylab as pl\n",
    "import pandas as pd\n",
    "import matplotlib.pyplot as plt \n",
    "%matplotlib inline\n",
    "import seaborn as sns\n",
    "\n",
    "# use ggplot in python\n",
    "from plotnine import *\n",
    "\n",
    "import os # Set the working directory\n",
    "\n",
    "pd.set_option('max_colwidth', None) # display all the info in the column. Not to truncate the display."
   ]
  },
  {
   "cell_type": "markdown",
   "metadata": {},
   "source": [
    "# Load the processed dataset\n",
    "\n",
    "Data transformation that I have done:\n",
    "1. Remove unneeded features\n",
    "2. Distinguish categorical and continuous variables.\n",
    "3. Impute missing values\n",
    "4. Encode \"ordinal variables\"\n",
    "5. One hot encode for \"Nominal variable\"\n",
    "6. Impute minor outcome\n",
    "7. Standardize numeric features"
   ]
  },
  {
   "cell_type": "code",
   "execution_count": 2,
   "metadata": {},
   "outputs": [],
   "source": [
    "from numpy import genfromtxt\n",
    "\n",
    "os.chdir('C:/Users/15177/Python_Project/HR_Analysis/Data/')\n",
    "X_train_scaled = genfromtxt('X_train_scaled.csv', delimiter=',')\n",
    "X_test_scaled = genfromtxt('X_test_scaled.csv', delimiter=',')\n",
    "y_train = genfromtxt('y_train.csv', delimiter=',')\n",
    "y_test = genfromtxt('y_test.csv', delimiter=',')"
   ]
  },
  {
   "cell_type": "code",
   "execution_count": 3,
   "metadata": {},
   "outputs": [
    {
     "data": {
      "text/plain": [
       "0      city_development_index\n",
       "1              training_hours\n",
       "2                   x0_city_1\n",
       "3                  x0_city_10\n",
       "4                 x0_city_100\n",
       "                ...          \n",
       "148                x5_Pvt Ltd\n",
       "149           education_level\n",
       "150                experience\n",
       "151              company_size\n",
       "152              last_new_job\n",
       "Name: feature_name, Length: 153, dtype: object"
      ]
     },
     "execution_count": 3,
     "metadata": {},
     "output_type": "execute_result"
    }
   ],
   "source": [
    "# feature name for the transformed X\n",
    "feature_name = pd.read_csv('X_index.csv')['feature_name']\n",
    "feature_name"
   ]
  },
  {
   "cell_type": "markdown",
   "metadata": {},
   "source": [
    "# Gradient Boost Model - Setup"
   ]
  },
  {
   "cell_type": "code",
   "execution_count": 4,
   "metadata": {},
   "outputs": [],
   "source": [
    "# Gradient Boost Model\n",
    "from sklearn.ensemble import GradientBoostingClassifier\n",
    "\n",
    "# Model evaluation\n",
    "from sklearn.model_selection import cross_validate, GridSearchCV\n",
    "from sklearn.metrics import confusion_matrix, classification_report, plot_roc_curve, roc_auc_score, roc_curve, accuracy_score\n",
    "from sklearn.model_selection import cross_val_score\n",
    "\n",
    "# Plot\n",
    "from matplotlib.pylab import rcParams\n",
    "rcParams['figure.figsize'] = 12, 4\n",
    "\n",
    "#### Save and read grid search object\n",
    "import joblib"
   ]
  },
  {
   "cell_type": "markdown",
   "metadata": {},
   "source": [
    "### Create a function to evaluate model performance\n",
    "This framework of the function is created by Aarshay Jain. I made a few adjustments for this project.\n",
    "\n",
    "**reference**: Complete Machine Learning Guide to Parameter Tuning in Gradient Boosting (GBM) in Python https://www.analyticsvidhya.com/blog/2016/02/complete-guide-parameter-tuning-gradient-boosting-gbm-python/"
   ]
  },
  {
   "cell_type": "code",
   "execution_count": 5,
   "metadata": {},
   "outputs": [],
   "source": [
    "def modelfit(alg, X_train, y_train, X_test, y_test, \n",
    "             feature_name = feature_name,\n",
    "             performCV=False, \n",
    "             printFeatureImportance=True, \n",
    "             cv_folds=5):\n",
    "    \n",
    "    \n",
    "    #Fit the algorithm on the data\n",
    "    alg.fit(X_train, y_train) # note: Disbursed is the outcomet/target (y).\n",
    "        \n",
    "    #Predict training set:\n",
    "    train_predictions = alg.predict(      X_train )\n",
    "    train_predprob    = alg.predict_proba(X_train )[:,1]\n",
    "    \n",
    "    #Predict test set:\n",
    "    test_predictions = alg.predict      (  X_test )\n",
    "    test_predprob    = alg.predict_proba(  X_test )[:,1]\n",
    "    \n",
    "    #Print model report:\n",
    "    print (\"------Training Set-------\")\n",
    "    print (\"Model Report\")\n",
    "    print (\"Accuracy : %.5g\" % accuracy_score(y_train, train_predictions) )\n",
    "    print (\"AUC Score: %.5g\" % roc_auc_score( y_train, train_predprob   ) )\n",
    "    \n",
    "    \n",
    "    #Perform cross-validation:\n",
    "    if performCV:\n",
    "        cv_score = cross_validate(alg, X_train, y_train, \n",
    "                                  cv=cv_folds, n_jobs=3, \n",
    "                                  scoring=['roc_auc','accuracy'])\n",
    "        # scoring parameter:\n",
    "        # https://scikit-learn.org/stable/modules/model_evaluation.html#scoring-parameter\n",
    "        roc_auc= cv_score['test_roc_auc']\n",
    "        acc    = cv_score['test_accuracy']\n",
    "        \n",
    "        print (\"------ CV approach using training set -------\")\n",
    "        \n",
    "        print (\"CV roc_auc : Mean - %.5g | Std - %.5g\" %( np.mean(roc_auc), np.std(roc_auc) ) \n",
    "              )\n",
    "        \n",
    "        print (\"CV accuracy: Mean - %.5g | Std - %.5g\" %( np.mean(acc), np.std(acc) )\n",
    "              )\n",
    "        \n",
    "    #Print model report:\n",
    "    print (\"------Testing Set-------\")\n",
    "    print (\"Model Report\")\n",
    "    print (\"Accuracy : %.5g\" % accuracy_score(y_test, test_predictions) )\n",
    "    print (\"AUC Score: %.5g\" % roc_auc_score( y_test, test_predprob   ) )    \n",
    "                \n",
    "    #Print Feature Importance:\n",
    "    if printFeatureImportance:\n",
    "        print (\"\\n\")\n",
    "        print (\"------Feature Importance Score based on Training Set-------\")\n",
    "        feat_imp = pd.Series(data= alg.feature_importances_, index= feature_name).sort_values(ascending=False)\n",
    "        feat_imp_filter = feat_imp[feat_imp> 0.01]\n",
    "        \n",
    "        #### Plot\n",
    "        feat_imp_filter.plot(kind='bar', title='Feature Importances')\n",
    "        plt.ylabel('Feature Importance Score')"
   ]
  },
  {
   "cell_type": "markdown",
   "metadata": {},
   "source": [
    "# Create a function to find the optimal parameter according to grid search"
   ]
  },
  {
   "cell_type": "code",
   "execution_count": 1,
   "metadata": {},
   "outputs": [],
   "source": [
    "def fnc_show_best_param(grid_search):\n",
    "    gsearch = grid_search\n",
    "    params = np.array( [x for x in gsearch.cv_results_['params']] )\n",
    "    cv_score = gsearch.cv_results_['mean_test_score']\n",
    "    my_dict= {'params':params,'cv_score': test_cv_score}\n",
    "    df = pd.DataFrame(my_dict).sort_values(by='cv_score',ascending=False)\n",
    "    print(df)"
   ]
  },
  {
   "cell_type": "markdown",
   "metadata": {},
   "source": [
    "# Baseline GradientBoost\n",
    "All parameters follow the default."
   ]
  },
  {
   "cell_type": "code",
   "execution_count": 7,
   "metadata": {},
   "outputs": [
    {
     "name": "stdout",
     "output_type": "stream",
     "text": [
      "------Training Set-------\n",
      "Model Report\n",
      "Accuracy : 0.86223\n",
      "AUC Score: 0.9317\n",
      "------Testing Set-------\n",
      "Model Report\n",
      "Accuracy : 0.85538\n",
      "AUC Score: 0.92505\n",
      "\n",
      "\n",
      "------Feature Importance Score based on Training Set-------\n"
     ]
    },
    {
     "data": {
      "image/png": "[encoded data removed]",
      "text/plain": [
       "<Figure size 864x288 with 1 Axes>"
      ]
     },
     "metadata": {
      "needs_background": "light"
     },
     "output_type": "display_data"
    }
   ],
   "source": [
    "gbm0 = GradientBoostingClassifier(random_state=10)\n",
    "modelfit(gbm0, X_train_scaled , y_train, X_test_scaled, y_test)"
   ]
  },
  {
   "cell_type": "markdown",
   "metadata": {},
   "source": [
    "# Step 1:  Number of estimators at a high learning rate (~0.3)\n",
    "High learning rate result in a fewer estimators (trees), so the entire training time can be reduced. I use this as initial setting to tune other paramters. In the end, I will reduce learning rate and increase the number of trees, which usually can furter improve the model performance."
   ]
  },
  {
   "cell_type": "code",
   "execution_count": 8,
   "metadata": {},
   "outputs": [
    {
     "data": {
      "text/plain": [
       "GridSearchCV(cv=5,\n",
       "             estimator=GradientBoostingClassifier(learning_rate=0.2,\n",
       "                                                  max_depth=8,\n",
       "                                                  max_features='sqrt',\n",
       "                                                  min_samples_leaf=50,\n",
       "                                                  min_samples_split=150,\n",
       "                                                  random_state=10,\n",
       "                                                  subsample=0.8),\n",
       "             n_jobs=-1,\n",
       "             param_grid={'learning_rate': array([0.3 , 0.31, 0.32, 0.33, 0.34]),\n",
       "                         'n_estimators': range(30, 151, 30)},\n",
       "             scoring='roc_auc')"
      ]
     },
     "execution_count": 8,
     "metadata": {},
     "output_type": "execute_result"
    }
   ],
   "source": [
    "#Choose all predictors except target & IDcols\n",
    "param_test = {'n_estimators':range(30,151,30), \n",
    "               'learning_rate': np.arange(0.3, 0.35, 0.01)\n",
    "              }\n",
    "gsearch_1 = GridSearchCV(estimator = \n",
    "                         GradientBoostingClassifier(\n",
    "                            # Tuned parameter\n",
    "                             \n",
    "                            # Not Tuned\n",
    "                            learning_rate=0.2, \n",
    "                            min_samples_split=150,\n",
    "                            min_samples_leaf=50,\n",
    "                            max_depth=8,\n",
    "                            max_features='sqrt',\n",
    "                            subsample=0.8,\n",
    "                            random_state=10), \n",
    "                         param_grid = param_test, \n",
    "                         scoring='roc_auc',\n",
    "                         n_jobs=-1,\n",
    "                         cv=5)\n",
    "\n",
    "gsearch_1.fit(X_train_scaled,y_train)"
   ]
  },
  {
   "cell_type": "code",
   "execution_count": 9,
   "metadata": {},
   "outputs": [
    {
     "name": "stdout",
     "output_type": "stream",
     "text": [
      "                                          params  test_cv_score\n",
      "8   {'learning_rate': 0.31, 'n_estimators': 120}       0.931135\n",
      "12   {'learning_rate': 0.32, 'n_estimators': 90}       0.930882\n",
      "7    {'learning_rate': 0.31, 'n_estimators': 90}       0.930850\n",
      "6    {'learning_rate': 0.31, 'n_estimators': 60}       0.930633\n",
      "4    {'learning_rate': 0.3, 'n_estimators': 150}       0.930606\n",
      "2     {'learning_rate': 0.3, 'n_estimators': 90}       0.930600\n",
      "1     {'learning_rate': 0.3, 'n_estimators': 60}       0.930543\n",
      "3    {'learning_rate': 0.3, 'n_estimators': 120}       0.930504\n",
      "9   {'learning_rate': 0.31, 'n_estimators': 150}       0.930494\n",
      "11   {'learning_rate': 0.32, 'n_estimators': 60}       0.930423\n",
      "13  {'learning_rate': 0.32, 'n_estimators': 120}       0.930329\n",
      "14  {'learning_rate': 0.32, 'n_estimators': 150}       0.930097\n",
      "22   {'learning_rate': 0.34, 'n_estimators': 90}       0.930083\n",
      "21   {'learning_rate': 0.34, 'n_estimators': 60}       0.929940\n",
      "16   {'learning_rate': 0.33, 'n_estimators': 60}       0.929701\n",
      "17   {'learning_rate': 0.33, 'n_estimators': 90}       0.929576\n",
      "18  {'learning_rate': 0.33, 'n_estimators': 120}       0.929511\n",
      "23  {'learning_rate': 0.34, 'n_estimators': 120}       0.929466\n",
      "24  {'learning_rate': 0.34, 'n_estimators': 150}       0.929416\n",
      "19  {'learning_rate': 0.33, 'n_estimators': 150}       0.929233\n",
      "10   {'learning_rate': 0.32, 'n_estimators': 30}       0.927710\n",
      "0     {'learning_rate': 0.3, 'n_estimators': 30}       0.927590\n",
      "15   {'learning_rate': 0.33, 'n_estimators': 30}       0.927491\n",
      "5    {'learning_rate': 0.31, 'n_estimators': 30}       0.927350\n",
      "20   {'learning_rate': 0.34, 'n_estimators': 30}       0.927127\n"
     ]
    }
   ],
   "source": [
    "#### Save grid search ####\n",
    "os.chdir('C:/Users/15177/Python_Project/HR_Analysis/Data/')\n",
    "joblib.dump(gsearch_1, 'gmb_gsearch_1.pkl')\n",
    "\n",
    "#### Read grid search results ####\n",
    "gsearch1 = joblib.load(\"gmb_gsearch_1.pkl\")\n",
    "fnc_show_best_param(gsearch_1)"
   ]
  },
  {
   "cell_type": "markdown",
   "metadata": {},
   "source": [
    "# Step 2: Max_depth and min_samples_split\n",
    "\n",
    "\n",
    "**max_depth**\n",
    "- The maximum depth of a tree. If None, then nodes are expanded until all leaves are pure or until all leaves contain less than min_samples_split samples.\n",
    "- **Intuition:** Higher depth will allow model to learn the pattern which is very specific to a particular sample. Thus, a tree-based model with higher depth tend to be over-fitting. \n",
    "\n",
    "\n",
    "**min_samples_split**\n",
    "- The minimum number of samples required to split into further node. \n",
    "\n",
    "- **Intuition:** Higher values prevent a model from learning relations which might be highly specific to the particular sample selected for a tree. \n",
    "\n",
    "\n",
    "<p> <b> <span style=\"color:darkred\"> NOTE: </span> </b> </p>\n",
    "\n",
    "**max_depth** and **min_samples_split** are **stop criteria** to prevent a tree from growing too deep. "
   ]
  },
  {
   "cell_type": "code",
   "execution_count": 10,
   "metadata": {},
   "outputs": [
    {
     "data": {
      "text/plain": [
       "GridSearchCV(cv=5,\n",
       "             estimator=GradientBoostingClassifier(learning_rate=0.3,\n",
       "                                                  max_features='sqrt',\n",
       "                                                  min_samples_leaf=50,\n",
       "                                                  n_estimators=90,\n",
       "                                                  random_state=10,\n",
       "                                                  subsample=0.8),\n",
       "             n_jobs=-1,\n",
       "             param_grid={'max_depth': range(2, 16, 2),\n",
       "                         'min_samples_split': range(251, 1000, 100)},\n",
       "             scoring='roc_auc')"
      ]
     },
     "execution_count": 10,
     "metadata": {},
     "output_type": "execute_result"
    }
   ],
   "source": [
    "param_test = {'max_depth':range(2,16,2), \n",
    "              'min_samples_split':range(251,1000, 100)}\n",
    "\n",
    "gsearch_2 = GridSearchCV(estimator = GradientBoostingClassifier(\n",
    "                            #Tuned\n",
    "                            n_estimators=90,\n",
    "                            learning_rate=0.3,\n",
    "    \n",
    "                            #Not Tuned\n",
    "                            min_samples_leaf=50,\n",
    "                            max_features='sqrt',\n",
    "                            subsample=0.8,\n",
    "                            random_state=10), \n",
    "                         param_grid = param_test, \n",
    "                         scoring='roc_auc',\n",
    "                         n_jobs=-1,\n",
    "                         cv=5)\n",
    "\n",
    "gsearch_2.fit(X_train_scaled,y_train)"
   ]
  },
  {
   "cell_type": "code",
   "execution_count": 11,
   "metadata": {},
   "outputs": [
    {
     "name": "stdout",
     "output_type": "stream",
     "text": [
      "                                         params  test_cv_score\n",
      "28   {'max_depth': 8, 'min_samples_split': 651}       0.931948\n",
      "37  {'max_depth': 10, 'min_samples_split': 751}       0.931423\n",
      "47  {'max_depth': 12, 'min_samples_split': 951}       0.931404\n",
      "33  {'max_depth': 10, 'min_samples_split': 351}       0.931307\n",
      "24   {'max_depth': 8, 'min_samples_split': 251}       0.931228\n",
      "46  {'max_depth': 12, 'min_samples_split': 851}       0.931226\n",
      "38  {'max_depth': 10, 'min_samples_split': 851}       0.931201\n",
      "53  {'max_depth': 14, 'min_samples_split': 751}       0.931139\n",
      "40  {'max_depth': 12, 'min_samples_split': 251}       0.931129\n",
      "31   {'max_depth': 8, 'min_samples_split': 951}       0.931087\n",
      "25   {'max_depth': 8, 'min_samples_split': 351}       0.931044\n",
      "26   {'max_depth': 8, 'min_samples_split': 451}       0.931033\n",
      "43  {'max_depth': 12, 'min_samples_split': 551}       0.931032\n",
      "29   {'max_depth': 8, 'min_samples_split': 751}       0.931009\n",
      "32  {'max_depth': 10, 'min_samples_split': 251}       0.931003\n",
      "51  {'max_depth': 14, 'min_samples_split': 551}       0.930956\n",
      "22   {'max_depth': 6, 'min_samples_split': 851}       0.930934\n",
      "50  {'max_depth': 14, 'min_samples_split': 451}       0.930893\n",
      "30   {'max_depth': 8, 'min_samples_split': 851}       0.930882\n",
      "34  {'max_depth': 10, 'min_samples_split': 451}       0.930880\n",
      "18   {'max_depth': 6, 'min_samples_split': 451}       0.930872\n",
      "55  {'max_depth': 14, 'min_samples_split': 951}       0.930831\n",
      "44  {'max_depth': 12, 'min_samples_split': 651}       0.930796\n",
      "17   {'max_depth': 6, 'min_samples_split': 351}       0.930785\n",
      "41  {'max_depth': 12, 'min_samples_split': 351}       0.930755\n",
      "49  {'max_depth': 14, 'min_samples_split': 351}       0.930607\n",
      "36  {'max_depth': 10, 'min_samples_split': 651}       0.930563\n",
      "35  {'max_depth': 10, 'min_samples_split': 551}       0.930531\n",
      "45  {'max_depth': 12, 'min_samples_split': 751}       0.930531\n",
      "16   {'max_depth': 6, 'min_samples_split': 251}       0.930464\n",
      "39  {'max_depth': 10, 'min_samples_split': 951}       0.930403\n",
      "42  {'max_depth': 12, 'min_samples_split': 451}       0.930366\n",
      "21   {'max_depth': 6, 'min_samples_split': 751}       0.930364\n",
      "27   {'max_depth': 8, 'min_samples_split': 551}       0.930353\n",
      "52  {'max_depth': 14, 'min_samples_split': 651}       0.930219\n",
      "23   {'max_depth': 6, 'min_samples_split': 951}       0.930149\n",
      "20   {'max_depth': 6, 'min_samples_split': 651}       0.930132\n",
      "19   {'max_depth': 6, 'min_samples_split': 551}       0.930089\n",
      "54  {'max_depth': 14, 'min_samples_split': 851}       0.929891\n",
      "48  {'max_depth': 14, 'min_samples_split': 251}       0.929851\n",
      "12   {'max_depth': 4, 'min_samples_split': 651}       0.929612\n",
      "10   {'max_depth': 4, 'min_samples_split': 451}       0.929268\n",
      "8    {'max_depth': 4, 'min_samples_split': 251}       0.929243\n",
      "11   {'max_depth': 4, 'min_samples_split': 551}       0.929189\n",
      "9    {'max_depth': 4, 'min_samples_split': 351}       0.929035\n",
      "13   {'max_depth': 4, 'min_samples_split': 751}       0.928739\n",
      "14   {'max_depth': 4, 'min_samples_split': 851}       0.928516\n",
      "15   {'max_depth': 4, 'min_samples_split': 951}       0.928417\n",
      "1    {'max_depth': 2, 'min_samples_split': 351}       0.918872\n",
      "3    {'max_depth': 2, 'min_samples_split': 551}       0.918634\n",
      "4    {'max_depth': 2, 'min_samples_split': 651}       0.918619\n",
      "2    {'max_depth': 2, 'min_samples_split': 451}       0.918306\n",
      "5    {'max_depth': 2, 'min_samples_split': 751}       0.918204\n",
      "6    {'max_depth': 2, 'min_samples_split': 851}       0.918144\n",
      "0    {'max_depth': 2, 'min_samples_split': 251}       0.918003\n",
      "7    {'max_depth': 2, 'min_samples_split': 951}       0.917722\n"
     ]
    }
   ],
   "source": [
    "#### Save grid search ####\n",
    "os.chdir('C:/Users/15177/Python_Project/HR_Analysis/Data/')\n",
    "joblib.dump(gsearch_2, 'gmb_gsearch_2.pkl')\n",
    "\n",
    "#### Read grid search results ####\n",
    "gsearch_2 = joblib.load(\"gmb_gsearch_2.pkl\")\n",
    "fnc_show_best_param(gsearch_2)"
   ]
  },
  {
   "cell_type": "markdown",
   "metadata": {},
   "source": [
    "# Step 3: min_samples_leaf\n",
    "\n",
    "**min_samples_leaf** default=1\n",
    "\n",
    "- The minimum number of samples required to be at a **leaf** or **terminal** node.\n",
    "- A split point at any depth will only be considered if it has at least min_samples_leaf training samples in each of the left and right branches. \n",
    "- This may have the effect of smoothing the model, especially in regression.\n",
    "\n",
    "<p> <b> <span style=\"color:darkred\"> NOTE: </span> </b> </p>\n",
    "\n",
    "**min_samples_leaf** is also a **stop criterion** to prevent a tree from growing too deep. "
   ]
  },
  {
   "cell_type": "code",
   "execution_count": 12,
   "metadata": {},
   "outputs": [
    {
     "data": {
      "text/plain": [
       "GridSearchCV(cv=5,\n",
       "             estimator=GradientBoostingClassifier(learning_rate=0.3,\n",
       "                                                  max_depth=10,\n",
       "                                                  max_features='sqrt',\n",
       "                                                  min_samples_split=851,\n",
       "                                                  n_estimators=90,\n",
       "                                                  random_state=10,\n",
       "                                                  subsample=0.8),\n",
       "             n_jobs=-1, param_grid={'min_samples_leaf': range(1, 100, 10)},\n",
       "             scoring='roc_auc')"
      ]
     },
     "execution_count": 12,
     "metadata": {},
     "output_type": "execute_result"
    }
   ],
   "source": [
    "param_test = {'min_samples_leaf':range(1,100,10)}\n",
    "\n",
    "gsearch_3 = GridSearchCV(estimator = GradientBoostingClassifier(\n",
    "                                    #Tuned\n",
    "                                    n_estimators=90,\n",
    "                                    learning_rate=0.3,\n",
    "                                    max_depth= 10,\n",
    "                                    min_samples_split=851,\n",
    "    \n",
    "                                    #Not Tuned\n",
    "                                    max_features='sqrt',\n",
    "                                    subsample=0.8,\n",
    "                                    random_state=10), \n",
    "                         param_grid = param_test, \n",
    "                         scoring='roc_auc',\n",
    "                         n_jobs=-1,\n",
    "                         cv=5)\n",
    "\n",
    "gsearch_3.fit(X_train_scaled,y_train)"
   ]
  },
  {
   "cell_type": "code",
   "execution_count": 13,
   "metadata": {},
   "outputs": [
    {
     "name": "stdout",
     "output_type": "stream",
     "text": [
      "                     params  test_cv_score\n",
      "3  {'min_samples_leaf': 31}       0.931775\n",
      "7  {'min_samples_leaf': 71}       0.931498\n",
      "8  {'min_samples_leaf': 81}       0.931308\n",
      "9  {'min_samples_leaf': 91}       0.931128\n",
      "6  {'min_samples_leaf': 61}       0.931123\n",
      "5  {'min_samples_leaf': 51}       0.930822\n",
      "4  {'min_samples_leaf': 41}       0.930709\n",
      "2  {'min_samples_leaf': 21}       0.930096\n",
      "1  {'min_samples_leaf': 11}       0.929431\n",
      "0   {'min_samples_leaf': 1}       0.928878\n"
     ]
    }
   ],
   "source": [
    "#### Save grid search ####\n",
    "os.chdir('C:/Users/15177/Python_Project/HR_Analysis/Data/')\n",
    "joblib.dump(gsearch_3, 'gmb_gsearch_3.pkl')\n",
    "\n",
    "#### Read grid search results ####\n",
    "gsearch_3 = joblib.load(\"gmb_gsearch_3.pkl\")\n",
    "fnc_show_best_param(gsearch_3)"
   ]
  },
  {
   "cell_type": "markdown",
   "metadata": {},
   "source": [
    "# Step4: max_features\n",
    "\n",
    "**Squred root of the number of total predictor** is the good starting point for \"max_features\". \n",
    "\n",
    "In this problem set, I have 153 predictors.\n",
    "\n",
    "It's reasonable to start the max_features around sqrt of # predictors (12) and upto 50% of the # predictor (76)"
   ]
  },
  {
   "cell_type": "code",
   "execution_count": 14,
   "metadata": {},
   "outputs": [
    {
     "name": "stdout",
     "output_type": "stream",
     "text": [
      "12.36931687685298\n",
      "76.5\n"
     ]
    }
   ],
   "source": [
    "print( np.sqrt(X_train_scaled.shape[1]) )\n",
    "print( X_train_scaled.shape[1]/2 )"
   ]
  },
  {
   "cell_type": "code",
   "execution_count": 15,
   "metadata": {},
   "outputs": [
    {
     "data": {
      "text/plain": [
       "GridSearchCV(cv=5,\n",
       "             estimator=GradientBoostingClassifier(learning_rate=0.3,\n",
       "                                                  max_depth=10,\n",
       "                                                  max_features='sqrt',\n",
       "                                                  min_samples_leaf=61,\n",
       "                                                  min_samples_split=851,\n",
       "                                                  n_estimators=90,\n",
       "                                                  random_state=10,\n",
       "                                                  subsample=0.8),\n",
       "             n_jobs=-1, param_grid={'max_features': range(5, 70, 5)},\n",
       "             scoring='roc_auc')"
      ]
     },
     "execution_count": 15,
     "metadata": {},
     "output_type": "execute_result"
    }
   ],
   "source": [
    "param_test = {'max_features':range(5,70,5)}\n",
    "\n",
    "gsearch_4 = GridSearchCV(estimator = GradientBoostingClassifier(\n",
    "                                    #Tuned\n",
    "                                    n_estimators=90,\n",
    "                                    learning_rate=0.3,\n",
    "                                    max_depth= 10,\n",
    "                                    min_samples_split=851,\n",
    "                                    min_samples_leaf=61,\n",
    "    \n",
    "                                    #Not Tuned\n",
    "                                    max_features='sqrt',\n",
    "                                    subsample=0.8,\n",
    "                                    random_state=10), \n",
    "                         \n",
    "                         param_grid = param_test, \n",
    "                         scoring='roc_auc',\n",
    "                         n_jobs=-1,\n",
    "                         cv=5)\n",
    "\n",
    "gsearch_4.fit(X_train_scaled,y_train)"
   ]
  },
  {
   "cell_type": "code",
   "execution_count": 16,
   "metadata": {},
   "outputs": [
    {
     "name": "stdout",
     "output_type": "stream",
     "text": [
      "                  params  test_cv_score\n",
      "3   {'max_features': 20}       0.931288\n",
      "4   {'max_features': 25}       0.931189\n",
      "1   {'max_features': 10}       0.930678\n",
      "2   {'max_features': 15}       0.930670\n",
      "6   {'max_features': 35}       0.930665\n",
      "7   {'max_features': 40}       0.930569\n",
      "10  {'max_features': 55}       0.930401\n",
      "8   {'max_features': 45}       0.930399\n",
      "5   {'max_features': 30}       0.930310\n",
      "12  {'max_features': 65}       0.929935\n",
      "11  {'max_features': 60}       0.929558\n",
      "9   {'max_features': 50}       0.929558\n",
      "0    {'max_features': 5}       0.928968\n"
     ]
    }
   ],
   "source": [
    "#### Save grid search ####\n",
    "os.chdir('C:/Users/15177/Python_Project/HR_Analysis/Data/')\n",
    "joblib.dump(gsearch_4, 'gmb_gsearch_4.pkl')\n",
    "\n",
    "#### Read grid search results ####\n",
    "gsearch_4 = joblib.load(\"gmb_gsearch_4.pkl\")\n",
    "fnc_show_best_param(gsearch_4)"
   ]
  },
  {
   "cell_type": "markdown",
   "metadata": {},
   "source": [
    "# Step5: Subsample "
   ]
  },
  {
   "cell_type": "markdown",
   "metadata": {},
   "source": [
    "subsample with default=1.0 The fraction of samples to be used for fitting the individual base learners. If smaller than 1.0 this results in Stochastic Gradient Boosting. subsample interacts with the parameter n_estimators. Choosing subsample < 1.0 leads to a reduction of variance and an increase in bias.\n"
   ]
  },
  {
   "cell_type": "code",
   "execution_count": 17,
   "metadata": {},
   "outputs": [
    {
     "data": {
      "text/plain": [
       "GridSearchCV(cv=5,\n",
       "             estimator=GradientBoostingClassifier(learning_rate=0.3,\n",
       "                                                  max_depth=10, max_features=25,\n",
       "                                                  min_samples_leaf=61,\n",
       "                                                  min_samples_split=851,\n",
       "                                                  n_estimators=90,\n",
       "                                                  random_state=10),\n",
       "             n_jobs=-1,\n",
       "             param_grid={'subsample': array([0.9 , 0.91, 0.92, 0.93, 0.94, 0.95, 0.96, 0.97, 0.98, 0.99])},\n",
       "             scoring='roc_auc')"
      ]
     },
     "execution_count": 17,
     "metadata": {},
     "output_type": "execute_result"
    }
   ],
   "source": [
    "param_test = {'subsample':np.arange(0.9, 1.0, 0.01) }\n",
    "gsearch_5 = GridSearchCV(estimator = GradientBoostingClassifier(\n",
    "                                    #Tuned\n",
    "                                    n_estimators=90,\n",
    "                                    learning_rate=0.3,\n",
    "                                    max_depth= 10,\n",
    "                                    min_samples_split=851,\n",
    "                                    min_samples_leaf=61,\n",
    "                                    max_features=25,\n",
    "    \n",
    "                                    #Not Tuned\n",
    "                                    random_state=10), \n",
    " \n",
    "                         param_grid = param_test, \n",
    "                         scoring='roc_auc',\n",
    "                         n_jobs=-1,\n",
    "                         cv=5)\n",
    "\n",
    "gsearch_5.fit(X_train_scaled,y_train)"
   ]
  },
  {
   "cell_type": "code",
   "execution_count": 18,
   "metadata": {},
   "outputs": [
    {
     "name": "stdout",
     "output_type": "stream",
     "text": [
      "                              params  test_cv_score\n",
      "2                {'subsample': 0.92}       0.931349\n",
      "8  {'subsample': 0.9800000000000001}       0.931207\n",
      "9  {'subsample': 0.9900000000000001}       0.931199\n",
      "5  {'subsample': 0.9500000000000001}       0.931119\n",
      "3                {'subsample': 0.93}       0.931078\n",
      "7  {'subsample': 0.9700000000000001}       0.931065\n",
      "6  {'subsample': 0.9600000000000001}       0.930974\n",
      "1                {'subsample': 0.91}       0.930927\n",
      "0                 {'subsample': 0.9}       0.930615\n",
      "4  {'subsample': 0.9400000000000001}       0.930253\n"
     ]
    }
   ],
   "source": [
    "#### Save grid search ####\n",
    "os.chdir('C:/Users/15177/Python_Project/HR_Analysis/Data/')\n",
    "joblib.dump(gsearch_5, 'gmb_gsearch_5.pkl')\n",
    "\n",
    "#### Read grid search results ####\n",
    "gsearch_5 = joblib.load(\"gmb_gsearch_5.pkl\")\n",
    "fnc_show_best_param(gsearch_5)"
   ]
  },
  {
   "cell_type": "markdown",
   "metadata": {},
   "source": [
    "### subsample is about 0.95. "
   ]
  },
  {
   "cell_type": "markdown",
   "metadata": {},
   "source": [
    "# Step 6:  Lower Learning Rate"
   ]
  },
  {
   "cell_type": "markdown",
   "metadata": {},
   "source": [
    "### Next, we refine learning_rate and n_estimator\n",
    "Explore a wider range of learning rate around 0.1 and a bit more trees from 120 to 1000."
   ]
  },
  {
   "cell_type": "code",
   "execution_count": 19,
   "metadata": {},
   "outputs": [
    {
     "data": {
      "text/plain": [
       "GridSearchCV(cv=5,\n",
       "             estimator=GradientBoostingClassifier(learning_rate=0.3,\n",
       "                                                  max_depth=10, max_features=25,\n",
       "                                                  min_samples_leaf=61,\n",
       "                                                  min_samples_split=851,\n",
       "                                                  n_estimators=90,\n",
       "                                                  random_state=10,\n",
       "                                                  subsample=0.95),\n",
       "             n_jobs=-1,\n",
       "             param_grid={'learning_rate': [0.05, 0.1, 0.2],\n",
       "                         'n_estimators': range(200, 1000, 250)},\n",
       "             scoring='roc_auc')"
      ]
     },
     "execution_count": 19,
     "metadata": {},
     "output_type": "execute_result"
    }
   ],
   "source": [
    "param_test = {'learning_rate':[0.05, 0.1, 0.2], 'n_estimators': range(200, 1000, 250)}\n",
    "gsearch_6 = GridSearchCV(estimator = GradientBoostingClassifier(\n",
    "                                    #Tuned\n",
    "                                    n_estimators=90,\n",
    "                                    learning_rate=0.3,\n",
    "                                    max_depth= 10,\n",
    "                                    min_samples_split=851,\n",
    "                                    min_samples_leaf=61,\n",
    "                                    max_features=25,\n",
    "                                    subsample=0.95,\n",
    "    \n",
    "                                    #Not Tuned\n",
    "                                    random_state=10), \n",
    "                        \n",
    "                         param_grid = param_test, \n",
    "                         scoring='roc_auc',\n",
    "                         n_jobs=-1,\n",
    "                         cv=5)\n",
    "\n",
    "gsearch_6.fit(X_train_scaled,y_train)"
   ]
  },
  {
   "cell_type": "code",
   "execution_count": 20,
   "metadata": {},
   "outputs": [
    {
     "name": "stdout",
     "output_type": "stream",
     "text": [
      "                                          params  test_cv_score\n",
      "1   {'learning_rate': 0.05, 'n_estimators': 450}       0.932882\n",
      "4    {'learning_rate': 0.1, 'n_estimators': 200}       0.932648\n",
      "0   {'learning_rate': 0.05, 'n_estimators': 200}       0.932472\n",
      "2   {'learning_rate': 0.05, 'n_estimators': 700}       0.932124\n",
      "3   {'learning_rate': 0.05, 'n_estimators': 950}       0.931306\n",
      "5    {'learning_rate': 0.1, 'n_estimators': 450}       0.931168\n",
      "8    {'learning_rate': 0.2, 'n_estimators': 200}       0.930526\n",
      "6    {'learning_rate': 0.1, 'n_estimators': 700}       0.929932\n",
      "7    {'learning_rate': 0.1, 'n_estimators': 950}       0.928534\n",
      "9    {'learning_rate': 0.2, 'n_estimators': 450}       0.927739\n",
      "10   {'learning_rate': 0.2, 'n_estimators': 700}       0.925963\n",
      "11   {'learning_rate': 0.2, 'n_estimators': 950}       0.924116\n"
     ]
    }
   ],
   "source": [
    "#### Save grid search ####\n",
    "os.chdir('C:/Users/15177/Python_Project/HR_Analysis/Data/')\n",
    "joblib.dump(gsearch_6, 'gmb_gsearch_6.pkl')\n",
    "\n",
    "#### Read grid search results ####\n",
    "gsearch_6 = joblib.load(\"gmb_gsearch_6.pkl\")\n",
    "fnc_show_best_param(gsearch_6)"
   ]
  },
  {
   "cell_type": "code",
   "execution_count": 21,
   "metadata": {},
   "outputs": [
    {
     "name": "stdout",
     "output_type": "stream",
     "text": [
      "                                          params  test_cv_score\n",
      "5   {'learning_rate': 0.03, 'n_estimators': 450}       0.933050\n",
      "6   {'learning_rate': 0.03, 'n_estimators': 700}       0.932985\n",
      "9   {'learning_rate': 0.05, 'n_estimators': 450}       0.932882\n",
      "7   {'learning_rate': 0.03, 'n_estimators': 950}       0.932544\n",
      "3   {'learning_rate': 0.01, 'n_estimators': 950}       0.932539\n",
      "8   {'learning_rate': 0.05, 'n_estimators': 200}       0.932472\n",
      "10  {'learning_rate': 0.05, 'n_estimators': 700}       0.932124\n",
      "2   {'learning_rate': 0.01, 'n_estimators': 700}       0.931653\n",
      "11  {'learning_rate': 0.05, 'n_estimators': 950}       0.931306\n",
      "4   {'learning_rate': 0.03, 'n_estimators': 200}       0.930731\n",
      "1   {'learning_rate': 0.01, 'n_estimators': 450}       0.929068\n",
      "0   {'learning_rate': 0.01, 'n_estimators': 200}       0.920709\n"
     ]
    }
   ],
   "source": [
    "param_test = {'learning_rate':[0.01, 0.03, 0.05], 'n_estimators': range(200, 1000, 250)}\n",
    "gsearch_6_2 = GridSearchCV(estimator = GradientBoostingClassifier(\n",
    "                                    #Tuned\n",
    "                                    n_estimators=90,\n",
    "                                    learning_rate=0.3,\n",
    "                                    max_depth= 10,\n",
    "                                    min_samples_split=851,\n",
    "                                    min_samples_leaf=61,\n",
    "                                    max_features=25,\n",
    "                                    subsample=0.95,\n",
    "    \n",
    "                                    #Not Tuned\n",
    "                                    random_state=10), \n",
    "                        \n",
    "                         param_grid = param_test, \n",
    "                         scoring='roc_auc',\n",
    "                         n_jobs=-1,\n",
    "                         cv=5)\n",
    "\n",
    "gsearch_6_2.fit(X_train_scaled,y_train)\n",
    "\n",
    "#### Save grid search ####\n",
    "os.chdir('C:/Users/15177/Python_Project/HR_Analysis/Data/')\n",
    "joblib.dump(gsearch_6_2, 'gmb_gsearch_6_2.pkl')\n",
    "\n",
    "#### Read grid search results ####\n",
    "gsearch_6_2 = joblib.load(\"gmb_gsearch_6_2.pkl\")\n",
    "fnc_show_best_param(gsearch_6_2)"
   ]
  },
  {
   "cell_type": "markdown",
   "metadata": {},
   "source": [
    "<p> <b> <span style=\"color:darkred\"> NOTE: </span> </b> </p>\n",
    "Learning rate is reduced to 0.03 with an increased number of trees('n_estimators' = 700). "
   ]
  },
  {
   "cell_type": "markdown",
   "metadata": {},
   "source": [
    "# Summary"
   ]
  },
  {
   "cell_type": "markdown",
   "metadata": {},
   "source": [
    "### Baseline Model"
   ]
  },
  {
   "cell_type": "code",
   "execution_count": 22,
   "metadata": {},
   "outputs": [
    {
     "name": "stdout",
     "output_type": "stream",
     "text": [
      "------Training Set-------\n",
      "Model Report\n",
      "Accuracy : 0.86223\n",
      "AUC Score: 0.9317\n",
      "------Testing Set-------\n",
      "Model Report\n",
      "Accuracy : 0.85538\n",
      "AUC Score: 0.92505\n",
      "\n",
      "\n",
      "------Feature Importance Score based on Training Set-------\n"
     ]
    },
    {
     "data": {
      "image/png": "[encoded data removed]",
      "text/plain": [
       "<Figure size 864x288 with 1 Axes>"
      ]
     },
     "metadata": {
      "needs_background": "light"
     },
     "output_type": "display_data"
    }
   ],
   "source": [
    "gbm0 = GradientBoostingClassifier(random_state=10)\n",
    "modelfit(gbm0, X_train_scaled , y_train, X_test_scaled, y_test)"
   ]
  },
  {
   "cell_type": "markdown",
   "metadata": {},
   "source": [
    "### Final Model"
   ]
  },
  {
   "cell_type": "code",
   "execution_count": 23,
   "metadata": {
    "scrolled": true
   },
   "outputs": [
    {
     "name": "stdout",
     "output_type": "stream",
     "text": [
      "------Training Set-------\n",
      "Model Report\n",
      "Accuracy : 0.87896\n",
      "AUC Score: 0.94977\n",
      "------Testing Set-------\n",
      "Model Report\n",
      "Accuracy : 0.8599\n",
      "AUC Score: 0.93614\n",
      "\n",
      "\n",
      "------Feature Importance Score based on Training Set-------\n"
     ]
    },
    {
     "data": {
      "image/png": "[encoded data removed]",
      "text/plain": [
       "<Figure size 864x288 with 1 Axes>"
      ]
     },
     "metadata": {
      "needs_background": "light"
     },
     "output_type": "display_data"
    }
   ],
   "source": [
    "modelfit(gsearch_6_2.best_estimator_, X_train_scaled , y_train, X_test_scaled, y_test)"
   ]
  },
  {
   "cell_type": "markdown",
   "metadata": {},
   "source": [
    "### Feature importance\n",
    "based on final model"
   ]
  },
  {
   "cell_type": "code",
   "execution_count": 24,
   "metadata": {},
   "outputs": [
    {
     "data": {
      "text/plain": [
       "0      city_development_index\n",
       "1              training_hours\n",
       "2                   x0_city_1\n",
       "3                  x0_city_10\n",
       "4                 x0_city_100\n",
       "                ...          \n",
       "148                x5_Pvt Ltd\n",
       "149           education_level\n",
       "150                experience\n",
       "151              company_size\n",
       "152              last_new_job\n",
       "Name: feature_name, Length: 153, dtype: object"
      ]
     },
     "execution_count": 24,
     "metadata": {},
     "output_type": "execute_result"
    }
   ],
   "source": [
    "feature_name = pd.read_csv('X_index.csv')['feature_name']\n",
    "feature_name"
   ]
  },
  {
   "cell_type": "code",
   "execution_count": 25,
   "metadata": {},
   "outputs": [
    {
     "data": {
      "text/plain": [
       "Text(0, 0.5, 'Feature Importance Score')"
      ]
     },
     "execution_count": 25,
     "metadata": {},
     "output_type": "execute_result"
    },
    {
     "data": {
      "image/png": "[encoded data removed]",
      "text/plain": [
       "<Figure size 864x288 with 1 Axes>"
      ]
     },
     "metadata": {
      "needs_background": "light"
     },
     "output_type": "display_data"
    }
   ],
   "source": [
    "feat_imp = pd.Series(data= gsearch_6_2.best_estimator_.feature_importances_, index= feature_name).sort_values(ascending=False)\n",
    "\n",
    "\n",
    "#### Filter out less important fatures\n",
    "feat_imp_filter = feat_imp[feat_imp> 0.01]\n",
    "\n",
    "#### Plot\n",
    "feat_imp_filter.plot(kind='bar', title='Feature Importances')\n",
    "plt.ylabel('Feature Importance Score')"
   ]
  },
  {
   "cell_type": "markdown",
   "metadata": {},
   "source": [
    "# End"
   ]
  }
 ],
 "metadata": {
  "kernelspec": {
   "display_name": "Python 3",
   "language": "python",
   "name": "python3"
  },
  "language_info": {
   "codemirror_mode": {
    "name": "ipython",
    "version": 3
   },
   "file_extension": ".py",
   "mimetype": "text/x-python",
   "name": "python",
   "nbconvert_exporter": "python",
   "pygments_lexer": "ipython3",
   "version": "3.8.5"
  }
 },
 "nbformat": 4,
 "nbformat_minor": 4
}
