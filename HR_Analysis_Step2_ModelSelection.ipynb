{
 "cells": [
  {
   "cell_type": "markdown",
   "metadata": {},
   "source": [
    "# HR Analytics: Job Change of Data Scientists\n",
    "\n",
    "\n",
    "## Select the optimal model for the problem\n",
    "I create a list of models (without parameter tuning) and test them on this dataset. The goal is to identify a good model and I will tune the model in a separate section."
   ]
  },
  {
   "cell_type": "code",
   "execution_count": 2,
   "metadata": {},
   "outputs": [],
   "source": [
    "import pandas as pd\n",
    "import numpy as np\n",
    "import os\n",
    "import matplotlib.pyplot as plt "
   ]
  },
  {
   "cell_type": "markdown",
   "metadata": {},
   "source": [
    "**Data Loading**\n",
    "This dataset is processed already:\n",
    "1. Remove unneeded features\n",
    "2. Impute missing values\n",
    "3. Encode ordinal variables\n",
    "4. One hot encode for \"Nominal variable\n",
    "5. Impute minor outcome\n",
    "6. Split the dataset into train and test. \n",
    "7. Then, standardize the numeric column based on train set"
   ]
  },
  {
   "cell_type": "code",
   "execution_count": 3,
   "metadata": {},
   "outputs": [],
   "source": [
    "os.chdir('C:/Users/15177/Python_Project/HR_Analysis/Data/')"
   ]
  },
  {
   "cell_type": "code",
   "execution_count": 4,
   "metadata": {},
   "outputs": [],
   "source": [
    "#### np array\n",
    "X_train_scaled = pd.read_csv('X_train_scaled.csv').values\n",
    "X_test_scaled = pd.read_csv('X_test_scaled.csv').values\n",
    "y_train = pd.read_csv('y_train.csv').values.ravel()\n",
    "y_test = pd.read_csv('y_test.csv').values.ravel()"
   ]
  },
  {
   "cell_type": "markdown",
   "metadata": {},
   "source": [
    "# 1) Create a list of models"
   ]
  },
  {
   "cell_type": "code",
   "execution_count": 5,
   "metadata": {},
   "outputs": [],
   "source": [
    "from sklearn.linear_model import LogisticRegression\n",
    "from sklearn.linear_model import SGDClassifier \n",
    "from sklearn.tree import DecisionTreeClassifier\n",
    "from sklearn.ensemble import RandomForestClassifier, GradientBoostingClassifier\n",
    "from xgboost import XGBClassifier\n",
    "from sklearn.ensemble import VotingClassifier"
   ]
  },
  {
   "cell_type": "markdown",
   "metadata": {},
   "source": [
    "**Creat my own Ensemble Model**"
   ]
  },
  {
   "cell_type": "code",
   "execution_count": 6,
   "metadata": {},
   "outputs": [],
   "source": [
    "LogisticRegression_clf = LogisticRegression(max_iter=1000)\n",
    "SVM_SGD_clf            = SGDClassifier(loss='log')\n",
    "DecisionTree_clf       = DecisionTreeClassifier()\n",
    "RandomForest_clf       = RandomForestClassifier()\n",
    "GradientBoost_clf      = GradientBoostingClassifier()\n",
    "Xgboost_clf            = XGBClassifier(use_label_encoder=False)\n",
    "\n",
    "\n",
    "voting_clf=VotingClassifier( \n",
    "    estimators = [\n",
    "                  ('lg', LogisticRegression_clf),\n",
    "                  ('sv', SVM_SGD_clf),\n",
    "                  ('dt', DecisionTree_clf), \n",
    "                  ('rf', RandomForest_clf), \n",
    "                  ('gb', GradientBoost_clf),\n",
    "                  ('xg', Xgboost_clf)\n",
    "    ],\n",
    "    voting='soft'\n",
    ")"
   ]
  },
  {
   "cell_type": "markdown",
   "metadata": {},
   "source": [
    "**Put all of my candidate models in a dictionary:**\n",
    "I can train them at one shoot."
   ]
  },
  {
   "cell_type": "code",
   "execution_count": 7,
   "metadata": {},
   "outputs": [],
   "source": [
    "esimators = {\n",
    "    'LogisticRegression': LogisticRegression(max_iter=1000),\n",
    "    'SVM_SGD': SGDClassifier(loss='log'),\n",
    "    'DecisionTree': DecisionTreeClassifier(),\n",
    "    'RandomForest': RandomForestClassifier(),\n",
    "    'GradientBoost' :GradientBoostingClassifier(),\n",
    "    'Xgboost': XGBClassifier(use_label_encoder=False),\n",
    "    'My_voting_clf':voting_clf                     \n",
    "} "
   ]
  },
  {
   "cell_type": "code",
   "execution_count": 8,
   "metadata": {},
   "outputs": [
    {
     "name": "stdout",
     "output_type": "stream",
     "text": [
      "LogisticRegression is fitted\n",
      "SVM_SGD is fitted\n",
      "DecisionTree is fitted\n",
      "RandomForest is fitted\n",
      "GradientBoost is fitted\n",
      "Xgboost is fitted\n",
      "[21:32:23] WARNING: C:/Users/Administrator/workspace/xgboost-win64_release_1.3.0/src/learner.cc:1061: Starting in XGBoost 1.3.0, the default evaluation metric used with the objective 'binary:logistic' was changed from 'error' to 'logloss'. Explicitly set eval_metric if you'd like to restore the old behavior.\n",
      "My_voting_clf is fitted\n",
      "[21:32:46] WARNING: C:/Users/Administrator/workspace/xgboost-win64_release_1.3.0/src/learner.cc:1061: Starting in XGBoost 1.3.0, the default evaluation metric used with the objective 'binary:logistic' was changed from 'error' to 'logloss'. Explicitly set eval_metric if you'd like to restore the old behavior.\n"
     ]
    }
   ],
   "source": [
    "# Train model\n",
    "for m in esimators:\n",
    "    print(m + ' is fitted')\n",
    "    esimators[m].fit(X_train_scaled, y_train)"
   ]
  },
  {
   "cell_type": "markdown",
   "metadata": {},
   "source": [
    "# 2) Prediction"
   ]
  },
  {
   "cell_type": "code",
   "execution_count": 9,
   "metadata": {},
   "outputs": [
    {
     "name": "stdout",
     "output_type": "stream",
     "text": [
      "LogisticRegression predicted\n",
      "SVM_SGD predicted\n",
      "DecisionTree predicted\n",
      "RandomForest predicted\n",
      "GradientBoost predicted\n",
      "Xgboost predicted\n",
      "My_voting_clf predicted\n"
     ]
    }
   ],
   "source": [
    "Y_pred = dict()\n",
    "\n",
    "for m in esimators:\n",
    "    print(m + ' predicted')\n",
    "    Y_pred[m] = esimators[m].predict(X_test_scaled)"
   ]
  },
  {
   "cell_type": "markdown",
   "metadata": {},
   "source": [
    "# 3) Model evaluation"
   ]
  },
  {
   "cell_type": "code",
   "execution_count": 10,
   "metadata": {},
   "outputs": [],
   "source": [
    "from sklearn.metrics import confusion_matrix, classification_report, plot_roc_curve, roc_auc_score, roc_curve, accuracy_score"
   ]
  },
  {
   "cell_type": "code",
   "execution_count": 11,
   "metadata": {},
   "outputs": [],
   "source": [
    "my_color = {\n",
    "    'LogisticRegression': 'yellow',\n",
    "    'SVM_SGD':            'darkorange',\n",
    "    'DecisionTree':       'green',\n",
    "    'RandomForest':       'black',\n",
    "    'GradientBoost' :     'teal',\n",
    "    'Xgboost':            'purple',\n",
    "    'My_voting_clf':      'red'\n",
    "}\n"
   ]
  },
  {
   "cell_type": "markdown",
   "metadata": {},
   "source": [
    "**ROC curve for testing set**"
   ]
  },
  {
   "cell_type": "code",
   "execution_count": 14,
   "metadata": {},
   "outputs": [
    {
     "name": "stdout",
     "output_type": "stream",
     "text": [
      "LogisticRegression predicted\n",
      "SVM_SGD predicted\n",
      "DecisionTree predicted\n",
      "RandomForest predicted\n",
      "GradientBoost predicted\n",
      "Xgboost predicted\n",
      "My_voting_clf predicted\n"
     ]
    },
    {
     "data": {
      "image/png": "[encoded data removed]",
      "text/plain": [
       "<Figure size 648x576 with 1 Axes>"
      ]
     },
     "metadata": {
      "needs_background": "light"
     },
     "output_type": "display_data"
    },
    {
     "data": {
      "text/html": [
       "<div>\n",
       "<style scoped>\n",
       "    .dataframe tbody tr th:only-of-type {\n",
       "        vertical-align: middle;\n",
       "    }\n",
       "\n",
       "    .dataframe tbody tr th {\n",
       "        vertical-align: top;\n",
       "    }\n",
       "\n",
       "    .dataframe thead th {\n",
       "        text-align: right;\n",
       "    }\n",
       "</style>\n",
       "<table border=\"1\" class=\"dataframe\">\n",
       "  <thead>\n",
       "    <tr style=\"text-align: right;\">\n",
       "      <th></th>\n",
       "      <th>AUC - TestingSet</th>\n",
       "    </tr>\n",
       "  </thead>\n",
       "  <tbody>\n",
       "    <tr>\n",
       "      <th>Xgboost</th>\n",
       "      <td>0.933</td>\n",
       "    </tr>\n",
       "    <tr>\n",
       "      <th>RandomForest</th>\n",
       "      <td>0.932</td>\n",
       "    </tr>\n",
       "    <tr>\n",
       "      <th>GradientBoost</th>\n",
       "      <td>0.929</td>\n",
       "    </tr>\n",
       "    <tr>\n",
       "      <th>My_voting_clf</th>\n",
       "      <td>0.926</td>\n",
       "    </tr>\n",
       "    <tr>\n",
       "      <th>LogisticRegression</th>\n",
       "      <td>0.819</td>\n",
       "    </tr>\n",
       "    <tr>\n",
       "      <th>SVM_SGD</th>\n",
       "      <td>0.816</td>\n",
       "    </tr>\n",
       "    <tr>\n",
       "      <th>DecisionTree</th>\n",
       "      <td>0.814</td>\n",
       "    </tr>\n",
       "  </tbody>\n",
       "</table>\n",
       "</div>"
      ],
      "text/plain": [
       "                    AUC - TestingSet\n",
       "Xgboost                        0.933\n",
       "RandomForest                   0.932\n",
       "GradientBoost                  0.929\n",
       "My_voting_clf                  0.926\n",
       "LogisticRegression             0.819\n",
       "SVM_SGD                        0.816\n",
       "DecisionTree                   0.814"
      ]
     },
     "execution_count": 14,
     "metadata": {},
     "output_type": "execute_result"
    }
   ],
   "source": [
    "fig, ax = plt.subplots()\n",
    "fig.set_size_inches(9,8)\n",
    "Y_prob_pred = dict()\n",
    "Area_under_ROC = dict()\n",
    "\n",
    "for m in esimators:\n",
    "    print(m + ' predicted')\n",
    "    \n",
    "    #### Probability of being a certain class\n",
    "    ## This is matrix where row is the obervation, and columns have the prob of being x-th class\n",
    "    Y_prob_pred[m] = esimators[m].predict_proba(X_test_scaled) \n",
    "    ## For binary classification, we can only focus on calss-1\n",
    "    y_prob_pred = Y_prob_pred[m][:,1]\n",
    "    \n",
    "    \n",
    "    # Info to plot ROC curve\n",
    "    fpr, tpr, _ = roc_curve(y_test, y_prob_pred, pos_label=1)\n",
    "    \n",
    "    \n",
    "    # Area uner ROC\n",
    "    Area_under_ROC[m] = np.round( roc_auc_score(   y_test,   y_prob_pred   ),3)\n",
    "    \n",
    "    # Plot\n",
    "    plt.plot(fpr,tpr, label=m, color=my_color[m], linewidth=2, alpha=0.7)\n",
    "    \n",
    "    \n",
    "plt.title('Testing Set')    \n",
    "plt.xlabel('False-Positive rate')\n",
    "plt.ylabel('True-Positive rate')\n",
    "plt.legend()\n",
    "plt.show()   \n",
    "\n",
    "# Report AUC\n",
    "pd.DataFrame.from_dict(Area_under_ROC, orient='index', columns=['AUC - TestingSet']).sort_values(by='AUC - TestingSet',ascending=False)"
   ]
  },
  {
   "cell_type": "markdown",
   "metadata": {},
   "source": [
    "<p> <b> <span style=\"color:red\"> NOTE: Top three models include: </span> </b> </p> \n",
    "\n",
    "1. Xgboost\n",
    "2. RandomForest\n",
    "3. Gradient Boost\n",
    "\n",
    "Note: **My_voting_clf** is an ensemble model which has Xgboost, Random Forest, Gradient Boost, Logistic regression, Decision Tree, and SVM classifier. This model is just a reference."
   ]
  },
  {
   "cell_type": "markdown",
   "metadata": {},
   "source": [
    "**Overall performance for Testing set**"
   ]
  },
  {
   "cell_type": "code",
   "execution_count": 13,
   "metadata": {},
   "outputs": [
    {
     "name": "stdout",
     "output_type": "stream",
     "text": [
      "LogisticRegression predicted\n",
      "SVM_SGD predicted\n",
      "DecisionTree predicted\n",
      "RandomForest predicted\n",
      "GradientBoost predicted\n",
      "Xgboost predicted\n",
      "My_voting_clf predicted\n",
      "--------------------LogisticRegression--------------------\n",
      "              precision    recall  f1-score   support\n",
      "\n",
      "         0.0       0.78      0.79      0.78      2876\n",
      "         1.0       0.79      0.78      0.78      2876\n",
      "\n",
      "    accuracy                           0.78      5752\n",
      "   macro avg       0.78      0.78      0.78      5752\n",
      "weighted avg       0.78      0.78      0.78      5752\n",
      "\n",
      "--------------------SVM_SGD--------------------\n",
      "              precision    recall  f1-score   support\n",
      "\n",
      "         0.0       0.78      0.78      0.78      2876\n",
      "         1.0       0.78      0.78      0.78      2876\n",
      "\n",
      "    accuracy                           0.78      5752\n",
      "   macro avg       0.78      0.78      0.78      5752\n",
      "weighted avg       0.78      0.78      0.78      5752\n",
      "\n",
      "--------------------DecisionTree--------------------\n",
      "              precision    recall  f1-score   support\n",
      "\n",
      "         0.0       0.82      0.81      0.81      2876\n",
      "         1.0       0.81      0.82      0.81      2876\n",
      "\n",
      "    accuracy                           0.81      5752\n",
      "   macro avg       0.81      0.81      0.81      5752\n",
      "weighted avg       0.81      0.81      0.81      5752\n",
      "\n",
      "--------------------RandomForest--------------------\n",
      "              precision    recall  f1-score   support\n",
      "\n",
      "         0.0       0.84      0.88      0.86      2876\n",
      "         1.0       0.88      0.83      0.85      2876\n",
      "\n",
      "    accuracy                           0.86      5752\n",
      "   macro avg       0.86      0.86      0.86      5752\n",
      "weighted avg       0.86      0.86      0.86      5752\n",
      "\n",
      "--------------------GradientBoost--------------------\n",
      "              precision    recall  f1-score   support\n",
      "\n",
      "         0.0       0.86      0.85      0.86      2876\n",
      "         1.0       0.85      0.86      0.86      2876\n",
      "\n",
      "    accuracy                           0.86      5752\n",
      "   macro avg       0.86      0.86      0.86      5752\n",
      "weighted avg       0.86      0.86      0.86      5752\n",
      "\n",
      "--------------------Xgboost--------------------\n",
      "              precision    recall  f1-score   support\n",
      "\n",
      "         0.0       0.86      0.87      0.87      2876\n",
      "         1.0       0.87      0.86      0.86      2876\n",
      "\n",
      "    accuracy                           0.86      5752\n",
      "   macro avg       0.86      0.86      0.86      5752\n",
      "weighted avg       0.86      0.86      0.86      5752\n",
      "\n",
      "--------------------My_voting_clf--------------------\n",
      "              precision    recall  f1-score   support\n",
      "\n",
      "         0.0       0.87      0.85      0.86      2876\n",
      "         1.0       0.85      0.88      0.86      2876\n",
      "\n",
      "    accuracy                           0.86      5752\n",
      "   macro avg       0.86      0.86      0.86      5752\n",
      "weighted avg       0.86      0.86      0.86      5752\n",
      "\n"
     ]
    }
   ],
   "source": [
    "Overall_performance  = dict()\n",
    "\n",
    "for m in esimators:\n",
    "    print(m + ' predicted')\n",
    "    Y_pred[m] = esimators[m].predict(X_test_scaled)\n",
    "    Y_prob = esimators[m].predict_proba(X_test_scaled)[:,1]\n",
    "    Overall_performance[m] = classification_report(y_test, Y_pred[m])\n",
    "    \n",
    "    \n",
    "for m in Overall_performance:\n",
    "    print('--------------------'+ m +'--------------------')\n",
    "    print(Overall_performance[m])"
   ]
  },
  {
   "cell_type": "markdown",
   "metadata": {},
   "source": [
    "By reviewing accuracy and f1-score, I have the same conclusion that the *top 3 models* are:\n",
    "1. Xgboost\n",
    "2. RandomForest\n",
    "3. Gradient Boost"
   ]
  },
  {
   "cell_type": "markdown",
   "metadata": {},
   "source": [
    "# What's next\n",
    "\n",
    "I will tune parameters for Xgboost, RandomForest, and GradientBoost using cross-validation. This is in a separate notebook."
   ]
  }
 ],
 "metadata": {
  "kernelspec": {
   "display_name": "Python 3",
   "language": "python",
   "name": "python3"
  },
  "language_info": {
   "codemirror_mode": {
    "name": "ipython",
    "version": 3
   },
   "file_extension": ".py",
   "mimetype": "text/x-python",
   "name": "python",
   "nbconvert_exporter": "python",
   "pygments_lexer": "ipython3",
   "version": "3.8.5"
  }
 },
 "nbformat": 4,
 "nbformat_minor": 4
}
