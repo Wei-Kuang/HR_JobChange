{
 "cells": [
  {
   "cell_type": "markdown",
   "metadata": {},
   "source": [
    "# HR Analytics: Job Change of Data Scientists"
   ]
  },
  {
   "cell_type": "markdown",
   "metadata": {},
   "source": [
    "# Xgboost Model Performance"
   ]
  },
  {
   "cell_type": "markdown",
   "metadata": {},
   "source": [
    "| Model              | Accuracy (testing set) | AUC score (testing set) |\n",
    "| :--                | :--                    |:--                      |\n",
    "| **Default**        | 0.859                  | 0.935                   |\n",
    "| **Final Model**    | 0.862                  | 0.937                   |\n",
    "\n",
    "\n",
    "**Footnote**\n",
    "- Default model: The model using default hyper parameters.\n",
    "- Final model: The model with tuned hyper parameters."
   ]
  },
  {
   "cell_type": "markdown",
   "metadata": {},
   "source": [
    "# Let's start the  hyper parameter optimization "
   ]
  },
  {
   "cell_type": "markdown",
   "metadata": {},
   "source": [
    "## Modules"
   ]
  },
  {
   "cell_type": "code",
   "execution_count": 1,
   "metadata": {},
   "outputs": [],
   "source": [
    "import numpy as np\n",
    "import pylab as pl\n",
    "import pandas as pd\n",
    "import matplotlib.pyplot as plt \n",
    "%matplotlib inline\n",
    "import seaborn as sns"
   ]
  },
  {
   "cell_type": "code",
   "execution_count": 2,
   "metadata": {},
   "outputs": [
    {
     "name": "stdout",
     "output_type": "stream",
     "text": [
      "C:\\Users\\15177\\Python_Project\\HR_Analysis\n"
     ]
    }
   ],
   "source": [
    "import os # Set the working directory\n",
    "print (os.getcwd())"
   ]
  },
  {
   "cell_type": "code",
   "execution_count": 3,
   "metadata": {},
   "outputs": [],
   "source": [
    "import xgboost as xgb\n",
    "from xgboost.sklearn import XGBClassifier\n",
    "\n",
    "from sklearn.model_selection import cross_validate, GridSearchCV\n",
    "from sklearn import  metrics"
   ]
  },
  {
   "cell_type": "code",
   "execution_count": 4,
   "metadata": {},
   "outputs": [],
   "source": [
    "#### Save grid search object\n",
    "# https://stackoverflow.com/questions/51424312/how-to-save-gridsearchcv-object\n",
    "import joblib"
   ]
  },
  {
   "cell_type": "markdown",
   "metadata": {},
   "source": [
    "# Load the processed dataset"
   ]
  },
  {
   "cell_type": "code",
   "execution_count": 5,
   "metadata": {},
   "outputs": [],
   "source": [
    "import os\n",
    "os.chdir('C:/Users/15177/Python_Project/HR_Analysis/Data/')\n",
    "from numpy import genfromtxt\n",
    "X_train_scaled = genfromtxt('X_train_scaled.csv', delimiter=',')\n",
    "X_test_scaled = genfromtxt('X_test_scaled.csv', delimiter=',')\n",
    "y_train = genfromtxt('y_train.csv', delimiter=',')\n",
    "y_test = genfromtxt('y_test.csv', delimiter=',')"
   ]
  },
  {
   "cell_type": "code",
   "execution_count": 6,
   "metadata": {},
   "outputs": [
    {
     "data": {
      "text/plain": [
       "0      city_development_index\n",
       "1              training_hours\n",
       "2                   x0_city_1\n",
       "3                  x0_city_10\n",
       "4                 x0_city_100\n",
       "                ...          \n",
       "148                x5_Pvt Ltd\n",
       "149           education_level\n",
       "150                experience\n",
       "151              company_size\n",
       "152              last_new_job\n",
       "Name: feature_name, Length: 153, dtype: object"
      ]
     },
     "execution_count": 6,
     "metadata": {},
     "output_type": "execute_result"
    }
   ],
   "source": [
    "# feature name for the transformed X\n",
    "feature_name = pd.read_csv('X_index.csv')['feature_name']\n",
    "feature_name"
   ]
  },
  {
   "cell_type": "code",
   "execution_count": 7,
   "metadata": {},
   "outputs": [
    {
     "data": {
      "text/plain": [
       "{'f0': 'city_development_index',\n",
       " 'f1': 'training_hours',\n",
       " 'f2': 'x0_city_1',\n",
       " 'f3': 'x0_city_10',\n",
       " 'f4': 'x0_city_100',\n",
       " 'f5': 'x0_city_101',\n",
       " 'f6': 'x0_city_102',\n",
       " 'f7': 'x0_city_103',\n",
       " 'f8': 'x0_city_104',\n",
       " 'f9': 'x0_city_105',\n",
       " 'f10': 'x0_city_106',\n",
       " 'f11': 'x0_city_107',\n",
       " 'f12': 'x0_city_109',\n",
       " 'f13': 'x0_city_11',\n",
       " 'f14': 'x0_city_111',\n",
       " 'f15': 'x0_city_114',\n",
       " 'f16': 'x0_city_115',\n",
       " 'f17': 'x0_city_116',\n",
       " 'f18': 'x0_city_117',\n",
       " 'f19': 'x0_city_118',\n",
       " 'f20': 'x0_city_12',\n",
       " 'f21': 'x0_city_120',\n",
       " 'f22': 'x0_city_121',\n",
       " 'f23': 'x0_city_123',\n",
       " 'f24': 'x0_city_126',\n",
       " 'f25': 'x0_city_127',\n",
       " 'f26': 'x0_city_128',\n",
       " 'f27': 'x0_city_129',\n",
       " 'f28': 'x0_city_13',\n",
       " 'f29': 'x0_city_131',\n",
       " 'f30': 'x0_city_133',\n",
       " 'f31': 'x0_city_134',\n",
       " 'f32': 'x0_city_136',\n",
       " 'f33': 'x0_city_138',\n",
       " 'f34': 'x0_city_139',\n",
       " 'f35': 'x0_city_14',\n",
       " 'f36': 'x0_city_140',\n",
       " 'f37': 'x0_city_141',\n",
       " 'f38': 'x0_city_142',\n",
       " 'f39': 'x0_city_143',\n",
       " 'f40': 'x0_city_144',\n",
       " 'f41': 'x0_city_145',\n",
       " 'f42': 'x0_city_146',\n",
       " 'f43': 'x0_city_149',\n",
       " 'f44': 'x0_city_150',\n",
       " 'f45': 'x0_city_152',\n",
       " 'f46': 'x0_city_155',\n",
       " 'f47': 'x0_city_157',\n",
       " 'f48': 'x0_city_158',\n",
       " 'f49': 'x0_city_159',\n",
       " 'f50': 'x0_city_16',\n",
       " 'f51': 'x0_city_160',\n",
       " 'f52': 'x0_city_162',\n",
       " 'f53': 'x0_city_165',\n",
       " 'f54': 'x0_city_166',\n",
       " 'f55': 'x0_city_167',\n",
       " 'f56': 'x0_city_171',\n",
       " 'f57': 'x0_city_173',\n",
       " 'f58': 'x0_city_175',\n",
       " 'f59': 'x0_city_176',\n",
       " 'f60': 'x0_city_179',\n",
       " 'f61': 'x0_city_18',\n",
       " 'f62': 'x0_city_180',\n",
       " 'f63': 'x0_city_19',\n",
       " 'f64': 'x0_city_2',\n",
       " 'f65': 'x0_city_20',\n",
       " 'f66': 'x0_city_21',\n",
       " 'f67': 'x0_city_23',\n",
       " 'f68': 'x0_city_24',\n",
       " 'f69': 'x0_city_25',\n",
       " 'f70': 'x0_city_26',\n",
       " 'f71': 'x0_city_27',\n",
       " 'f72': 'x0_city_28',\n",
       " 'f73': 'x0_city_30',\n",
       " 'f74': 'x0_city_31',\n",
       " 'f75': 'x0_city_33',\n",
       " 'f76': 'x0_city_36',\n",
       " 'f77': 'x0_city_37',\n",
       " 'f78': 'x0_city_39',\n",
       " 'f79': 'x0_city_40',\n",
       " 'f80': 'x0_city_41',\n",
       " 'f81': 'x0_city_42',\n",
       " 'f82': 'x0_city_43',\n",
       " 'f83': 'x0_city_44',\n",
       " 'f84': 'x0_city_45',\n",
       " 'f85': 'x0_city_46',\n",
       " 'f86': 'x0_city_48',\n",
       " 'f87': 'x0_city_50',\n",
       " 'f88': 'x0_city_53',\n",
       " 'f89': 'x0_city_54',\n",
       " 'f90': 'x0_city_55',\n",
       " 'f91': 'x0_city_57',\n",
       " 'f92': 'x0_city_59',\n",
       " 'f93': 'x0_city_61',\n",
       " 'f94': 'x0_city_62',\n",
       " 'f95': 'x0_city_64',\n",
       " 'f96': 'x0_city_65',\n",
       " 'f97': 'x0_city_67',\n",
       " 'f98': 'x0_city_69',\n",
       " 'f99': 'x0_city_7',\n",
       " 'f100': 'x0_city_70',\n",
       " 'f101': 'x0_city_71',\n",
       " 'f102': 'x0_city_72',\n",
       " 'f103': 'x0_city_73',\n",
       " 'f104': 'x0_city_74',\n",
       " 'f105': 'x0_city_75',\n",
       " 'f106': 'x0_city_76',\n",
       " 'f107': 'x0_city_77',\n",
       " 'f108': 'x0_city_78',\n",
       " 'f109': 'x0_city_79',\n",
       " 'f110': 'x0_city_8',\n",
       " 'f111': 'x0_city_80',\n",
       " 'f112': 'x0_city_81',\n",
       " 'f113': 'x0_city_82',\n",
       " 'f114': 'x0_city_83',\n",
       " 'f115': 'x0_city_84',\n",
       " 'f116': 'x0_city_89',\n",
       " 'f117': 'x0_city_9',\n",
       " 'f118': 'x0_city_90',\n",
       " 'f119': 'x0_city_91',\n",
       " 'f120': 'x0_city_93',\n",
       " 'f121': 'x0_city_94',\n",
       " 'f122': 'x0_city_97',\n",
       " 'f123': 'x0_city_98',\n",
       " 'f124': 'x0_city_99',\n",
       " 'f125': 'x1_Female',\n",
       " 'f126': 'x1_Male',\n",
       " 'f127': 'x1_No',\n",
       " 'f128': 'x1_Other',\n",
       " 'f129': 'x2_Has relevent experience',\n",
       " 'f130': 'x2_No relevent experience',\n",
       " 'f131': 'x3_Full time course',\n",
       " 'f132': 'x3_No',\n",
       " 'f133': 'x3_Part time course',\n",
       " 'f134': 'x3_no_enrollment',\n",
       " 'f135': 'x4_Arts',\n",
       " 'f136': 'x4_Business Degree',\n",
       " 'f137': 'x4_Humanities',\n",
       " 'f138': 'x4_No',\n",
       " 'f139': 'x4_No Major',\n",
       " 'f140': 'x4_Other',\n",
       " 'f141': 'x4_STEM',\n",
       " 'f142': 'x5_Early Stage Startup',\n",
       " 'f143': 'x5_Funded Startup',\n",
       " 'f144': 'x5_NGO',\n",
       " 'f145': 'x5_No',\n",
       " 'f146': 'x5_Other',\n",
       " 'f147': 'x5_Public Sector',\n",
       " 'f148': 'x5_Pvt Ltd',\n",
       " 'f149': 'education_level',\n",
       " 'f150': 'experience',\n",
       " 'f151': 'company_size',\n",
       " 'f152': 'last_new_job'}"
      ]
     },
     "execution_count": 7,
     "metadata": {},
     "output_type": "execute_result"
    }
   ],
   "source": [
    "# creat dictionary to show better-annotated feature index\n",
    "my_key = ['f'+str(x) for x in range(0,154)]\n",
    "my_value = list(feature_name)\n",
    "my_f_dict = dict(zip(my_key, my_value))\n",
    "my_f_dict"
   ]
  },
  {
   "cell_type": "markdown",
   "metadata": {},
   "source": [
    "# Create a function to find the optimal parameter according to grid search"
   ]
  },
  {
   "cell_type": "code",
   "execution_count": 8,
   "metadata": {},
   "outputs": [],
   "source": [
    "def fnc_show_best_param(grid_search):\n",
    "    gsearch = grid_search\n",
    "    params = np.array( [x for x in gsearch.cv_results_['params']] )\n",
    "    test_cv_score = gsearch.cv_results_['mean_test_score']\n",
    "    my_dict= {'params':params,'test_cv_score': test_cv_score}\n",
    "    df = pd.DataFrame(my_dict).sort_values(by='test_cv_score',ascending=False)\n",
    "    print(df)"
   ]
  },
  {
   "cell_type": "markdown",
   "metadata": {},
   "source": [
    "# Create a function to find the optimal number of trees using xgb.cv"
   ]
  },
  {
   "cell_type": "code",
   "execution_count": 9,
   "metadata": {},
   "outputs": [],
   "source": [
    "# test_results = pd.read_csv('test_results.csv')\n",
    "# This file is not avaiable\n",
    "\n",
    "def modelfit(alg, Xtrain, ytrain, Xtest, ytest, \n",
    "             feature_name = feature_name,\n",
    "             cv_folds=5, \n",
    "             my_f_dict = my_f_dict, \n",
    "             early_stopping_rounds=50):\n",
    "    \n",
    "    #### Train Set ####\n",
    "        \n",
    "    # Get the parameter from the input model(alg)\n",
    "    xgb_param = alg.get_xgb_params()\n",
    "\n",
    "    #### Prepare train data for xgboost ####\n",
    "    # Note:\n",
    "    # DMatrix is an internal data structure that is used by XGBoost, \n",
    "    # which is optimized for both memory efficiency and training speed. \n",
    "    # You can construct DMatrix from multiple different sources of data.\n",
    "    xgtrain = xgb.DMatrix(Xtrain, label= ytrain)\n",
    "\n",
    "    #### Run CV to determine the optimal number of tress ####\n",
    "    # Note: https://rdrr.io/cran/xgboost/man/xgb.cv.html ####\n",
    "    cvresult = xgb.cv(params= xgb_param, \n",
    "                      dtrain= xgtrain, # Data to be trained.\n",
    "                      num_boost_round=alg.get_params()['n_estimators'], \n",
    "                      nfold=cv_folds,\n",
    "                      metrics='auc', \n",
    "                      early_stopping_rounds=early_stopping_rounds)\n",
    "\n",
    "    #### Report the optimal tree numbers ####\n",
    "    print('optimal number of trees')\n",
    "    print(cvresult.shape[0])\n",
    "\n",
    "    #### Update tree numbers using the optimal number of trees ####\n",
    "    alg.set_params(n_estimators=cvresult.shape[0])\n",
    "        \n",
    "    \n",
    "    #### Fit data to the 'updated' model ####\n",
    "    alg.fit(Xtrain, ytrain, eval_metric='auc')\n",
    "        \n",
    "    #### Predict y using training set and the updated model ####\n",
    "    train_y_pred      = alg.predict(Xtrain)\n",
    "    train_y_predprob  = alg.predict_proba(Xtrain)[:,1]\n",
    "    print (\"\\nModel Report - The number of trees is updated already based on xgb.cv and training set\")\n",
    "    print (\"Accuracy (Train) : %.4g\" % metrics.accuracy_score(ytrain , train_y_pred)     )\n",
    "    print (\"AUC Score (Train): %f\"   % metrics.roc_auc_score( ytrain , train_y_predprob) )\n",
    "\n",
    "    #### The following code is not applicable\n",
    "    test_y_pred     = alg.predict(      Xtest)\n",
    "    test_y_predprob = alg.predict_proba(Xtest)[:,1]\n",
    "    print (\"\\n\")\n",
    "    print (\"Accuracy (Test) : %.4g\" % metrics.accuracy_score(ytest, test_y_pred) )\n",
    "    print ('AUC Score (Test): %f'    % metrics.roc_auc_score( ytest, test_y_predprob) )\n",
    "    \n",
    "    \n",
    "    #### Features importance ####\n",
    "    f_imp_value = list(alg.get_booster().get_fscore().values())\n",
    "    f_index_transformed = list(alg.get_booster().get_fscore().keys())\n",
    "    f_index_bettername =[my_f_dict[x] for x in f_index_transformed]\n",
    "    feat_imp = pd.Series(data= f_imp_value, index = f_index_bettername ).sort_values(ascending=False)\n",
    "        \n",
    "    # Select features with higher importance\n",
    "    # feat_imp_filter = feat_imp[feat_imp> 50]\n",
    "    feat_imp_filter = feat_imp[0:15]\n",
    "    feat_imp_filter.plot(kind='bar', title='Feature Importances')\n",
    "    plt.ylabel('Feature Importance Score (Train)')\n",
    "    \n",
    "    \n",
    "    #### output \n",
    "    return(alg)"
   ]
  },
  {
   "cell_type": "code",
   "execution_count": 10,
   "metadata": {
    "scrolled": true
   },
   "outputs": [
    {
     "name": "stdout",
     "output_type": "stream",
     "text": [
      "optimal number of trees\n",
      "231\n",
      "\n",
      "Model Report - The number of trees is updated already based on xgb.cv and training set\n",
      "Accuracy (Train) : 0.8845\n",
      "AUC Score (Train): 0.953684\n",
      "\n",
      "\n",
      "Accuracy (Test) : 0.8596\n",
      "AUC Score (Test): 0.934917\n"
     ]
    },
    {
     "data": {
      "image/png": "[encoded data removed]",
      "text/plain": [
       "<Figure size 432x288 with 1 Axes>"
      ]
     },
     "metadata": {
      "needs_background": "light"
     },
     "output_type": "display_data"
    }
   ],
   "source": [
    "#### Function testing\n",
    "xgb1 = XGBClassifier(\n",
    "        learning_rate =0.1,\n",
    "        n_estimators=1000,\n",
    "        max_depth=5,\n",
    "        min_child_weight=1,\n",
    "        gamma=0,\n",
    "        subsample=0.8,\n",
    "        colsample_bytree=0.8,\n",
    "        objective='binary:logistic', # Learning Task Parameters-> https://xgboost.readthedocs.io/en/latest/parameter.html\n",
    "        scale_pos_weight=1,\n",
    "        seed=27,\n",
    "        use_label_encoder=False)\n",
    "\n",
    "trained_model = modelfit(xgb1, X_train_scaled, y_train, X_test_scaled, y_test)"
   ]
  },
  {
   "cell_type": "markdown",
   "metadata": {},
   "source": [
    "# Tune for Model"
   ]
  },
  {
   "cell_type": "markdown",
   "metadata": {},
   "source": [
    "## Step 1- Find the number of estimators for a high learning rate\n",
    "\n",
    "Why? Using a higher learning rate with optimal number of trees we can reduce the time in parameter tuning. After all other parameters are tuned, we can reduce the learning rate (and increase the trees/estimators) to increase the model's performance. "
   ]
  },
  {
   "cell_type": "markdown",
   "metadata": {},
   "source": [
    "In order to decide on boosting parameters, we need to set some initial values of other parameters. Lets take the following values:\n",
    "\n",
    "**max_depth** = 5 : This should be between 3-10. 4-6 can be good starting points. I used 5 as initial value, we will tune this later.  \n",
    "\n",
    "**min_child_weight** = 1 : THis parameter means something like “stop trying to split once you reach a certain degree of purity in a node and your model can fit it”. Thus, higher value can prevent overfitting. The Default value is 1, but a smaller value should be chosen if it is a highly imbalanced class problem.\n",
    "\n",
    "**gamma** = 0 : A smaller value like 0.1-0.2 can also be chosen for starting. This will anyways be tuned later. \n",
    "\n",
    "**subsample, colsample_bytree** = 0.8 : This is a commonly used used start value. Typical values range between 0.5-0.9. \n",
    "\n",
    "**scale_pos_weight** = 1: Because of high class imbalance. Please note that all the above are just initial estimates and will be tuned later. \n",
    "\n",
    "Lets take the default learning rate of 0.1 here and check the optimum number of trees using cv function of xgboost. \n",
    "\n",
    "The function defined above will do it for us."
   ]
  },
  {
   "cell_type": "code",
   "execution_count": 11,
   "metadata": {},
   "outputs": [
    {
     "name": "stdout",
     "output_type": "stream",
     "text": [
      "optimal number of trees\n",
      "231\n",
      "\n",
      "Model Report - The number of trees is updated already based on xgb.cv and training set\n",
      "Accuracy (Train) : 0.8845\n",
      "AUC Score (Train): 0.953684\n",
      "\n",
      "\n",
      "Accuracy (Test) : 0.8596\n",
      "AUC Score (Test): 0.934917\n"
     ]
    },
    {
     "data": {
      "text/plain": [
       "XGBClassifier(base_score=0.5, booster='gbtree', colsample_bylevel=1,\n",
       "              colsample_bynode=1, colsample_bytree=0.8, gamma=0, gpu_id=-1,\n",
       "              importance_type='gain', interaction_constraints='',\n",
       "              learning_rate=0.1, max_delta_step=0, max_depth=5,\n",
       "              min_child_weight=1, missing=nan, monotone_constraints='()',\n",
       "              n_estimators=231, n_jobs=8, num_parallel_tree=1, random_state=27,\n",
       "              reg_alpha=0, reg_lambda=1, scale_pos_weight=1, seed=27,\n",
       "              subsample=0.8, tree_method='exact', use_label_encoder=False,\n",
       "              validate_parameters=1, verbosity=None)"
      ]
     },
     "execution_count": 11,
     "metadata": {},
     "output_type": "execute_result"
    },
    {
     "data": {
      "image/png": "[encoded data removed]",
      "text/plain": [
       "<Figure size 432x288 with 1 Axes>"
      ]
     },
     "metadata": {
      "needs_background": "light"
     },
     "output_type": "display_data"
    }
   ],
   "source": [
    "#### Set up the model ####\n",
    "xgb1 = XGBClassifier(\n",
    "        learning_rate =0.1,\n",
    "        n_estimators=1000,\n",
    "        max_depth=5,\n",
    "        min_child_weight=1,\n",
    "        gamma=0,\n",
    "        subsample=0.8,\n",
    "        colsample_bytree=0.8,\n",
    "        objective='binary:logistic',\n",
    "        scale_pos_weight=1,\n",
    "        seed=27,\n",
    "        use_label_encoder=False)\n",
    "\n",
    "#### use the xgb.cv to find the optimal number of trees for the initial xgb model\n",
    "modelfit(xgb1, X_train_scaled, y_train, X_test_scaled, y_test)"
   ]
  },
  {
   "cell_type": "markdown",
   "metadata": {},
   "source": [
    "optimal number of trees is 262. Let's update the parameter and go into the step-2\n"
   ]
  },
  {
   "cell_type": "markdown",
   "metadata": {},
   "source": [
    "## Step 2: Tune max_depth and min_child_weight\n",
    "\n",
    "Tune max_depth and min_child_weight will have the highest impact on model outcome. Thus, we tune them first. \n",
    "\n",
    "The strategy is to do **coarse search** with wider ranges and then **fine search** with smaller ranges."
   ]
  },
  {
   "cell_type": "code",
   "execution_count": 12,
   "metadata": {},
   "outputs": [
    {
     "name": "stdout",
     "output_type": "stream",
     "text": [
      "[01:38:45] WARNING: C:/Users/Administrator/workspace/xgboost-win64_release_1.3.0/src/learner.cc:1061: Starting in XGBoost 1.3.0, the default evaluation metric used with the objective 'binary:logistic' was changed from 'error' to 'logloss'. Explicitly set eval_metric if you'd like to restore the old behavior.\n"
     ]
    },
    {
     "data": {
      "text/plain": [
       "['grid_search_2_1.pkl']"
      ]
     },
     "execution_count": 12,
     "metadata": {},
     "output_type": "execute_result"
    }
   ],
   "source": [
    "param_test= {\n",
    "    'max_depth':range(3,10,2),\n",
    "    'min_child_weight':range(1,6,2)\n",
    "}\n",
    "\n",
    "\n",
    "#### Set up the xgb model ####\n",
    "xgb2 = XGBClassifier(\n",
    "                       # Tuned parameters\n",
    "                       n_estimators=262,\n",
    "    \n",
    "                       # Non-tuned parameters\n",
    "                       learning_rate =0.1, \n",
    "                       max_depth=5,\n",
    "                       min_child_weight=1, \n",
    "                       gamma=0, \n",
    "                       subsample=0.8, \n",
    "                       colsample_bytree=0.8,\n",
    "                       objective= 'binary:logistic', \n",
    "                       nthread=4, \n",
    "                       scale_pos_weight=1, \n",
    "                       seed=27,\n",
    "                       use_label_encoder=False)\n",
    "\n",
    "#### Set up the grid search ####\n",
    "gsearch_2_1 = GridSearchCV(estimator = xgb2, \n",
    "                        param_grid = param_test,\n",
    "                        scoring='roc_auc',\n",
    "                        n_jobs=4,\n",
    "                        cv=5)\n",
    "\n",
    "#### Run grid search ####\n",
    "gsearch_2_1.fit(X_train_scaled, y_train)\n",
    "\n",
    "#### Save grid search ####\n",
    "os.chdir('C:/Users/15177/Python_Project/HR_Analysis/Data/')\n",
    "joblib.dump(gsearch_2_1, 'xbg_grid_search_2_1.pkl')"
   ]
  },
  {
   "cell_type": "code",
   "execution_count": 13,
   "metadata": {},
   "outputs": [
    {
     "name": "stdout",
     "output_type": "stream",
     "text": [
      "                                     params  test_cv_score\n",
      "4   {'max_depth': 5, 'min_child_weight': 3}       0.933126\n",
      "3   {'max_depth': 5, 'min_child_weight': 1}       0.932868\n",
      "5   {'max_depth': 5, 'min_child_weight': 5}       0.932515\n",
      "1   {'max_depth': 3, 'min_child_weight': 3}       0.932089\n",
      "2   {'max_depth': 3, 'min_child_weight': 5}       0.932046\n",
      "0   {'max_depth': 3, 'min_child_weight': 1}       0.932032\n",
      "6   {'max_depth': 7, 'min_child_weight': 1}       0.931910\n",
      "8   {'max_depth': 7, 'min_child_weight': 5}       0.931469\n",
      "7   {'max_depth': 7, 'min_child_weight': 3}       0.931330\n",
      "9   {'max_depth': 9, 'min_child_weight': 1}       0.930262\n",
      "10  {'max_depth': 9, 'min_child_weight': 3}       0.930107\n",
      "11  {'max_depth': 9, 'min_child_weight': 5}       0.929903\n"
     ]
    }
   ],
   "source": [
    "#### Read grid search results ####\n",
    "gsearch_2_1 = joblib.load(\"xbg_grid_search_2_1.pkl\")\n",
    "fnc_show_best_param(gsearch_2_1)"
   ]
  },
  {
   "cell_type": "markdown",
   "metadata": {},
   "source": [
    "1. Here, we have run 12 combinations with wider intervals between values. The ideal values are 5 for max_depth and 1 for min_child_weight. \n",
    "\n",
    "2. Lets go one step deeper and look for optimum values."
   ]
  },
  {
   "cell_type": "code",
   "execution_count": 14,
   "metadata": {},
   "outputs": [
    {
     "name": "stdout",
     "output_type": "stream",
     "text": [
      "[02:05:18] WARNING: C:/Users/Administrator/workspace/xgboost-win64_release_1.3.0/src/learner.cc:1061: Starting in XGBoost 1.3.0, the default evaluation metric used with the objective 'binary:logistic' was changed from 'error' to 'logloss'. Explicitly set eval_metric if you'd like to restore the old behavior.\n"
     ]
    },
    {
     "data": {
      "text/plain": [
       "['grid_search_2_2.pkl']"
      ]
     },
     "execution_count": 14,
     "metadata": {},
     "output_type": "execute_result"
    }
   ],
   "source": [
    "param_test= {\n",
    "    'max_depth':[4,5,6],\n",
    "    'min_child_weight':[0, 0.1, 0.5, 1]\n",
    "}\n",
    "\n",
    "\n",
    "#### Set up the xgb model ####\n",
    "xgb2 = XGBClassifier(\n",
    "                       # Tuned parameters\n",
    "                       n_estimators=262,\n",
    "    \n",
    "                       # Non-tuned parameters\n",
    "                       learning_rate =0.1, \n",
    "                       max_depth=5,\n",
    "                       min_child_weight=1, \n",
    "                       gamma=0, \n",
    "                       subsample=0.8, \n",
    "                       colsample_bytree=0.8,\n",
    "                       objective= 'binary:logistic', \n",
    "                       nthread=4, \n",
    "                       scale_pos_weight=1, \n",
    "                       seed=27,\n",
    "                       use_label_encoder=False)\n",
    "\n",
    "\n",
    "#### Set up the grid search ####\n",
    "gsearch_2_2 = GridSearchCV(estimator = xgb2, \n",
    "                        param_grid = param_test,\n",
    "                        scoring='roc_auc',\n",
    "                        n_jobs=4,\n",
    "                        cv=5)\n",
    "\n",
    "#### Run grid search ####\n",
    "gsearch_2_2.fit(X_train_scaled, y_train)\n",
    "\n",
    "#### Save grid search ####\n",
    "os.chdir('C:/Users/15177/Python_Project/HR_Analysis/Data/')\n",
    "joblib.dump(gsearch_2_2, 'xbg_grid_search_2_2.pkl')"
   ]
  },
  {
   "cell_type": "code",
   "execution_count": 15,
   "metadata": {},
   "outputs": [
    {
     "name": "stdout",
     "output_type": "stream",
     "text": [
      "                                       params  test_cv_score\n",
      "7     {'max_depth': 5, 'min_child_weight': 1}       0.932868\n",
      "5   {'max_depth': 5, 'min_child_weight': 0.1}       0.932795\n",
      "4     {'max_depth': 5, 'min_child_weight': 0}       0.932790\n",
      "1   {'max_depth': 4, 'min_child_weight': 0.1}       0.932733\n",
      "8     {'max_depth': 6, 'min_child_weight': 0}       0.932639\n",
      "10  {'max_depth': 6, 'min_child_weight': 0.5}       0.932561\n",
      "6   {'max_depth': 5, 'min_child_weight': 0.5}       0.932552\n",
      "0     {'max_depth': 4, 'min_child_weight': 0}       0.932550\n",
      "3     {'max_depth': 4, 'min_child_weight': 1}       0.932522\n",
      "2   {'max_depth': 4, 'min_child_weight': 0.5}       0.932518\n",
      "11    {'max_depth': 6, 'min_child_weight': 1}       0.932439\n",
      "9   {'max_depth': 6, 'min_child_weight': 0.1}       0.932369\n"
     ]
    }
   ],
   "source": [
    "gsearch_2_2 = joblib.load(\"xbg_grid_search_2_2.pkl\")\n",
    "fnc_show_best_param(gsearch_2_2)"
   ]
  },
  {
   "cell_type": "code",
   "execution_count": 16,
   "metadata": {},
   "outputs": [
    {
     "name": "stdout",
     "output_type": "stream",
     "text": [
      "[02:11:51] WARNING: C:/Users/Administrator/workspace/xgboost-win64_release_1.3.0/src/learner.cc:1061: Starting in XGBoost 1.3.0, the default evaluation metric used with the objective 'binary:logistic' was changed from 'error' to 'logloss'. Explicitly set eval_metric if you'd like to restore the old behavior.\n"
     ]
    },
    {
     "data": {
      "text/plain": [
       "['grid_search_2_3.pkl']"
      ]
     },
     "execution_count": 16,
     "metadata": {},
     "output_type": "execute_result"
    }
   ],
   "source": [
    "param_test= {\n",
    "    'max_depth':[5,6,7],\n",
    "    'min_child_weight':[0.45, 0.5, 0.55]\n",
    "}\n",
    "\n",
    "\n",
    "#### Set up the xgb model ####\n",
    "xgb2 = XGBClassifier(\n",
    "                       # Tuned parameters\n",
    "                       n_estimators=262,\n",
    "    \n",
    "                       # Non-tuned parameters\n",
    "                       learning_rate =0.1, \n",
    "                       max_depth=5,\n",
    "                       min_child_weight=1, \n",
    "                       gamma=0, \n",
    "                       subsample=0.8, \n",
    "                       colsample_bytree=0.8,\n",
    "                       objective= 'binary:logistic', \n",
    "                       nthread=4, \n",
    "                       scale_pos_weight=1, \n",
    "                       seed=27,\n",
    "                       use_label_encoder=False)\n",
    "\n",
    "\n",
    "#### Set up the grid search ####\n",
    "gsearch_2_3 = GridSearchCV(estimator = xgb2, \n",
    "                        param_grid = param_test,\n",
    "                        scoring='roc_auc',\n",
    "                        n_jobs=4,\n",
    "                        cv=5)\n",
    "\n",
    "#### Run grid search ####\n",
    "gsearch_2_3.fit(X_train_scaled, y_train)\n",
    "\n",
    "#### Save grid search ####\n",
    "os.chdir('C:/Users/15177/Python_Project/HR_Analysis/Data/')\n",
    "joblib.dump(gsearch_2_3, 'xbg_grid_search_2_3.pkl')"
   ]
  },
  {
   "cell_type": "code",
   "execution_count": 17,
   "metadata": {},
   "outputs": [
    {
     "name": "stdout",
     "output_type": "stream",
     "text": [
      "                                       params  test_cv_score\n",
      "0  {'max_depth': 5, 'min_child_weight': 0.45}       0.932986\n",
      "2  {'max_depth': 5, 'min_child_weight': 0.55}       0.932673\n",
      "5  {'max_depth': 6, 'min_child_weight': 0.55}       0.932601\n",
      "4   {'max_depth': 6, 'min_child_weight': 0.5}       0.932561\n",
      "1   {'max_depth': 5, 'min_child_weight': 0.5}       0.932552\n",
      "3  {'max_depth': 6, 'min_child_weight': 0.45}       0.932427\n",
      "6  {'max_depth': 7, 'min_child_weight': 0.45}       0.931504\n",
      "7   {'max_depth': 7, 'min_child_weight': 0.5}       0.931412\n",
      "8  {'max_depth': 7, 'min_child_weight': 0.55}       0.931069\n"
     ]
    }
   ],
   "source": [
    "gsearch_2_3 = joblib.load(\"xbg_grid_search_2_3.pkl\")\n",
    "fnc_show_best_param(gsearch_2_3)"
   ]
  },
  {
   "cell_type": "markdown",
   "metadata": {},
   "source": [
    "Best  parameter {'max_depth': 6, 'min_child_weight': 0.5}      "
   ]
  },
  {
   "cell_type": "markdown",
   "metadata": {},
   "source": [
    "## Step 3: Tune gamma\n",
    "Only when the resulting split leads to a positive reduction in the loss function, then a node will be split. Higher gamma makes the algorithm more conservative (less specific to the particular sample). Thus, we can use gamma to avoid over-fitting.\n",
    "\n",
    "According to the discussion *https://stats.stackexchange.com/questions/418687/gamma-parameter-in-xgboost* , gamma is more importnat when we have a shallow (low max_depth) trees.\n",
    "\n",
    "\n",
    "**Plan to do**\n",
    "Update the tuned parameters. Then, I select a range around 0-1 as initial grid search for gamma."
   ]
  },
  {
   "cell_type": "code",
   "execution_count": 18,
   "metadata": {},
   "outputs": [
    {
     "data": {
      "text/plain": [
       "array([0. , 0.2, 0.4, 0.6, 0.8, 1. ])"
      ]
     },
     "execution_count": 18,
     "metadata": {},
     "output_type": "execute_result"
    }
   ],
   "source": [
    "np.arange(0, 1.1, 0.2) "
   ]
  },
  {
   "cell_type": "code",
   "execution_count": 19,
   "metadata": {},
   "outputs": [
    {
     "name": "stdout",
     "output_type": "stream",
     "text": [
      "[02:16:15] WARNING: C:/Users/Administrator/workspace/xgboost-win64_release_1.3.0/src/learner.cc:1061: Starting in XGBoost 1.3.0, the default evaluation metric used with the objective 'binary:logistic' was changed from 'error' to 'logloss'. Explicitly set eval_metric if you'd like to restore the old behavior.\n"
     ]
    },
    {
     "data": {
      "text/plain": [
       "['grid_search_3_1.pkl']"
      ]
     },
     "execution_count": 19,
     "metadata": {},
     "output_type": "execute_result"
    }
   ],
   "source": [
    "param_test= {\n",
    "    'gamma': np.arange(0, 1.1, 0.2) \n",
    "}\n",
    "\n",
    "\n",
    "#### Set up the xgb model ####\n",
    "xgb3 = XGBClassifier(\n",
    "                       # Tuned parameters\n",
    "                       n_estimators=262,\n",
    "                       max_depth= 6,\n",
    "                       min_child_weight= 0.5,\n",
    "    \n",
    "                       # Non-tuned parameters\n",
    "                       learning_rate =0.1, \n",
    "                       gamma=0, \n",
    "                       subsample=0.8, \n",
    "                       colsample_bytree=0.8,\n",
    "                       objective= 'binary:logistic', \n",
    "                       nthread=4, \n",
    "                       scale_pos_weight=1, \n",
    "                       seed=27,\n",
    "                       use_label_encoder=False)\n",
    "\n",
    "\n",
    "#### Set up the grid search ####\n",
    "gsearch_3_1 = GridSearchCV(estimator = xgb3, \n",
    "                        param_grid = param_test,\n",
    "                        scoring='roc_auc',\n",
    "                        n_jobs=4,\n",
    "                        cv=5)\n",
    "\n",
    "#### Run grid search ####\n",
    "gsearch_3_1.fit(X_train_scaled, y_train)\n",
    "\n",
    "#### Save grid search ####\n",
    "os.chdir('C:/Users/15177/Python_Project/HR_Analysis/Data/')\n",
    "joblib.dump(gsearch_3_1, 'xbg_grid_search_3_1.pkl')"
   ]
  },
  {
   "cell_type": "code",
   "execution_count": 20,
   "metadata": {},
   "outputs": [
    {
     "name": "stdout",
     "output_type": "stream",
     "text": [
      "                          params  test_cv_score\n",
      "2                 {'gamma': 0.4}       0.932631\n",
      "5                 {'gamma': 1.0}       0.932611\n",
      "0                 {'gamma': 0.0}       0.932561\n",
      "4                 {'gamma': 0.8}       0.932505\n",
      "3  {'gamma': 0.6000000000000001}       0.932450\n",
      "1                 {'gamma': 0.2}       0.932378\n"
     ]
    }
   ],
   "source": [
    "grid_search_3_1 = joblib.load(\"xbg_grid_search_3_1.pkl\")\n",
    "fnc_show_best_param(grid_search_3_1)"
   ]
  },
  {
   "cell_type": "code",
   "execution_count": 21,
   "metadata": {},
   "outputs": [
    {
     "data": {
      "text/plain": [
       "array([0.1 , 0.15, 0.2 , 0.25])"
      ]
     },
     "execution_count": 21,
     "metadata": {},
     "output_type": "execute_result"
    }
   ],
   "source": [
    "np.arange(0.1, 0.3, 0.05) "
   ]
  },
  {
   "cell_type": "code",
   "execution_count": 22,
   "metadata": {},
   "outputs": [
    {
     "name": "stdout",
     "output_type": "stream",
     "text": [
      "[02:18:28] WARNING: C:/Users/Administrator/workspace/xgboost-win64_release_1.3.0/src/learner.cc:1061: Starting in XGBoost 1.3.0, the default evaluation metric used with the objective 'binary:logistic' was changed from 'error' to 'logloss'. Explicitly set eval_metric if you'd like to restore the old behavior.\n",
      "            params  test_cv_score\n",
      "0  {'gamma': 0.15}       0.932739\n",
      "1   {'gamma': 0.2}       0.932378\n",
      "2  {'gamma': 0.25}       0.932349\n"
     ]
    }
   ],
   "source": [
    "param_test= {\n",
    "    'gamma':[0.15, 0.2 , 0.25]\n",
    "}\n",
    "\n",
    "\n",
    "#### Set up the xgb model ####\n",
    "xgb3 = XGBClassifier(\n",
    "                       # Tuned parameters\n",
    "                       n_estimators=262,\n",
    "                       max_depth= 6,\n",
    "                       min_child_weight= 0.5,\n",
    "    \n",
    "                       # Non-tuned parameters\n",
    "                       learning_rate =0.1, \n",
    "                       subsample=0.8, \n",
    "                       colsample_bytree=0.8,\n",
    "                       objective= 'binary:logistic', \n",
    "                       nthread=4, \n",
    "                       scale_pos_weight=1, \n",
    "                       seed=27,\n",
    "                       use_label_encoder=False)\n",
    "\n",
    "\n",
    "#### Set up the grid search ####\n",
    "gsearch_3_2 = GridSearchCV(estimator = xgb3, \n",
    "                        param_grid = param_test,\n",
    "                        scoring='roc_auc',\n",
    "                        n_jobs=4,\n",
    "                        cv=5)\n",
    "\n",
    "#### Run grid search ####\n",
    "gsearch_3_2.fit(X_train_scaled, y_train)\n",
    "\n",
    "#### Save grid search ####\n",
    "os.chdir('C:/Users/15177/Python_Project/HR_Analysis/Data/')\n",
    "joblib.dump(gsearch_3_2, 'xbg_grid_search_3_2.pkl')\n",
    "\n",
    "\n",
    "#### Show the best parameters\n",
    "grid_search_3_2 = joblib.load(\"xbg_grid_search_3_2.pkl\")\n",
    "fnc_show_best_param(grid_search_3_2)"
   ]
  },
  {
   "cell_type": "markdown",
   "metadata": {},
   "source": [
    " Great! 0.2 is best for gamma."
   ]
  },
  {
   "cell_type": "markdown",
   "metadata": {},
   "source": [
    "### Before proceeding, it's good to re-calibrate the number of trees based on the newly-updated parameters."
   ]
  },
  {
   "cell_type": "code",
   "execution_count": 23,
   "metadata": {},
   "outputs": [
    {
     "name": "stdout",
     "output_type": "stream",
     "text": [
      "optimal number of trees\n",
      "231\n",
      "\n",
      "Model Report - The number of trees is updated already based on xgb.cv and training set\n",
      "Accuracy (Train) : 0.8942\n",
      "AUC Score (Train): 0.963544\n",
      "\n",
      "\n",
      "Accuracy (Test) : 0.8608\n",
      "AUC Score (Test): 0.936201\n"
     ]
    },
    {
     "data": {
      "text/plain": [
       "XGBClassifier(base_score=0.5, booster='gbtree', colsample_bylevel=1,\n",
       "              colsample_bynode=1, colsample_bytree=0.8, gamma=0.2, gpu_id=-1,\n",
       "              importance_type='gain', interaction_constraints='',\n",
       "              learning_rate=0.1, max_delta_step=0, max_depth=6,\n",
       "              min_child_weight=0.5, missing=nan, monotone_constraints='()',\n",
       "              n_estimators=231, n_jobs=4, nthread=4, num_parallel_tree=1,\n",
       "              random_state=27, reg_alpha=0, reg_lambda=1, scale_pos_weight=1,\n",
       "              seed=27, subsample=0.8, tree_method='exact',\n",
       "              use_label_encoder=False, validate_parameters=1, verbosity=None)"
      ]
     },
     "execution_count": 23,
     "metadata": {},
     "output_type": "execute_result"
    },
    {
     "data": {
      "image/png": "[encoded data removed]",
      "text/plain": [
       "<Figure size 432x288 with 1 Axes>"
      ]
     },
     "metadata": {
      "needs_background": "light"
     },
     "output_type": "display_data"
    }
   ],
   "source": [
    "#### Set up the model ####\n",
    "xgb4 = XGBClassifier(\n",
    "                       # Tuned parameters\n",
    "                       n_estimators=2000, # Rest the n_estimators to be a large number\n",
    "                       max_depth= 6,\n",
    "                       min_child_weight= 0.5,\n",
    "                       gamma=0.2,\n",
    "    \n",
    "                       # Non-tuned parameters\n",
    "                       learning_rate =0.1, \n",
    "                       subsample=0.8, \n",
    "                       colsample_bytree=0.8,\n",
    "                       objective= 'binary:logistic', \n",
    "                       nthread=4, \n",
    "                       scale_pos_weight=1, \n",
    "                       seed=27,\n",
    "                       use_label_encoder=False)\n",
    "\n",
    "#### use the xgb.cv to find the optimal number of trees for the initial xgb model\n",
    "modelfit(xgb4, X_train_scaled, y_train, X_test_scaled, y_test)\n",
    "#### Note: This function will return the optimal number of the trees."
   ]
  },
  {
   "cell_type": "markdown",
   "metadata": {},
   "source": [
    "# Step 4: Tune subsample and colsample_bytree\n",
    "\n",
    "**subsample** Subsample ratio of the training instances. Setting it to 0.5 means that XGBoost would randomly sample half of the training data prior to growing trees. and this will prevent overfitting. Subsampling will occur for each boosting iteration.\n",
    "\n",
    "\n",
    "**colsample_bytree** is the subsample ratio of columns when constructing each tree. Subsampling occurs once for every tree constructed\n",
    "\n",
    "**Plan to do**\n",
    "The next step would be try different **subsample** and **colsample_bytree values**. \n",
    "Lets do coarse and then fine grid search."
   ]
  },
  {
   "cell_type": "code",
   "execution_count": 24,
   "metadata": {},
   "outputs": [
    {
     "data": {
      "text/plain": [
       "array([0.6, 0.7, 0.8, 0.9])"
      ]
     },
     "execution_count": 24,
     "metadata": {},
     "output_type": "execute_result"
    }
   ],
   "source": [
    "np.arange(0.6,1.0,0.1)"
   ]
  },
  {
   "cell_type": "code",
   "execution_count": 25,
   "metadata": {},
   "outputs": [
    {
     "name": "stdout",
     "output_type": "stream",
     "text": [
      "[02:27:22] WARNING: C:/Users/Administrator/workspace/xgboost-win64_release_1.3.0/src/learner.cc:1061: Starting in XGBoost 1.3.0, the default evaluation metric used with the objective 'binary:logistic' was changed from 'error' to 'logloss'. Explicitly set eval_metric if you'd like to restore the old behavior.\n",
      "                                               params  test_cv_score\n",
      "15  {'colsample_bytree': 0.8999999999999999, 'subs...       0.933582\n",
      "14  {'colsample_bytree': 0.8999999999999999, 'subs...       0.933397\n",
      "6   {'colsample_bytree': 0.7, 'subsample': 0.79999...       0.933305\n",
      "11  {'colsample_bytree': 0.7999999999999999, 'subs...       0.933208\n",
      "10  {'colsample_bytree': 0.7999999999999999, 'subs...       0.932971\n",
      "8   {'colsample_bytree': 0.7999999999999999, 'subs...       0.932917\n",
      "3   {'colsample_bytree': 0.6, 'subsample': 0.89999...       0.932874\n",
      "1         {'colsample_bytree': 0.6, 'subsample': 0.7}       0.932815\n",
      "7   {'colsample_bytree': 0.7, 'subsample': 0.89999...       0.932808\n",
      "2   {'colsample_bytree': 0.6, 'subsample': 0.79999...       0.932788\n",
      "12  {'colsample_bytree': 0.8999999999999999, 'subs...       0.932578\n",
      "9   {'colsample_bytree': 0.7999999999999999, 'subs...       0.932442\n",
      "0         {'colsample_bytree': 0.6, 'subsample': 0.6}       0.932423\n",
      "4         {'colsample_bytree': 0.7, 'subsample': 0.6}       0.932395\n",
      "5         {'colsample_bytree': 0.7, 'subsample': 0.7}       0.932373\n",
      "13  {'colsample_bytree': 0.8999999999999999, 'subs...       0.932364\n"
     ]
    }
   ],
   "source": [
    "param_test= {\n",
    "    'subsample':np.arange(0.6,1.0,0.1),\n",
    "    'colsample_bytree':np.arange(0.6,1.0,0.1)\n",
    "}\n",
    "\n",
    "\n",
    "#### Set up the xgb model ####\n",
    "xgb4 = XGBClassifier(\n",
    "                       # Tuned parameters\n",
    "                       n_estimators=185, # This is updated\n",
    "                       max_depth= 6,\n",
    "                       min_child_weight= 0.5,\n",
    "                       gamma=0.2,\n",
    "    \n",
    "                       # Non-tuned parameters\n",
    "                       learning_rate =0.1, \n",
    "                       objective= 'binary:logistic', \n",
    "                       nthread=4, \n",
    "                       scale_pos_weight=1, \n",
    "                       seed=27,\n",
    "                       use_label_encoder=False)\n",
    "\n",
    "\n",
    "#### Set up the grid search ####\n",
    "gsearch_4_1 = GridSearchCV(estimator = xgb4, \n",
    "                        param_grid = param_test,\n",
    "                        scoring='roc_auc',\n",
    "                        n_jobs=4,\n",
    "                        cv=5)\n",
    "\n",
    "#### Run grid search ####\n",
    "gsearch_4_1.fit(X_train_scaled, y_train)\n",
    "\n",
    "#### Save grid search ####\n",
    "os.chdir('C:/Users/15177/Python_Project/HR_Analysis/Data/')\n",
    "joblib.dump(gsearch_4_1, 'xbg_grid_search_4_1.pkl')\n",
    "\n",
    "\n",
    "#### Show the best parameters\n",
    "grid_search_4_1 = joblib.load(\"xbg_grid_search_4_1.pkl\")\n",
    "fnc_show_best_param(grid_search_4_1)"
   ]
  },
  {
   "cell_type": "code",
   "execution_count": 26,
   "metadata": {},
   "outputs": [
    {
     "data": {
      "text/plain": [
       "[0.5, 0.55, 0.6]"
      ]
     },
     "execution_count": 26,
     "metadata": {},
     "output_type": "execute_result"
    }
   ],
   "source": [
    "[i/100 for i in range(50,65,5)]"
   ]
  },
  {
   "cell_type": "code",
   "execution_count": 27,
   "metadata": {},
   "outputs": [
    {
     "name": "stdout",
     "output_type": "stream",
     "text": [
      "[02:31:00] WARNING: C:/Users/Administrator/workspace/xgboost-win64_release_1.3.0/src/learner.cc:1061: Starting in XGBoost 1.3.0, the default evaluation metric used with the objective 'binary:logistic' was changed from 'error' to 'logloss'. Explicitly set eval_metric if you'd like to restore the old behavior.\n",
      "                                          params  test_cv_score\n",
      "2    {'colsample_bytree': 0.5, 'subsample': 0.6}       0.932667\n",
      "5   {'colsample_bytree': 0.55, 'subsample': 0.6}       0.932666\n",
      "1   {'colsample_bytree': 0.5, 'subsample': 0.55}       0.932632\n",
      "4  {'colsample_bytree': 0.55, 'subsample': 0.55}       0.932606\n",
      "3   {'colsample_bytree': 0.55, 'subsample': 0.5}       0.932509\n",
      "8    {'colsample_bytree': 0.6, 'subsample': 0.6}       0.932423\n",
      "6    {'colsample_bytree': 0.6, 'subsample': 0.5}       0.932380\n",
      "0    {'colsample_bytree': 0.5, 'subsample': 0.5}       0.932360\n",
      "7   {'colsample_bytree': 0.6, 'subsample': 0.55}       0.932023\n"
     ]
    }
   ],
   "source": [
    "param_test= {\n",
    "    'subsample':[i/100 for i in range(50,65,5)],\n",
    "    'colsample_bytree':[i/100 for i in range(50,65,5)]\n",
    "}\n",
    "\n",
    "\n",
    "#### Set up the xgb model ####\n",
    "xgb4 = XGBClassifier(\n",
    "                       # Tuned parameters\n",
    "                       n_estimators=185, # This is updated\n",
    "                       max_depth= 6,\n",
    "                       min_child_weight= 0.5,\n",
    "                       gamma=0.2,\n",
    "    \n",
    "                       # Non-tuned parameters\n",
    "                       learning_rate =0.1, \n",
    "                       objective= 'binary:logistic', \n",
    "                       nthread=4, \n",
    "                       scale_pos_weight=1, \n",
    "                       seed=27,\n",
    "                       use_label_encoder=False)\n",
    "\n",
    "\n",
    "#### Set up the grid search ####\n",
    "gsearch_4_2 = GridSearchCV(estimator = xgb4, \n",
    "                        param_grid = param_test,\n",
    "                        scoring='roc_auc',\n",
    "                        n_jobs=4,\n",
    "                        cv=5)\n",
    "\n",
    "#### Run grid search ####\n",
    "gsearch_4_2.fit(X_train_scaled, y_train)\n",
    "\n",
    "#### Save grid search ####\n",
    "os.chdir('C:/Users/15177/Python_Project/HR_Analysis/Data/')\n",
    "joblib.dump(gsearch_4_2, 'xbg_grid_search_4_2.pkl')\n",
    "\n",
    "\n",
    "#### Show the best parameters\n",
    "grid_search_4_2 = joblib.load(\"xbg_grid_search_4_2.pkl\")\n",
    "fnc_show_best_param(grid_search_4_2)"
   ]
  },
  {
   "cell_type": "markdown",
   "metadata": {},
   "source": [
    "{'colsample_bytree': 0.6, 'subsample': 0.6}  is the best"
   ]
  },
  {
   "cell_type": "markdown",
   "metadata": {},
   "source": [
    "# Step 5: Tuning Regularization Parameters\n",
    "Next step is to tune regularization. Another parameter to avoid overfitting. \n",
    "\n",
    "I will tune **reg_lambda**: L2 regularization term on weights. The default is 1. Increasing this value will make model more conservative.\n",
    "\n",
    "The other regularization is L1 which can be used for feature selection, so I won't tune it, because the goal of this model is to make prediction. "
   ]
  },
  {
   "cell_type": "code",
   "execution_count": 28,
   "metadata": {},
   "outputs": [
    {
     "name": "stdout",
     "output_type": "stream",
     "text": [
      "[02:33:11] WARNING: C:/Users/Administrator/workspace/xgboost-win64_release_1.3.0/src/learner.cc:1061: Starting in XGBoost 1.3.0, the default evaluation metric used with the objective 'binary:logistic' was changed from 'error' to 'logloss'. Explicitly set eval_metric if you'd like to restore the old behavior.\n",
      "                 params  test_cv_score\n",
      "2    {'reg_alpha': 0.1}       0.932901\n",
      "1   {'reg_alpha': 0.01}       0.932454\n",
      "3      {'reg_alpha': 1}       0.932444\n",
      "0  {'reg_alpha': 1e-05}       0.932423\n",
      "4     {'reg_alpha': 10}       0.931882\n"
     ]
    }
   ],
   "source": [
    "#### coarse grid search ####\n",
    "param_test = {\n",
    "    'reg_alpha':[1e-5, 1e-2, 1e-1, 1, 10]\n",
    "}\n",
    "\n",
    "\n",
    "#### Set up the xgb model ####\n",
    "xgb5 = XGBClassifier(\n",
    "                       # Tuned parameters\n",
    "                       n_estimators=185, # This is updated\n",
    "                       max_depth= 6,\n",
    "                       min_child_weight= 0.5,\n",
    "                       gamma=0.2,\n",
    "                       colsample_bytree=0.6,\n",
    "                       subsample=0.6,\n",
    "    \n",
    "                       # Non-tuned parameters\n",
    "                       learning_rate =0.1, \n",
    "                       objective= 'binary:logistic', \n",
    "                       nthread=4, \n",
    "                       scale_pos_weight=1, \n",
    "                       seed=27,\n",
    "                       use_label_encoder=False)\n",
    "\n",
    "\n",
    "#### Set up the grid search ####\n",
    "gsearch_5_1 = GridSearchCV(estimator = xgb5, \n",
    "                        param_grid = param_test,\n",
    "                        scoring='roc_auc',\n",
    "                        n_jobs=4,\n",
    "                        cv=5)\n",
    "\n",
    "#### Run grid search ####\n",
    "gsearch_5_1.fit(X_train_scaled, y_train)\n",
    "\n",
    "#### Save grid search ####\n",
    "os.chdir('C:/Users/15177/Python_Project/HR_Analysis/Data/')\n",
    "joblib.dump(gsearch_5_1, 'xbg_gsearch_5_1.pkl')\n",
    "\n",
    "\n",
    "#### Show the best parameters\n",
    "grid_search_5_1 = joblib.load(\"xbg_gsearch_5_1.pkl\")\n",
    "fnc_show_best_param(grid_search_5_1)"
   ]
  },
  {
   "cell_type": "code",
   "execution_count": 29,
   "metadata": {},
   "outputs": [
    {
     "name": "stdout",
     "output_type": "stream",
     "text": [
      "[02:35:25] WARNING: C:/Users/Administrator/workspace/xgboost-win64_release_1.3.0/src/learner.cc:1061: Starting in XGBoost 1.3.0, the default evaluation metric used with the objective 'binary:logistic' was changed from 'error' to 'logloss'. Explicitly set eval_metric if you'd like to restore the old behavior.\n",
      "                  params  test_cv_score\n",
      "4  {'reg_alpha': 0.0001}       0.932423\n",
      "3   {'reg_alpha': 1e-05}       0.932423\n",
      "0   {'reg_alpha': 1e-11}       0.932423\n",
      "1   {'reg_alpha': 1e-08}       0.932423\n",
      "2   {'reg_alpha': 1e-06}       0.932423\n"
     ]
    }
   ],
   "source": [
    "### fine grid search ####\n",
    "param_test = {\n",
    "    'reg_alpha':[1e-11, 1e-8, 1e-6, 1e-5, 1e-4]\n",
    "}\n",
    "\n",
    "\n",
    "#### Set up the xgb model ####\n",
    "xgb5 = XGBClassifier(\n",
    "                       # Tuned parameters\n",
    "                       n_estimators=185, # This is updated\n",
    "                       max_depth= 6,\n",
    "                       min_child_weight= 0.5,\n",
    "                       gamma=0.2,\n",
    "                       colsample_bytree=0.6,\n",
    "                       subsample=0.6,\n",
    "    \n",
    "                       # Non-tuned parameters\n",
    "                       learning_rate =0.1, \n",
    "                       objective= 'binary:logistic', \n",
    "                       nthread=4, \n",
    "                       scale_pos_weight=1, \n",
    "                       seed=27,\n",
    "                       use_label_encoder=False)\n",
    "\n",
    "\n",
    "#### Set up the grid search ####\n",
    "gsearch_5_2 = GridSearchCV(estimator = xgb5, \n",
    "                        param_grid = param_test,\n",
    "                        scoring='roc_auc',\n",
    "                        n_jobs=4,\n",
    "                        cv=5)\n",
    "\n",
    "#### Run grid search ####\n",
    "gsearch_5_2.fit(X_train_scaled, y_train)\n",
    "\n",
    "#### Save grid search ####\n",
    "os.chdir('C:/Users/15177/Python_Project/HR_Analysis/Data/')\n",
    "joblib.dump(gsearch_5_2, 'xbg_gsearch_5_2.pkl')\n",
    "\n",
    "\n",
    "#### Show the best parameters\n",
    "grid_search_5_2 = joblib.load(\"xbg_gsearch_5_2.pkl\")\n",
    "fnc_show_best_param(grid_search_5_2)"
   ]
  },
  {
   "cell_type": "markdown",
   "metadata": {},
   "source": [
    " We can keep searching the best parameters aroung 0.0001, but we may not get any impressive gain. Thus, I will stop here and use  {'reg_alpha': 0.0001} as optimal value. "
   ]
  },
  {
   "cell_type": "markdown",
   "metadata": {},
   "source": [
    "# Step 6: Reducing Learning Rate\n",
    "\n",
    "This is the final stage of tuing parameters. We will reduce learning rate and increase the number of trees. \n",
    "\n",
    "This process greatly rely on the xgt.cv function of XGBoost to select the optimal number of trees."
   ]
  },
  {
   "cell_type": "code",
   "execution_count": 30,
   "metadata": {},
   "outputs": [
    {
     "name": "stdout",
     "output_type": "stream",
     "text": [
      "optimal number of trees\n",
      "138\n",
      "\n",
      "Model Report - The number of trees is updated already based on xgb.cv and training set\n",
      "Accuracy (Train) : 0.8845\n",
      "AUC Score (Train): 0.953730\n",
      "\n",
      "\n",
      "Accuracy (Test) : 0.859\n",
      "AUC Score (Test): 0.934919\n"
     ]
    },
    {
     "data": {
      "text/plain": [
       "XGBClassifier(base_score=0.5, booster='gbtree', colsample_bylevel=1,\n",
       "              colsample_bynode=1, colsample_bytree=0.6, gamma=0.2, gpu_id=-1,\n",
       "              importance_type='gain', interaction_constraints='',\n",
       "              learning_rate=0.1, max_delta_step=0, max_depth=6,\n",
       "              min_child_weight=0.5, missing=nan, monotone_constraints='()',\n",
       "              n_estimators=138, n_jobs=4, nthread=4, num_parallel_tree=1,\n",
       "              random_state=27, reg_alpha=0.0001, reg_lambda=1,\n",
       "              scale_pos_weight=1, seed=27, subsample=0.6, tree_method='exact',\n",
       "              use_label_encoder=False, validate_parameters=1, verbosity=None)"
      ]
     },
     "execution_count": 30,
     "metadata": {},
     "output_type": "execute_result"
    },
    {
     "data": {
      "image/png": "[encoded data removed]",
      "text/plain": [
       "<Figure size 432x288 with 1 Axes>"
      ]
     },
     "metadata": {
      "needs_background": "light"
     },
     "output_type": "display_data"
    }
   ],
   "source": [
    "xgb6_0 = XGBClassifier(\n",
    "                       # Learning rate and number of tree\n",
    "                       learning_rate =0.1, \n",
    "                       n_estimators=5000, # This is updated\n",
    "                       \n",
    "                       # Tuned parameters\n",
    "                       max_depth= 6,\n",
    "                       min_child_weight= 0.5,\n",
    "                       gamma=0.2,\n",
    "                       colsample_bytree=0.6,\n",
    "                       subsample=0.6,\n",
    "                       reg_alpha= 0.0001,\n",
    "    \n",
    "                       # Non-tuned parameters\n",
    "                \n",
    "                       objective= 'binary:logistic', \n",
    "                       nthread=4, \n",
    "                       scale_pos_weight=1, \n",
    "                       seed=27,\n",
    "                       use_label_encoder=False)\n",
    "\n",
    "#### use the xgb.cv to find the optimal number of trees for the initial xgb model\n",
    "modelfit(xgb6_0, X_train_scaled, y_train, X_test_scaled, y_test)\n",
    "#### Note: This function will return the optimal number of the trees."
   ]
  },
  {
   "cell_type": "code",
   "execution_count": 31,
   "metadata": {},
   "outputs": [
    {
     "name": "stdout",
     "output_type": "stream",
     "text": [
      "optimal number of trees\n",
      "260\n",
      "\n",
      "Model Report - The number of trees is updated already based on xgb.cv and training set\n",
      "Accuracy (Train) : 0.889\n",
      "AUC Score (Train): 0.958172\n",
      "\n",
      "\n",
      "Accuracy (Test) : 0.8622\n",
      "AUC Score (Test): 0.936449\n"
     ]
    },
    {
     "data": {
      "text/plain": [
       "XGBClassifier(base_score=0.5, booster='gbtree', colsample_bylevel=1,\n",
       "              colsample_bynode=1, colsample_bytree=0.6, gamma=0.2, gpu_id=-1,\n",
       "              importance_type='gain', interaction_constraints='',\n",
       "              learning_rate=0.07, max_delta_step=0, max_depth=6,\n",
       "              min_child_weight=0.5, missing=nan, monotone_constraints='()',\n",
       "              n_estimators=260, n_jobs=4, nthread=4, num_parallel_tree=1,\n",
       "              random_state=27, reg_alpha=0.0001, reg_lambda=1,\n",
       "              scale_pos_weight=1, seed=27, subsample=0.6, tree_method='exact',\n",
       "              use_label_encoder=False, validate_parameters=1, verbosity=None)"
      ]
     },
     "execution_count": 31,
     "metadata": {},
     "output_type": "execute_result"
    },
    {
     "data": {
      "image/png": "[encoded data removed]",
      "text/plain": [
       "<Figure size 432x288 with 1 Axes>"
      ]
     },
     "metadata": {
      "needs_background": "light"
     },
     "output_type": "display_data"
    }
   ],
   "source": [
    "xgb6_1 = XGBClassifier(\n",
    "                       # Learning rate and number of tree\n",
    "                       learning_rate =0.07, \n",
    "                       n_estimators=5000, \n",
    "                       \n",
    "                       # Tuned parameters\n",
    "                       max_depth= 6,\n",
    "                       min_child_weight= 0.5,\n",
    "                       gamma=0.2,\n",
    "                       colsample_bytree=0.6,\n",
    "                       subsample=0.6,\n",
    "                       reg_alpha= 0.0001,\n",
    "    \n",
    "                       # Non-tuned parameters\n",
    "                \n",
    "                       objective= 'binary:logistic', \n",
    "                       nthread=4, \n",
    "                       scale_pos_weight=1, \n",
    "                       seed=27,\n",
    "                       use_label_encoder=False)\n",
    "\n",
    "#### use the xgb.cv to find the optimal number of trees for the initial xgb model\n",
    "modelfit(xgb6_1, X_train_scaled, y_train, X_test_scaled, y_test)\n",
    "#### Note: This function will return the optimal number of the trees."
   ]
  },
  {
   "cell_type": "markdown",
   "metadata": {},
   "source": [
    "From learning rate 0.1 to 0.07, AUS score (test) get improved and the model has 252 trees.\n",
    "Let's reduce the learning rate to 0.01"
   ]
  },
  {
   "cell_type": "code",
   "execution_count": 32,
   "metadata": {},
   "outputs": [
    {
     "name": "stdout",
     "output_type": "stream",
     "text": [
      "optimal number of trees\n",
      "1644\n",
      "\n",
      "Model Report - The number of trees is updated already based on xgb.cv and training set\n",
      "Accuracy (Train) : 0.8878\n",
      "AUC Score (Train): 0.957781\n",
      "\n",
      "\n",
      "Accuracy (Test) : 0.862\n",
      "AUC Score (Test): 0.936888\n"
     ]
    },
    {
     "data": {
      "text/plain": [
       "XGBClassifier(base_score=0.5, booster='gbtree', colsample_bylevel=1,\n",
       "              colsample_bynode=1, colsample_bytree=0.6, gamma=0.2, gpu_id=-1,\n",
       "              importance_type='gain', interaction_constraints='',\n",
       "              learning_rate=0.01, max_delta_step=0, max_depth=6,\n",
       "              min_child_weight=0.5, missing=nan, monotone_constraints='()',\n",
       "              n_estimators=1644, n_jobs=4, nthread=4, num_parallel_tree=1,\n",
       "              random_state=27, reg_alpha=0.0001, reg_lambda=1,\n",
       "              scale_pos_weight=1, seed=27, subsample=0.6, tree_method='exact',\n",
       "              use_label_encoder=False, validate_parameters=1, verbosity=None)"
      ]
     },
     "execution_count": 32,
     "metadata": {},
     "output_type": "execute_result"
    },
    {
     "data": {
      "image/png": "[encoded data removed]",
      "text/plain": [
       "<Figure size 432x288 with 1 Axes>"
      ]
     },
     "metadata": {
      "needs_background": "light"
     },
     "output_type": "display_data"
    }
   ],
   "source": [
    "xgb6_2 = XGBClassifier(\n",
    "                       # Learning rate and number of tree\n",
    "                       learning_rate =0.01, \n",
    "                       n_estimators=10000, \n",
    "                       \n",
    "                       # Tuned parameters\n",
    "                       max_depth= 6,\n",
    "                       min_child_weight= 0.5,\n",
    "                       gamma=0.2,\n",
    "                       colsample_bytree=0.6,\n",
    "                       subsample=0.6,\n",
    "                       reg_alpha= 0.0001,\n",
    "    \n",
    "                       # Non-tuned parameters\n",
    "                \n",
    "                       objective= 'binary:logistic', \n",
    "                       nthread=4, \n",
    "                       scale_pos_weight=1, \n",
    "                       seed=27,\n",
    "                       use_label_encoder=False)\n",
    "\n",
    "#### use the xgb.cv to find the optimal number of trees for the initial xgb model\n",
    "modelfit(xgb6_2, X_train_scaled, y_train, X_test_scaled, y_test)\n",
    "#### Note: This function will return the optimal number of the trees."
   ]
  },
  {
   "cell_type": "markdown",
   "metadata": {},
   "source": [
    "From learning rate 0.07 to 0.01, AUS score (test) get improved a bit and the model has 1883 trees. I stop the tuning process at this stage."
   ]
  },
  {
   "cell_type": "markdown",
   "metadata": {},
   "source": [
    "# END"
   ]
  }
 ],
 "metadata": {
  "kernelspec": {
   "display_name": "Python 3",
   "language": "python",
   "name": "python3"
  },
  "language_info": {
   "codemirror_mode": {
    "name": "ipython",
    "version": 3
   },
   "file_extension": ".py",
   "mimetype": "text/x-python",
   "name": "python",
   "nbconvert_exporter": "python",
   "pygments_lexer": "ipython3",
   "version": "3.8.5"
  }
 },
 "nbformat": 4,
 "nbformat_minor": 4
}
