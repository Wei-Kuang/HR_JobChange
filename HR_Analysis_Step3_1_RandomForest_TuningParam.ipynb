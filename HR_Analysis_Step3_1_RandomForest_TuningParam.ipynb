{
 "cells": [
  {
   "cell_type": "markdown",
   "metadata": {},
   "source": [
    "# HR Analytics: Job Change of Data Scientists"
   ]
  },
  {
   "cell_type": "markdown",
   "metadata": {},
   "source": [
    "# Random Forest Model Performance"
   ]
  },
  {
   "cell_type": "markdown",
   "metadata": {},
   "source": [
    "| Model              | Accuracy (testing set) | AUC score (testing set) |\n",
    "| :--                | :--                    |:--                      |\n",
    "| **Default**        | 0.855                  | 0.933                   |\n",
    "| **Final Model**    | 0.860                  | 0.937                   |\n",
    "\n",
    "\n",
    "**Footnote**\n",
    "- Default model: The model using default hyper parameters.\n",
    "- Final model: The model with tuned hyper parameters."
   ]
  },
  {
   "cell_type": "markdown",
   "metadata": {},
   "source": [
    "# Let's start the  hyper parameter optimization "
   ]
  },
  {
   "cell_type": "markdown",
   "metadata": {},
   "source": [
    "## Modules"
   ]
  },
  {
   "cell_type": "code",
   "execution_count": 1,
   "metadata": {},
   "outputs": [],
   "source": [
    "import numpy as np\n",
    "import pylab as pl\n",
    "import pandas as pd\n",
    "import matplotlib.pyplot as plt \n",
    "%matplotlib inline\n",
    "import seaborn as sns\n",
    "\n",
    "# use ggplot in python\n",
    "from plotnine import *\n",
    "\n",
    "import os # Set the working directory\n",
    "\n",
    "pd.set_option('max_colwidth', None) # display all the info in the column. Not to truncate the display."
   ]
  },
  {
   "cell_type": "markdown",
   "metadata": {},
   "source": [
    "# Load the processed dataset\n",
    "\n",
    "Data transformation that I have done:\n",
    "1. Remove unneeded features\n",
    "2. Distinguish categorical and continuous variables.\n",
    "3. Impute missing values\n",
    "4. Encode \"ordinal variables\"\n",
    "5. One hot encode for \"Nominal variable\"\n",
    "6. Impute minor outcome\n",
    "7. Standardize numeric features"
   ]
  },
  {
   "cell_type": "code",
   "execution_count": 2,
   "metadata": {},
   "outputs": [],
   "source": [
    "from numpy import genfromtxt\n",
    "\n",
    "os.chdir('C:/Users/15177/Python_Project/HR_Analysis/Data/')\n",
    "X_train_scaled = genfromtxt('X_train_scaled.csv', delimiter=',')\n",
    "X_test_scaled = genfromtxt('X_test_scaled.csv', delimiter=',')\n",
    "y_train = genfromtxt('y_train.csv', delimiter=',')\n",
    "y_test = genfromtxt('y_test.csv', delimiter=',')"
   ]
  },
  {
   "cell_type": "code",
   "execution_count": 3,
   "metadata": {},
   "outputs": [
    {
     "data": {
      "text/plain": [
       "0      city_development_index\n",
       "1              training_hours\n",
       "2                   x0_city_1\n",
       "3                  x0_city_10\n",
       "4                 x0_city_100\n",
       "                ...          \n",
       "148                x5_Pvt Ltd\n",
       "149           education_level\n",
       "150                experience\n",
       "151              company_size\n",
       "152              last_new_job\n",
       "Name: feature_name, Length: 153, dtype: object"
      ]
     },
     "execution_count": 3,
     "metadata": {},
     "output_type": "execute_result"
    }
   ],
   "source": [
    "# feature name for the transformed X\n",
    "feature_name = pd.read_csv('X_index.csv')['feature_name']\n",
    "feature_name"
   ]
  },
  {
   "cell_type": "markdown",
   "metadata": {},
   "source": [
    "# Random Forest - Setup"
   ]
  },
  {
   "cell_type": "code",
   "execution_count": 4,
   "metadata": {},
   "outputs": [],
   "source": [
    "# Gradient Boost Model\n",
    "from sklearn.ensemble import RandomForestClassifier\n",
    "\n",
    "# Model evaluation\n",
    "from sklearn.model_selection import cross_validate, GridSearchCV\n",
    "from sklearn.metrics import confusion_matrix, classification_report, plot_roc_curve, roc_auc_score, roc_curve, accuracy_score\n",
    "from sklearn.model_selection import cross_val_score\n",
    "\n",
    "# Plot\n",
    "from matplotlib.pylab import rcParams\n",
    "rcParams['figure.figsize'] = 12, 4\n",
    "\n",
    "#### Save and read grid search object\n",
    "import joblib"
   ]
  },
  {
   "cell_type": "markdown",
   "metadata": {},
   "source": [
    "### Create a function to evaluate model performance\n",
    "This framework of the function is created by Aarshay Jain. I made a few adjustments for this project.\n",
    "\n",
    "**reference**: Complete Machine Learning Guide to Parameter Tuning in Gradient Boosting (GBM) in Python https://www.analyticsvidhya.com/blog/2016/02/complete-guide-parameter-tuning-gradient-boosting-gbm-python/"
   ]
  },
  {
   "cell_type": "code",
   "execution_count": 5,
   "metadata": {},
   "outputs": [],
   "source": [
    "def modelfit(alg, X_train, y_train, X_test, y_test, \n",
    "             feature_name = feature_name,\n",
    "             performCV=False, \n",
    "             printFeatureImportance=True, \n",
    "             cv_folds=5):\n",
    "    \n",
    "    \n",
    "    #Fit the algorithm on the data\n",
    "    alg.fit(X_train, y_train) # note: Disbursed is the outcomet/target (y).\n",
    "        \n",
    "    #Predict training set:\n",
    "    train_predictions = alg.predict(      X_train )\n",
    "    train_predprob    = alg.predict_proba(X_train )[:,1]\n",
    "    \n",
    "    #Predict test set:\n",
    "    test_predictions = alg.predict      (  X_test )\n",
    "    test_predprob    = alg.predict_proba(  X_test )[:,1]\n",
    "    \n",
    "    #Print model report:\n",
    "    print (\"------Training Set-------\")\n",
    "    print (\"Model Report\")\n",
    "    print (\"Accuracy : %.7g\" % accuracy_score(y_train, train_predictions) )\n",
    "    print (\"AUC Score: %.7g\" % roc_auc_score( y_train, train_predprob   ) )\n",
    "    \n",
    "    \n",
    "    #Perform cross-validation:\n",
    "    if performCV:\n",
    "        cv_score = cross_validate(alg, X_train, y_train, \n",
    "                                  cv=cv_folds, n_jobs=3, \n",
    "                                  scoring=['roc_auc','accuracy'])\n",
    "        # scoring parameter:\n",
    "        # https://scikit-learn.org/stable/modules/model_evaluation.html#scoring-parameter\n",
    "        roc_auc= cv_score['test_roc_auc']\n",
    "        acc    = cv_score['test_accuracy']\n",
    "        \n",
    "        print (\"------ CV approach using training set -------\")\n",
    "        \n",
    "        print (\"CV roc_auc : Mean - %.7g | Std - %.7g\" %( np.mean(roc_auc), np.std(roc_auc) ) \n",
    "              )\n",
    "        \n",
    "        print (\"CV accuracy: Mean - %.7g | Std - %.7g\" %( np.mean(acc), np.std(acc) )\n",
    "              )\n",
    "        \n",
    "    #Print model report:\n",
    "    print (\"------Testing Set-------\")\n",
    "    print (\"Model Report\")\n",
    "    print (\"Accuracy : %.7g\" % accuracy_score(y_test, test_predictions) )\n",
    "    print (\"AUC Score: %.7g\" % roc_auc_score( y_test, test_predprob   ) )    \n",
    "                \n",
    "    #Print Feature Importance:\n",
    "    if printFeatureImportance:\n",
    "        print (\"\\n\")\n",
    "        print (\"------Feature Importance Score based on Training Set-------\")\n",
    "        feat_imp = pd.Series(data= alg.feature_importances_, index= feature_name).sort_values(ascending=False)\n",
    "        feat_imp_filter = feat_imp[feat_imp> 0.01]\n",
    "        \n",
    "        #### Plot\n",
    "        feat_imp_filter.plot(kind='bar', title='Feature Importances')\n",
    "        plt.ylabel('Feature Importance Score')"
   ]
  },
  {
   "cell_type": "markdown",
   "metadata": {},
   "source": [
    "# Create a function to find the optimal parameter according to grid search"
   ]
  },
  {
   "cell_type": "code",
   "execution_count": 6,
   "metadata": {},
   "outputs": [],
   "source": [
    "def fnc_show_best_param(grid_search):\n",
    "    gsearch = grid_search\n",
    "    params = np.array( [x for x in gsearch.cv_results_['params']] )\n",
    "    cv_score_testset_during_cv = gsearch.cv_results_['mean_test_score']\n",
    "    my_dict= {'params':params,'cv_score_testset_during_cv': cv_score_testset_during_cv}\n",
    "    df = pd.DataFrame(my_dict).sort_values(by='cv_score_testset_during_cv',ascending=False)\n",
    "    print(df)"
   ]
  },
  {
   "cell_type": "markdown",
   "metadata": {},
   "source": [
    "# Baseline Model\n",
    "All parameters follow the default."
   ]
  },
  {
   "cell_type": "code",
   "execution_count": 7,
   "metadata": {},
   "outputs": [
    {
     "name": "stdout",
     "output_type": "stream",
     "text": [
      "------Training Set-------\n",
      "Model Report\n",
      "Accuracy : 0.9993046\n",
      "AUC Score: 0.9999978\n",
      "------Testing Set-------\n",
      "Model Report\n",
      "Accuracy : 0.8550322\n",
      "AUC Score: 0.9326611\n",
      "\n",
      "\n",
      "------Feature Importance Score based on Training Set-------\n"
     ]
    },
    {
     "data": {
      "image/png": "[encoded data removed]",
      "text/plain": [
       "<Figure size 864x288 with 1 Axes>"
      ]
     },
     "metadata": {
      "needs_background": "light"
     },
     "output_type": "display_data"
    }
   ],
   "source": [
    "rf0 = RandomForestClassifier(random_state=10)\n",
    "modelfit(rf0, X_train_scaled , y_train, X_test_scaled, y_test)"
   ]
  },
  {
   "cell_type": "markdown",
   "metadata": {},
   "source": [
    "## Hyper Parameter\n",
    "- max_depth\n",
    "- min_samples_split\n",
    "- min_impurity_decrease\n",
    "- min_samples_leaf\n",
    "- n_estimators\n",
    "- max_sample (bootstrap sample)\n",
    "- max_features"
   ]
  },
  {
   "cell_type": "markdown",
   "metadata": {},
   "source": [
    "## Select the initial parameter settings\n",
    "\n",
    "- min_samples_split = ~ 0.01 * total_observations : This should be 0.5-1% of total values.\n",
    "\n",
    "- min_samples_leaf = 50 : Can be selected based on intuition. I will tune this using cross validation.\n",
    "\n",
    "- max_features = ‘sqrt’ : Its a general thumb-rule to start with square root."
   ]
  },
  {
   "cell_type": "code",
   "execution_count": 8,
   "metadata": {},
   "outputs": [
    {
     "data": {
      "text/plain": [
       "230.09"
      ]
     },
     "execution_count": 8,
     "metadata": {},
     "output_type": "execute_result"
    }
   ],
   "source": [
    "X_train_scaled.shape[0]*0.01"
   ]
  },
  {
   "cell_type": "markdown",
   "metadata": {},
   "source": [
    "# Step 1: max_depth and n_estimators"
   ]
  },
  {
   "cell_type": "markdown",
   "metadata": {},
   "source": [
    "grind cv is using the training set"
   ]
  },
  {
   "cell_type": "code",
   "execution_count": 105,
   "metadata": {},
   "outputs": [
    {
     "data": {
      "text/plain": [
       "[10, 20, 30]"
      ]
     },
     "execution_count": 105,
     "metadata": {},
     "output_type": "execute_result"
    }
   ],
   "source": [
    "[x for x in range(10,31,10)]"
   ]
  },
  {
   "cell_type": "code",
   "execution_count": 110,
   "metadata": {},
   "outputs": [
    {
     "data": {
      "text/plain": [
       "['rf_gsearch_1.pkl']"
      ]
     },
     "execution_count": 110,
     "metadata": {},
     "output_type": "execute_result"
    }
   ],
   "source": [
    "param_test = {'max_depth':[30, 50, 100, 500, 1000] + [None], \n",
    "              'n_estimators': [100, 500, 1500, 2000]}\n",
    "\n",
    "gsearch_1 = GridSearchCV(estimator = \n",
    "                         RandomForestClassifier(\n",
    "                             # Tuned parameter\n",
    "                             \n",
    "                             # Not Tuned\n",
    "                             # n_estimators= 100,     # default\n",
    "                             min_samples_split=2,     # default\n",
    "                             min_samples_leaf =1,     # default \n",
    "                             max_features='sqrt',     # default\n",
    "                             max_leaf_nodes = None,   # default\n",
    "                             max_samples = None,      # default\n",
    "                             random_state=10), \n",
    "                         param_grid = param_test, \n",
    "                         scoring='roc_auc',\n",
    "                         n_jobs=3,\n",
    "                         cv=5)\n",
    "\n",
    "gsearch_1.fit(X_train_scaled,y_train)\n",
    "\n",
    "#### Save grid search ####\n",
    "os.chdir('C:/Users/15177/Python_Project/HR_Analysis/Data/')\n",
    "joblib.dump(gsearch_1, 'rf_gsearch_1.pkl')"
   ]
  },
  {
   "cell_type": "code",
   "execution_count": 111,
   "metadata": {},
   "outputs": [
    {
     "name": "stdout",
     "output_type": "stream",
     "text": [
      "                                       params  cv_score_testset_during_cv\n",
      "2     {'max_depth': 30, 'n_estimators': 1500}                    0.931742\n",
      "3     {'max_depth': 30, 'n_estimators': 2000}                    0.931736\n",
      "1      {'max_depth': 30, 'n_estimators': 500}                    0.931548\n",
      "0      {'max_depth': 30, 'n_estimators': 100}                    0.930622\n",
      "7     {'max_depth': 50, 'n_estimators': 2000}                    0.930107\n",
      "11   {'max_depth': 100, 'n_estimators': 2000}                    0.930023\n",
      "19  {'max_depth': 1000, 'n_estimators': 2000}                    0.930023\n",
      "15   {'max_depth': 500, 'n_estimators': 2000}                    0.930023\n",
      "23  {'max_depth': None, 'n_estimators': 2000}                    0.930023\n",
      "6     {'max_depth': 50, 'n_estimators': 1500}                    0.930014\n",
      "10   {'max_depth': 100, 'n_estimators': 1500}                    0.929990\n",
      "14   {'max_depth': 500, 'n_estimators': 1500}                    0.929990\n",
      "18  {'max_depth': 1000, 'n_estimators': 1500}                    0.929990\n",
      "22  {'max_depth': None, 'n_estimators': 1500}                    0.929990\n",
      "5      {'max_depth': 50, 'n_estimators': 500}                    0.929857\n",
      "9     {'max_depth': 100, 'n_estimators': 500}                    0.929710\n",
      "13    {'max_depth': 500, 'n_estimators': 500}                    0.929710\n",
      "17   {'max_depth': 1000, 'n_estimators': 500}                    0.929710\n",
      "21   {'max_depth': None, 'n_estimators': 500}                    0.929710\n",
      "4      {'max_depth': 50, 'n_estimators': 100}                    0.928607\n",
      "8     {'max_depth': 100, 'n_estimators': 100}                    0.928499\n",
      "16   {'max_depth': 1000, 'n_estimators': 100}                    0.928499\n",
      "20   {'max_depth': None, 'n_estimators': 100}                    0.928499\n",
      "12    {'max_depth': 500, 'n_estimators': 100}                    0.928499\n"
     ]
    }
   ],
   "source": [
    "### Read grid search results ####\n",
    "gsearch_1 = joblib.load(\"rf_gsearch_1.pkl\")\n",
    "fnc_show_best_param(gsearch_1)"
   ]
  },
  {
   "cell_type": "markdown",
   "metadata": {},
   "source": [
    "#### Great! Let's do fine grid search"
   ]
  },
  {
   "cell_type": "code",
   "execution_count": 118,
   "metadata": {},
   "outputs": [
    {
     "data": {
      "text/plain": [
       "['rf_gsearch_1_1.pkl']"
      ]
     },
     "execution_count": 118,
     "metadata": {},
     "output_type": "execute_result"
    }
   ],
   "source": [
    "param_test = {'max_depth':[25,30,35,40], \n",
    "              'n_estimators': [1400, 1500, 1600, 1700, 1800, 1900, 2000]}\n",
    "\n",
    "gsearch_1_1 = GridSearchCV(estimator = \n",
    "                         RandomForestClassifier(\n",
    "                             # Tuned parameter\n",
    "                             \n",
    "                             # Not Tuned\n",
    "                             # n_estimators= 100,     # default\n",
    "                             min_samples_split=2,     # default\n",
    "                             min_samples_leaf =1,     # default \n",
    "                             max_features='sqrt',     # default\n",
    "                             max_leaf_nodes = None,   # default\n",
    "                             max_samples = None,      # default\n",
    "                             random_state=10), \n",
    "                         param_grid = param_test, \n",
    "                         scoring='roc_auc',\n",
    "                         n_jobs=3,\n",
    "                         cv=5)\n",
    "\n",
    "gsearch_1_1.fit(X_train_scaled,y_train)\n",
    "\n",
    "#### Save grid search ####\n",
    "os.chdir('C:/Users/15177/Python_Project/HR_Analysis/Data/')\n",
    "joblib.dump(gsearch_1_1, 'rf_gsearch_1_1.pkl')"
   ]
  },
  {
   "cell_type": "code",
   "execution_count": 120,
   "metadata": {},
   "outputs": [
    {
     "name": "stdout",
     "output_type": "stream",
     "text": [
      "                                     params  cv_score_testset_during_cv\n",
      "9   {'max_depth': 30, 'n_estimators': 1600}                    0.931748\n",
      "6   {'max_depth': 25, 'n_estimators': 2000}                    0.931746\n",
      "8   {'max_depth': 30, 'n_estimators': 1500}                    0.931742\n",
      "13  {'max_depth': 30, 'n_estimators': 2000}                    0.931736\n",
      "10  {'max_depth': 30, 'n_estimators': 1700}                    0.931732\n",
      "11  {'max_depth': 30, 'n_estimators': 1800}                    0.931730\n",
      "5   {'max_depth': 25, 'n_estimators': 1900}                    0.931728\n",
      "7   {'max_depth': 30, 'n_estimators': 1400}                    0.931722\n",
      "12  {'max_depth': 30, 'n_estimators': 1900}                    0.931719\n",
      "3   {'max_depth': 25, 'n_estimators': 1700}                    0.931703\n",
      "4   {'max_depth': 25, 'n_estimators': 1800}                    0.931700\n",
      "1   {'max_depth': 25, 'n_estimators': 1500}                    0.931687\n",
      "2   {'max_depth': 25, 'n_estimators': 1600}                    0.931678\n",
      "0   {'max_depth': 25, 'n_estimators': 1400}                    0.931622\n",
      "20  {'max_depth': 35, 'n_estimators': 2000}                    0.931203\n",
      "19  {'max_depth': 35, 'n_estimators': 1900}                    0.931179\n",
      "18  {'max_depth': 35, 'n_estimators': 1800}                    0.931143\n",
      "17  {'max_depth': 35, 'n_estimators': 1700}                    0.931120\n",
      "16  {'max_depth': 35, 'n_estimators': 1600}                    0.931088\n",
      "15  {'max_depth': 35, 'n_estimators': 1500}                    0.931084\n",
      "14  {'max_depth': 35, 'n_estimators': 1400}                    0.931083\n",
      "27  {'max_depth': 40, 'n_estimators': 2000}                    0.930679\n",
      "26  {'max_depth': 40, 'n_estimators': 1900}                    0.930636\n",
      "25  {'max_depth': 40, 'n_estimators': 1800}                    0.930610\n",
      "24  {'max_depth': 40, 'n_estimators': 1700}                    0.930569\n",
      "23  {'max_depth': 40, 'n_estimators': 1600}                    0.930562\n",
      "22  {'max_depth': 40, 'n_estimators': 1500}                    0.930545\n",
      "21  {'max_depth': 40, 'n_estimators': 1400}                    0.930518\n"
     ]
    }
   ],
   "source": [
    "### Read grid search results ####\n",
    "gsearch_1_1 = joblib.load(\"rf_gsearch_1_1.pkl\")\n",
    "fnc_show_best_param(gsearch_1_1)"
   ]
  },
  {
   "cell_type": "markdown",
   "metadata": {},
   "source": [
    "# Step 2: min_samples_split"
   ]
  },
  {
   "cell_type": "code",
   "execution_count": 121,
   "metadata": {},
   "outputs": [
    {
     "data": {
      "text/plain": [
       "[2, 50, 100, 150, 200, 250, 300, 350, 400, 450, 500]"
      ]
     },
     "execution_count": 121,
     "metadata": {},
     "output_type": "execute_result"
    }
   ],
   "source": [
    "[2] + [x for x in range(50,501,50)]"
   ]
  },
  {
   "cell_type": "code",
   "execution_count": 124,
   "metadata": {},
   "outputs": [
    {
     "data": {
      "text/plain": [
       "['rf_gsearch_2.pkl']"
      ]
     },
     "execution_count": 124,
     "metadata": {},
     "output_type": "execute_result"
    }
   ],
   "source": [
    "param_test = {'min_samples_split': [2] + [x for x in range(50,501,50)] }\n",
    "\n",
    "gsearch_2 = GridSearchCV(estimator = \n",
    "                         RandomForestClassifier(\n",
    "                             # Tuned parameter\n",
    "                             max_depth= 30, \n",
    "                             n_estimators= 1600,\n",
    "                             \n",
    "                             # Not Tuned\n",
    "                             min_samples_leaf =1,     # default \n",
    "                             max_features='sqrt',     # default\n",
    "                             max_leaf_nodes = None,   # default\n",
    "                             max_samples = None,      # default\n",
    "                             random_state=10),\n",
    "                         param_grid = param_test, \n",
    "                         scoring='roc_auc',\n",
    "                         n_jobs=-1,\n",
    "                         cv=5)\n",
    "\n",
    "gsearch_2.fit(X_train_scaled,y_train)\n",
    "\n",
    "#### Save grid search ####\n",
    "os.chdir('C:/Users/15177/Python_Project/HR_Analysis/Data/')\n",
    "joblib.dump(gsearch_2, 'rf_gsearch_2.pkl')"
   ]
  },
  {
   "cell_type": "code",
   "execution_count": 125,
   "metadata": {},
   "outputs": [
    {
     "name": "stdout",
     "output_type": "stream",
     "text": [
      "                        params  cv_score_testset_during_cv\n",
      "0     {'min_samples_split': 2}                    0.931748\n",
      "1    {'min_samples_split': 50}                    0.930948\n",
      "2   {'min_samples_split': 100}                    0.928353\n",
      "3   {'min_samples_split': 150}                    0.926256\n",
      "4   {'min_samples_split': 200}                    0.924270\n",
      "5   {'min_samples_split': 250}                    0.922504\n",
      "6   {'min_samples_split': 300}                    0.921026\n",
      "7   {'min_samples_split': 350}                    0.919509\n",
      "8   {'min_samples_split': 400}                    0.918116\n",
      "9   {'min_samples_split': 450}                    0.916904\n",
      "10  {'min_samples_split': 500}                    0.915593\n"
     ]
    }
   ],
   "source": [
    "#### Read grid search results ####\n",
    "gsearch_2 = joblib.load(\"rf_gsearch_2.pkl\")\n",
    "fnc_show_best_param(gsearch_2)"
   ]
  },
  {
   "cell_type": "code",
   "execution_count": 128,
   "metadata": {},
   "outputs": [
    {
     "name": "stderr",
     "output_type": "stream",
     "text": [
      "C:\\Users\\15177\\Anaconda3\\lib\\site-packages\\sklearn\\model_selection\\_search.py:918: UserWarning: One or more of the test scores are non-finite: [       nan 0.9317476  0.9329489  0.93313023 0.93261455 0.93208923\n",
      " 0.93155404 0.93094829]\n"
     ]
    },
    {
     "data": {
      "text/plain": [
       "['gsearch_2_1.pkl']"
      ]
     },
     "execution_count": 128,
     "metadata": {},
     "output_type": "execute_result"
    }
   ],
   "source": [
    "param_test = {'min_samples_split': [0,2,6,10,20,30,40,50] }\n",
    "\n",
    "gsearch_2_1 = GridSearchCV(estimator = \n",
    "                         RandomForestClassifier(\n",
    "                             # Tuned parameter\n",
    "                             max_depth= 30, \n",
    "                             n_estimators= 1600,\n",
    "                             \n",
    "                             # Not Tuned\n",
    "                             max_features='sqrt',     # default\n",
    "                             max_leaf_nodes = None,   # default\n",
    "                             max_samples = None,      # default\n",
    "                             random_state=10),\n",
    "                         param_grid = param_test, \n",
    "                         scoring='roc_auc',\n",
    "                         n_jobs=-1,\n",
    "                         cv=5)\n",
    "\n",
    "gsearch_2_1.fit(X_train_scaled,y_train)\n",
    "\n",
    "#### Save grid search ####\n",
    "os.chdir('C:/Users/15177/Python_Project/HR_Analysis/Data/')\n",
    "joblib.dump(gsearch_2_1, 'rf_gsearch_2_1.pkl')"
   ]
  },
  {
   "cell_type": "code",
   "execution_count": 134,
   "metadata": {},
   "outputs": [
    {
     "name": "stdout",
     "output_type": "stream",
     "text": [
      "                      params  cv_score_testset_during_cv\n",
      "3  {'min_samples_split': 10}                    0.933130\n",
      "2   {'min_samples_split': 6}                    0.932949\n",
      "4  {'min_samples_split': 20}                    0.932615\n",
      "5  {'min_samples_split': 30}                    0.932089\n",
      "1   {'min_samples_split': 2}                    0.931748\n",
      "6  {'min_samples_split': 40}                    0.931554\n",
      "7  {'min_samples_split': 50}                    0.930948\n",
      "0   {'min_samples_split': 0}                         NaN\n"
     ]
    }
   ],
   "source": [
    "#### Read grid search results ####\n",
    "gsearch_2_1 = joblib.load(\"rf_earch_2_1.pkl\")\n",
    "fnc_show_best_param(gsearch_2_1)"
   ]
  },
  {
   "cell_type": "markdown",
   "metadata": {},
   "source": [
    "# Step 3: max_leaf_nodes  and min_impurity_decrease "
   ]
  },
  {
   "cell_type": "code",
   "execution_count": 16,
   "metadata": {},
   "outputs": [
    {
     "data": {
      "text/plain": [
       "['rf_gsearch_3.pkl']"
      ]
     },
     "execution_count": 16,
     "metadata": {},
     "output_type": "execute_result"
    }
   ],
   "source": [
    "param_test = {'max_leaf_nodes': [None, 1000, 3000],\n",
    "             'min_impurity_decrease': [0, 0.1, 1e-20]}\n",
    "\n",
    "gsearch_3 = GridSearchCV(estimator = \n",
    "                         RandomForestClassifier(\n",
    "                             # Tuned parameter\n",
    "                             max_depth= 30, \n",
    "                             n_estimators= 1600,\n",
    "                             min_samples_split = 10,\n",
    "                             \n",
    "                             # Not Tuned\n",
    "                             max_features='sqrt',     # default\n",
    "                             max_samples = None,      # default\n",
    "                             random_state=10),\n",
    "                         param_grid = param_test, \n",
    "                         scoring='roc_auc',\n",
    "                         n_jobs=3,\n",
    "                         cv=5)\n",
    "\n",
    "gsearch_3.fit(X_train_scaled, y_train)\n",
    "\n",
    "#### Save grid search ####\n",
    "os.chdir('C:/Users/15177/Python_Project/HR_Analysis/Data/')\n",
    "joblib.dump(gsearch_3, 'rf_gsearch_3.pkl')"
   ]
  },
  {
   "cell_type": "code",
   "execution_count": 17,
   "metadata": {},
   "outputs": [
    {
     "name": "stdout",
     "output_type": "stream",
     "text": [
      "                                                     params  \\\n",
      "0      {'max_leaf_nodes': None, 'min_impurity_decrease': 0}   \n",
      "2  {'max_leaf_nodes': None, 'min_impurity_decrease': 1e-20}   \n",
      "6      {'max_leaf_nodes': 3000, 'min_impurity_decrease': 0}   \n",
      "8  {'max_leaf_nodes': 3000, 'min_impurity_decrease': 1e-20}   \n",
      "3      {'max_leaf_nodes': 1000, 'min_impurity_decrease': 0}   \n",
      "5  {'max_leaf_nodes': 1000, 'min_impurity_decrease': 1e-20}   \n",
      "1    {'max_leaf_nodes': None, 'min_impurity_decrease': 0.1}   \n",
      "4    {'max_leaf_nodes': 1000, 'min_impurity_decrease': 0.1}   \n",
      "7    {'max_leaf_nodes': 3000, 'min_impurity_decrease': 0.1}   \n",
      "\n",
      "   cv_score_testset_during_cv  \n",
      "0                    0.933130  \n",
      "2                    0.933130  \n",
      "6                    0.933017  \n",
      "8                    0.933017  \n",
      "3                    0.932530  \n",
      "5                    0.932530  \n",
      "1                    0.500000  \n",
      "4                    0.500000  \n",
      "7                    0.500000  \n"
     ]
    }
   ],
   "source": [
    "#### Read grid search results ####\n",
    "gsearch_3 = joblib.load(\"rf_gsearch_3.pkl\")\n",
    "fnc_show_best_param(gsearch_3)"
   ]
  },
  {
   "cell_type": "markdown",
   "metadata": {},
   "source": [
    "### max_leaf_nodes': None, 'min_impurity_decrease': 0 is the best combination"
   ]
  },
  {
   "cell_type": "markdown",
   "metadata": {},
   "source": [
    "# Step 4: min_samples_leaf\n"
   ]
  },
  {
   "cell_type": "code",
   "execution_count": 18,
   "metadata": {},
   "outputs": [
    {
     "data": {
      "text/plain": [
       "['rf_gsearch_4.pkl']"
      ]
     },
     "execution_count": 18,
     "metadata": {},
     "output_type": "execute_result"
    }
   ],
   "source": [
    "param_test = {'min_samples_leaf': range(1,10,1)}\n",
    "\n",
    "gsearch_4 = GridSearchCV(estimator = \n",
    "                         RandomForestClassifier(\n",
    "                             # Tuned parameter\n",
    "                             max_depth= 30, \n",
    "                             n_estimators= 1600,\n",
    "                             min_samples_split = 10,\n",
    "                             max_leaf_nodes=None,\n",
    "                             min_impurity_decrease=0,\n",
    "                             \n",
    "                             # Not Tuned\n",
    "                             max_features='sqrt',     # default\n",
    "                             max_samples = None,      # default\n",
    "                             random_state=10),\n",
    "                         param_grid = param_test, \n",
    "                         scoring='roc_auc',\n",
    "                         n_jobs=3,\n",
    "                         cv=5)\n",
    "gsearch_4.fit(X_train_scaled,y_train)\n",
    "\n",
    "#### Save grid search ####\n",
    "os.chdir('C:/Users/15177/Python_Project/HR_Analysis/Data/')\n",
    "joblib.dump(gsearch_4, 'rf_gsearch_4.pkl')"
   ]
  },
  {
   "cell_type": "code",
   "execution_count": 19,
   "metadata": {},
   "outputs": [
    {
     "name": "stdout",
     "output_type": "stream",
     "text": [
      "                    params  cv_score_testset_during_cv\n",
      "0  {'min_samples_leaf': 1}                    0.933130\n",
      "1  {'min_samples_leaf': 2}                    0.931395\n",
      "2  {'min_samples_leaf': 3}                    0.929610\n",
      "3  {'min_samples_leaf': 4}                    0.927985\n",
      "4  {'min_samples_leaf': 5}                    0.926578\n",
      "5  {'min_samples_leaf': 6}                    0.925514\n",
      "6  {'min_samples_leaf': 7}                    0.924443\n",
      "7  {'min_samples_leaf': 8}                    0.923530\n",
      "8  {'min_samples_leaf': 9}                    0.922641\n"
     ]
    }
   ],
   "source": [
    "#### Read grid search results ####\n",
    "gsearch_4 = joblib.load(\"rf_gsearch_4.pkl\")\n",
    "fnc_show_best_param(gsearch_4)"
   ]
  },
  {
   "cell_type": "markdown",
   "metadata": {},
   "source": [
    "# Step 5: max_samples\n"
   ]
  },
  {
   "cell_type": "code",
   "execution_count": 24,
   "metadata": {},
   "outputs": [
    {
     "data": {
      "text/plain": [
       "[None, range(9500, 17501, 1000)]"
      ]
     },
     "execution_count": 24,
     "metadata": {},
     "output_type": "execute_result"
    }
   ],
   "source": [
    "[None] +[range(9500,17501,1000)] "
   ]
  },
  {
   "cell_type": "code",
   "execution_count": 27,
   "metadata": {},
   "outputs": [
    {
     "data": {
      "text/plain": [
       "['rf_gsearch_5.pkl']"
      ]
     },
     "execution_count": 27,
     "metadata": {},
     "output_type": "execute_result"
    }
   ],
   "source": [
    "param_test = {'max_samples': [None] +[x for x in range(10000,17501,3000)]  }\n",
    "\n",
    "gsearch_5 =  GridSearchCV(estimator = \n",
    "                         RandomForestClassifier(\n",
    "                             # Tuned parameter\n",
    "                             max_depth= 30, \n",
    "                             n_estimators= 1600,\n",
    "                             min_samples_split = 10,\n",
    "                             max_leaf_nodes=None,\n",
    "                             min_impurity_decrease=0,\n",
    "                             min_samples_leaf=1, \n",
    "                             \n",
    "                             # Not Tuned\n",
    "                             max_features='sqrt',     # default\n",
    "                             max_samples = None,      # default\n",
    "                             random_state=10),\n",
    "                         param_grid = param_test, \n",
    "                         scoring='roc_auc',\n",
    "                         n_jobs=3,\n",
    "                         cv=5)\n",
    "\n",
    "gsearch_5.fit(X_train_scaled,y_train)\n",
    "\n",
    "#### Save grid search ####\n",
    "os.chdir('C:/Users/15177/Python_Project/HR_Analysis/Data/')\n",
    "joblib.dump(gsearch_5, 'rf_gsearch_5.pkl')"
   ]
  },
  {
   "cell_type": "code",
   "execution_count": 28,
   "metadata": {},
   "outputs": [
    {
     "name": "stdout",
     "output_type": "stream",
     "text": [
      "                   params  cv_score_testset_during_cv\n",
      "0   {'max_samples': None}                    0.933130\n",
      "3  {'max_samples': 16000}                    0.932825\n",
      "2  {'max_samples': 13000}                    0.932516\n",
      "1  {'max_samples': 10000}                    0.931950\n"
     ]
    }
   ],
   "source": [
    "#### Read grid search results ####\n",
    "gsearch_5 = joblib.load(\"rf_gsearch_5.pkl\")\n",
    "fnc_show_best_param(gsearch_5)"
   ]
  },
  {
   "cell_type": "markdown",
   "metadata": {},
   "source": [
    "# Step 6: max_features"
   ]
  },
  {
   "cell_type": "code",
   "execution_count": 32,
   "metadata": {},
   "outputs": [
    {
     "data": {
      "text/plain": [
       "12.36931687685298"
      ]
     },
     "execution_count": 32,
     "metadata": {},
     "output_type": "execute_result"
    }
   ],
   "source": [
    "np.sqrt(X_train_scaled.shape[1])"
   ]
  },
  {
   "cell_type": "code",
   "execution_count": 33,
   "metadata": {},
   "outputs": [
    {
     "data": {
      "text/plain": [
       "['gsearch_6.pkl']"
      ]
     },
     "execution_count": 33,
     "metadata": {},
     "output_type": "execute_result"
    }
   ],
   "source": [
    "param_test = {'max_features': range(9,16,1)}\n",
    "\n",
    "gsearch_6 = GridSearchCV(estimator = \n",
    "                         RandomForestClassifier(\n",
    "                             # Tuned parameter\n",
    "                             max_depth= 30, \n",
    "                             n_estimators= 1600,\n",
    "                             min_samples_split = 10,\n",
    "                             max_leaf_nodes=None,\n",
    "                             min_impurity_decrease=0,\n",
    "                             min_samples_leaf=1, \n",
    "                             max_samples= None,\n",
    "                             \n",
    "                             # Not Tuned\n",
    "                             random_state=10),\n",
    "                         param_grid = param_test, \n",
    "                         scoring='roc_auc',\n",
    "                         n_jobs=-1,\n",
    "                         cv=5)\n",
    "\n",
    "gsearch_6.fit(X_train_scaled,y_train)\n",
    "\n",
    "#### Save grid search ####\n",
    "os.chdir('C:/Users/15177/Python_Project/HR_Analysis/Data/')\n",
    "joblib.dump(gsearch_6, 'rf_gsearch_6.pkl')"
   ]
  },
  {
   "cell_type": "code",
   "execution_count": 34,
   "metadata": {},
   "outputs": [
    {
     "name": "stdout",
     "output_type": "stream",
     "text": [
      "                 params  cv_score_testset_during_cv\n",
      "3  {'max_features': 12}                    0.933130\n",
      "5  {'max_features': 14}                    0.933079\n",
      "6  {'max_features': 15}                    0.933077\n",
      "2  {'max_features': 11}                    0.933074\n",
      "4  {'max_features': 13}                    0.933068\n",
      "1  {'max_features': 10}                    0.933037\n",
      "0   {'max_features': 9}                    0.932749\n"
     ]
    }
   ],
   "source": [
    "#### Read grid search results ####\n",
    "gsearch_6 = joblib.load(\"rf_gsearch_6.pkl\")\n",
    "fnc_show_best_param(gsearch_6)"
   ]
  },
  {
   "cell_type": "markdown",
   "metadata": {},
   "source": [
    "# Evaludate the Final model using the testing set"
   ]
  },
  {
   "cell_type": "code",
   "execution_count": 31,
   "metadata": {},
   "outputs": [
    {
     "name": "stdout",
     "output_type": "stream",
     "text": [
      "------Training Set-------\n",
      "Model Report\n",
      "Accuracy : 0.9286801\n",
      "AUC Score: 0.9848681\n",
      "------Testing Set-------\n",
      "Model Report\n",
      "Accuracy : 0.8604207\n",
      "AUC Score: 0.9370609\n",
      "\n",
      "\n",
      "------Feature Importance Score based on Training Set-------\n"
     ]
    },
    {
     "data": {
      "image/png": "[encoded data removed]",
      "text/plain": [
       "<Figure size 864x288 with 1 Axes>"
      ]
     },
     "metadata": {
      "needs_background": "light"
     },
     "output_type": "display_data"
    }
   ],
   "source": [
    "modelfit(gsearch_6.best_estimator_, X_train_scaled , y_train, X_test_scaled, y_test)"
   ]
  },
  {
   "cell_type": "markdown",
   "metadata": {},
   "source": [
    "# End"
   ]
  },
  {
   "cell_type": "code",
   "execution_count": null,
   "metadata": {},
   "outputs": [],
   "source": []
  }
 ],
 "metadata": {
  "kernelspec": {
   "display_name": "Python 3",
   "language": "python",
   "name": "python3"
  },
  "language_info": {
   "codemirror_mode": {
    "name": "ipython",
    "version": 3
   },
   "file_extension": ".py",
   "mimetype": "text/x-python",
   "name": "python",
   "nbconvert_exporter": "python",
   "pygments_lexer": "ipython3",
   "version": "3.8.5"
  }
 },
 "nbformat": 4,
 "nbformat_minor": 4
}
